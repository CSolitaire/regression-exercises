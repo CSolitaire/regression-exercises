{
 "cells": [
  {
   "cell_type": "markdown",
   "metadata": {},
   "source": [
    "# Regression Project: Estimating Home Value"
   ]
  },
  {
   "cell_type": "markdown",
   "metadata": {},
   "source": [
    "*Welcome to the Ryan's Codeup Data Science MVP template! The sections in this notebook are here to help you organize your data science project into a clear workflow. The text in the markdown cells is there to help you understand the goals at each stage. Follow their instructions to move your work along, and then delete the prompts when you're done.*\n",
    "\n",
    "*Finish the mvp workflow and then go back and think critically about what you might of missed. The point isn't to doubt yourself; the purpose here is to check your blind spots and see if you can't find more information or insights that will help you to deliver better results.*\n",
    "\n",
    "*Better yet, and this cannot be stressed enough, don't ask **yourself** these questions, but bring them up in conversation with peers, experts in other fields, or even complete strangers -- anyone with a different point of view is going to be able to help you to see what things you are taking for granted.*"
   ]
  },
  {
   "cell_type": "markdown",
   "metadata": {},
   "source": [
    "## Summary\n",
    "\n",
    "*What are you going to do and how are you going to do it? Write out your thoughts here in a way that you can easily explain your work to members on your team.*\n",
    "\n",
    "*This is your space to put together the elevator pitch for your project, and then follow it up with a plan of attack. It's going to be short, but that doesn't mean you won't need to spend much time putting it together -- this is a process of dropping the bad ideas until you're left with something that you are confident you can work with.*\n",
    "\n",
    "*Don't take shortcuts here; coming up with a useful question and a straightforward work plan is going to make the rest of your project flow much more smoothly from start to finish.*\n",
    "\n",
    "*One final, and very important, point: the main reason for thinking about this stage as how you're going to describe your work to others is that you should be talking about work with others!!! The more you work on your project in isolation, the better your ideas will sound to you -- even the bad ones. Listening to your ideas spoken out loud in your own voice is an excellent sanity check, and feedback from your peers is your most valuable resource.*\n",
    "\n",
    "**You don't have to answer every question, but answer each that you can now and then come back later. Also, if the question doesn't apply, remove it.**"
   ]
  },
  {
   "cell_type": "markdown",
   "metadata": {},
   "source": [
    "<div class=\"alert alert-block alert-success\"></div>"
   ]
  },
  {
   "cell_type": "code",
   "execution_count": null,
   "metadata": {},
   "outputs": [],
   "source": []
  },
  {
   "cell_type": "markdown",
   "metadata": {},
   "source": [
    "<div class=\"alert alert-block alert-success\"></div>"
   ]
  },
  {
   "cell_type": "markdown",
   "metadata": {},
   "source": [
    "### Problem Statement\n",
    "\n",
    "*Think about the problem you are trying to solve as a business case. After you've built your model, who is going to use it and what will they do with it? Who are your customers and stakeholders and what is their need? The need is not the data they are trying to understand -- think of the need as a specific action they would like to take or a question they want to answer.*\n",
    "\n",
    "*What is your model going to **do** in the real world? If you can answer this, and if you keep that answer in mind as you complete your work, you will have a much clearer view of where to go at each step.*\n",
    "\n",
    "* Who are your customers?\n",
    "* What is the problem?\n",
    "* What solution do you propose?\n",
    "* How will you know if your work is good?\n",
    "\n",
    "*Also, think critacally here. If someone was paying you to do this work, what would they want you to build.*"
   ]
  },
  {
   "cell_type": "markdown",
   "metadata": {},
   "source": [
    "<div class=\"alert alert-block alert-success\"></div>"
   ]
  },
  {
   "cell_type": "markdown",
   "metadata": {},
   "source": [
    "**Stakeholders**\n",
    "Zillow Data Science Team (We are Jr. Data Science Team Members)\n",
    "\n",
    "**Problem:**\n",
    "Need a way to predict the values of single unit properties between the months of May and June 2017.\n",
    "    - What are the drivers of single unit property values (Model Features)\n",
    "    - How do you know that these drivers have signficiance (Significance Tests)\n",
    "  \n",
    "**Deliverables**\n",
    "1. Regression model built on property data between May and June 2017\n",
    "    - Can **NOT** use Tax Amount in Model\n",
    "    \n",
    "    \n",
    "2. Data Frame that Contains properties by County and State\n",
    "\n",
    "\n",
    "3. Distribution of Tax Rates per County (Min/Median/Max) histogram as visual ?\n",
    "    - Tax Amount\n",
    "    - Tax Value \n",
    "    \n",
    "    \n",
    "4. Presentation (To Board of Directors)\n",
    "    - 3-5 Slides\n",
    "      -Intro\n",
    "      -3 Body\n",
    "        - Visuals (2-3)\n",
    "      -Conclusion\n",
    "      \n",
    "      \n",
    "5. Jupyter Notebook:\n",
    "   -Data Science Pipeline:\n",
    "      - Plan \n",
    "      - Acquire\n",
    "      - Prepare\n",
    "        - Data Manipulation / Feature Engeneering\n",
    "        - Split\n",
    "        - Scale\n",
    "        - Document Process / Takaway\n",
    "      - Explore (Split)\n",
    "        - Visualizations\n",
    "          - All combinations of variables in some way.....\n",
    "          - What independent variables are correlated with the dependents\n",
    "          - What independent variables are correlated with other independent variables\n",
    "        - Stats Test (1 Manditory but 2 suggested)\n",
    "          - T-Test\n",
    "          - R Squared Correlation\n",
    "        - Variable Selection\n",
    "        - Document Takeaways\n",
    "          - Good Summary (Emphasized in Project Outline)\n",
    "      - Model (Scaled)\n",
    "        - Model that beats Baseline and contains 3 features (MVP)\n",
    "          - square feet of home (Most likely will need to calcluate w/Feature Engineering)\n",
    "          - number of bedrooms\n",
    "          - number of bathrooms\n",
    "        - Document Takeaways\n",
    "          - Which features should be included in your model?\n",
    "          - Are there new features you could create based on existing features that might be helpful?\n",
    "          - Are there any features that aren't adding much value?\n",
    "      - Delivery\n",
    "      \n",
    "      \n",
    "6. README.md\n",
    "  - Data Dictionary\n",
    "    - Explain features, and why some were chosen\n",
    "    - Details about data prep\n",
    "\n",
    "\n"
   ]
  },
  {
   "cell_type": "markdown",
   "metadata": {},
   "source": [
    "<div class=\"alert alert-block alert-success\"></div>"
   ]
  },
  {
   "cell_type": "markdown",
   "metadata": {},
   "source": [
    "### Work Plan\n",
    "\n",
    "*Now that you have a clear idea of what you are trying to accomplish, you need to find a data source. Think of this as working through a maze forwards and backwards at the same time. At the start you have any number of data sets available to work with (and the whole Internet to search and scrape), and at the end is the hypothetical data set that would answer your question immediately if you had it.*\n",
    "\n",
    "* What data, if you had it, would solve your problem right away?\n",
    "* What data do you have access to?\n",
    "* What additional data would be good to have?\n",
    "* What data would be impossible to collect?\n",
    "* What are the best proxies you can find for unavailable or impossible data?\n",
    "* What are the legal or ethical issues you might run into if you were to try to collect all of the types of data you would like to work with?\n",
    "\n",
    "*Of course you need to make a plan to turn your data into the solutions you need. Think of what type of problem this is, what models are commonly used for those types of problems, what types of data those models require and special considerations that may need to be made. Do your homework and find out what approaches other people are using on similar tasks.*\n",
    "\n",
    "* What ML paradigm are you working in? (Classification, Regression, Clustering, etc)\n",
    "* What models are commonly used in this task?\n",
    "* What other solutions are being tried in this field?\n",
    "* What special considerations need to be taken when dealing with these models? (i.e., imbalanced classes, text preprocessing, data leakage, etc)\n",
    "* How will you know that your models work?\n",
    "* How will you recognize and diagnose cases where the predictions are incorrect?"
   ]
  },
  {
   "cell_type": "code",
   "execution_count": null,
   "metadata": {},
   "outputs": [],
   "source": []
  },
  {
   "cell_type": "markdown",
   "metadata": {},
   "source": [
    "**Planning:**\n",
    " - Sat (Notebook Setup)\n",
    "   - acquire.py\n",
    "     - Import from SQL single unit houses between May and June 2007\n",
    "     - Wrote SQL Querry for Count and Tax Questions but they are not yet in notebook\n",
    "   - prepare\n",
    "     - Code from class (Maggie) sets up df, x_train_explore, x_train_model(Scaled)\n",
    "   - explore \n",
    "     - Plot Variable Pairs()\n",
    "     - plot_categorical_and_continuous_vars()\n",
    "   - model\n",
    "     - select_kbest()\n",
    "     - select_rfe()\n",
    "     - eval_linear_model()\n",
    "   - mvp.ipynb\n",
    "     - Outline\n",
    "     \n",
    "     \n",
    " - Sun (Data Prepareation) - Goal is a Clean Data Set For Exploration Monday\n",
    "   - Explore Data\n",
    "     - Identify Featues for Feature Engeneering\n",
    "       - Featues to Add\n",
    "       - Featues of Remove\n",
    "       - Null Values\n",
    "       - Data Validation\n",
    "       \n",
    "       \n",
    " - Mon (README / MVP)\n",
    " \n",
    " \n",
    " - Tue (Model / Round 2)\n",
    " \n",
    " \n",
    " - Wed (Edits / Project \n",
    " \n",
    "   - Goal is to work only 1/2 Day\n",
    " \n",
    " - Thur\n",
    "   - Presentations Due (Only Practice On Delivery)"
   ]
  },
  {
   "cell_type": "code",
   "execution_count": null,
   "metadata": {},
   "outputs": [],
   "source": []
  },
  {
   "cell_type": "markdown",
   "metadata": {},
   "source": [
    "## Imports\n",
    "\n",
    "*Keep all your imports in one place. This will make it much easier to see everything that you are using*"
   ]
  },
  {
   "cell_type": "code",
   "execution_count": 1,
   "metadata": {},
   "outputs": [],
   "source": [
    "import src.acquire\n",
    "import src.prepare\n",
    "import src.explore\n",
    "import src.model\n",
    "\n",
    "import warnings\n",
    "warnings.filterwarnings(\"ignore\")"
   ]
  },
  {
   "cell_type": "markdown",
   "metadata": {},
   "source": [
    "## Acquire the Data\n",
    "\n",
    "### Data Pipeline\n",
    "\n",
    "*This is where you describe the ETL (Extract, Transform, Load) process. Describe the actions you will need to take to obtain the data from where it is stored, and convert it into a clean format. Also be aware of how the available data is likely to change over time -- how often will it be updated, and how long will the available data be relevant?*\n",
    "\n",
    "*After completing this step, be sure to edit the README data dictionary to include descriptions of where you obtained your data and what information it contains.*"
   ]
  },
  {
   "cell_type": "markdown",
   "metadata": {},
   "source": [
    "### Create your Pipeline Tools\n",
    "\n",
    "*Your work is going to be far less useful if anyone who wants to use it or build on it is going to have to put together a new data set from scratch. Automate everything that you possibly can. (And if you don't think it can be automated, ask your peers and check Google to see what's out there.)*\n",
    "\n",
    "*The pipeline tools will connect to data sources, create local directories to store the data, download the data, clean it, reformat it, and store it. In the following step, \"Run the Pipeline,\" you'll write a function that uses all of these tools to build your data set in one line of code.*\n",
    "\n",
    "*Make sure these steps are reproducible by code. Put some thought into the directory structures and filepaths you are using to save your data, so it's easy to load files you need.*"
   ]
  },
  {
   "cell_type": "code",
   "execution_count": 2,
   "metadata": {},
   "outputs": [],
   "source": [
    "# Write functions that form a data pipeline from your source to data/raw\n",
    "# Once that is done move the functions to acquire.py"
   ]
  },
  {
   "cell_type": "markdown",
   "metadata": {},
   "source": [
    "### Prove it Works\n",
    "\n",
    "*Once your tools are built (and are working reliably!!), you'll be able to work much faster if they're out of sight. Collaborators and data scientists who build on your work will also be much more productive if you provide easy access to the data. So do yourself and your team a favor, and package your pipeline tools into a single function that can easily reproduce your working data set. This is what our run function in acquire is for.*\n",
    "\n",
    "*Also a helpful thing to remember is to set this function up so that when you re-run the pipeline, it checks whether the files are already available locally. This will save you lots of time downloading large files.*"
   ]
  },
  {
   "cell_type": "code",
   "execution_count": 3,
   "metadata": {},
   "outputs": [
    {
     "name": "stdout",
     "output_type": "stream",
     "text": [
      "Model: Running models...\n",
      "Model: Completed!\n"
     ]
    }
   ],
   "source": [
    "src.acquire.run()"
   ]
  },
  {
   "cell_type": "markdown",
   "metadata": {},
   "source": [
    "## Prepare the Data\n",
    "\n",
    "*This is the important phase and it is seen as a chore by some, even though I personally enjoy the puzzle that this stage always provides. If you tend to think of data scrubbing as a drag on your workflow, it's well worth your time to explore some new pandas functions you're unfamiliar with and speed up your workflow. Try to learn one or two new tricks with each project you work on.*\n",
    "\n",
    "*The primary scientific component to scrubbing data is going to be the thought process around deciding what to do with missing data. There are frequently no right or wrong answers for what to do with missing values, so be sure to record your thoughts, and share your process with peers or collaborators to get a sanity check.*"
   ]
  },
  {
   "cell_type": "code",
   "execution_count": 4,
   "metadata": {},
   "outputs": [
    {
     "name": "stdout",
     "output_type": "stream",
     "text": [
      "Model: Running models...\n",
      "Model: Completed!\n"
     ]
    }
   ],
   "source": [
    "src.prepare.run()"
   ]
  },
  {
   "cell_type": "code",
   "execution_count": null,
   "metadata": {},
   "outputs": [],
   "source": []
  },
  {
   "cell_type": "markdown",
   "metadata": {},
   "source": [
    "\n",
    "    parcelid                      20931 non-null  int64          Listing Number - Not used for Modeling\n",
    "    id                            20931 non-null  int64          Listing ID - Not used for Modeling\n",
    "    airconditioningtypeid         6779 non-null   float64        Correlates to heatingorsystem type (\n",
    "    architecturalstyletypeid      52 non-null     float64\n",
    "    basementsqft                  16 non-null     float64\n",
    "    bathroomcnt                   20931 non-null  float64\n",
    "    bedroomcnt                    20931 non-null  float64\n",
    "    buildingclasstypeid           0 non-null      object \n",
    "    buildingqualitytypeid         13257 non-null  float64\n",
    "    calculatedbathnbr             20771 non-null  float64\n",
    "    decktypeid                    174 non-null    float64\n",
    "    finishedfloor1squarefeet      1738 non-null   float64\n",
    "    calculatedfinishedsquarefeet  20868 non-null  float64\n",
    "    finishedsquarefeet12          20024 non-null  float64\n",
    "    finishedsquarefeet13          17 non-null     float64\n",
    "    finishedsquarefeet15          736 non-null    float64\n",
    "    finishedsquarefeet50          1738 non-null   float64\n",
    "    finishedsquarefeet6           91 non-null     float64\n",
    "    fips                          20931 non-null  float64\n",
    "    fireplacecnt                  2422 non-null   float64\n",
    "    fullbathcnt                   20771 non-null  float64\n",
    "    garagecarcnt                  7075 non-null   float64\n",
    "    garagetotalsqft               7075 non-null   float64\n",
    "    hashottuborspa                461 non-null    float64\n",
    "    heatingorsystemtypeid         13285 non-null  float64\n",
    "    latitude                      20931 non-null  float64\n",
    "    longitude                     20931 non-null  float64\n",
    "    lotsizesquarefeet             18742 non-null  float64\n",
    "    poolcnt                       4496 non-null   float64\n",
    "    poolsizesum                   251 non-null    float64\n",
    "    pooltypeid10                  121 non-null    float64\n",
    "    pooltypeid2                   340 non-null    float64\n",
    "    pooltypeid7                   4154 non-null   float64\n",
    "    propertycountylandusecode     20931 non-null  object \n",
    "    propertylandusetypeid         20931 non-null  float64\n",
    "    propertyzoningdesc            13437 non-null  object \n",
    "    rawcensustractandblock        20931 non-null  float64\n",
    "    regionidcity                  20503 non-null  float64\n",
    "    regionidcounty                20931 non-null  float64\n",
    "    regionidneighborhood          8443 non-null   float64\n",
    "    regionidzip                   20916 non-null  float64\n",
    "    roomcnt                       20931 non-null  float64\n",
    "    storytypeid                   16 non-null     float64\n",
    "    threequarterbathnbr           2800 non-null   float64\n",
    "    typeconstructiontypeid        56 non-null     float64\n",
    "    unitcnt                       13476 non-null  float64\n",
    "    yardbuildingsqft17            701 non-null    float64\n",
    "    yardbuildingsqft26            25 non-null     float64\n",
    "    yearbuilt                     20850 non-null  float64\n",
    "    numberofstories               4917 non-null   float64\n",
    "    fireplaceflag                 51 non-null     float64\n",
    "    structuretaxvaluedollarcnt    20897 non-null  float64\n",
    "    taxvaluedollarcnt             20930 non-null  float64\n",
    "    assessmentyear                20931 non-null  float64\n",
    "    landtaxvaluedollarcnt         20930 non-null  float64\n",
    "    taxamount                     20931 non-null  float64\n",
    "    taxdelinquencyflag            703 non-null    object \n",
    "    taxdelinquencyyear            703 non-null    float64\n",
    "    censustractandblock           20852 non-null  float64\n",
    "    id                            20931 non-null  int64  \n",
    "    logerror                      20931 non-null  float64\n",
    "    transactiondate               20931 non-null  object"
   ]
  },
  {
   "cell_type": "markdown",
   "metadata": {},
   "source": [
    "### Load (and Split) the Data\n",
    "\n",
    "*You may already have your data loaded in this notebook after the Acquire stage has been run. But you probably don't want to have to re-run your data gathering pipeline every time you try a new idea for your model. Write some code here to load your cached data set so you won't have to start from scratch.*\n",
    "\n",
    "*It is especially important to go back to a clean data set with each iteration that you want to test or add to your model. Your new results will not be reproducible if this iteration is developed on data that has been transformed in any way during the previous iteration.*\n",
    "\n",
    "*Lastly if possible split the data at this stage. It is always best to split the data as early as possible so that you are making you decision of preparation on a subset of the whole dataset as the model you are building will be doing on future unseen data*"
   ]
  },
  {
   "cell_type": "code",
   "execution_count": 5,
   "metadata": {},
   "outputs": [],
   "source": [
    "df = src.acquire.get_zillow_data(True)"
   ]
  },
  {
   "cell_type": "code",
   "execution_count": 6,
   "metadata": {},
   "outputs": [
    {
     "name": "stdout",
     "output_type": "stream",
     "text": [
      "<class 'pandas.core.frame.DataFrame'>\n",
      "RangeIndex: 20931 entries, 0 to 20930\n",
      "Data columns (total 62 columns):\n",
      " #   Column                        Non-Null Count  Dtype  \n",
      "---  ------                        --------------  -----  \n",
      " 0   parcelid                      20931 non-null  int64  \n",
      " 1   id                            20931 non-null  int64  \n",
      " 2   airconditioningtypeid         6779 non-null   float64\n",
      " 3   architecturalstyletypeid      52 non-null     float64\n",
      " 4   basementsqft                  16 non-null     float64\n",
      " 5   bathroomcnt                   20931 non-null  float64\n",
      " 6   bedroomcnt                    20931 non-null  float64\n",
      " 7   buildingclasstypeid           0 non-null      object \n",
      " 8   buildingqualitytypeid         13257 non-null  float64\n",
      " 9   calculatedbathnbr             20771 non-null  float64\n",
      " 10  decktypeid                    174 non-null    float64\n",
      " 11  finishedfloor1squarefeet      1738 non-null   float64\n",
      " 12  calculatedfinishedsquarefeet  20868 non-null  float64\n",
      " 13  finishedsquarefeet12          20024 non-null  float64\n",
      " 14  finishedsquarefeet13          17 non-null     float64\n",
      " 15  finishedsquarefeet15          736 non-null    float64\n",
      " 16  finishedsquarefeet50          1738 non-null   float64\n",
      " 17  finishedsquarefeet6           91 non-null     float64\n",
      " 18  fips                          20931 non-null  float64\n",
      " 19  fireplacecnt                  2422 non-null   float64\n",
      " 20  fullbathcnt                   20771 non-null  float64\n",
      " 21  garagecarcnt                  7075 non-null   float64\n",
      " 22  garagetotalsqft               7075 non-null   float64\n",
      " 23  hashottuborspa                461 non-null    float64\n",
      " 24  heatingorsystemtypeid         13285 non-null  float64\n",
      " 25  latitude                      20931 non-null  float64\n",
      " 26  longitude                     20931 non-null  float64\n",
      " 27  lotsizesquarefeet             18742 non-null  float64\n",
      " 28  poolcnt                       4496 non-null   float64\n",
      " 29  poolsizesum                   251 non-null    float64\n",
      " 30  pooltypeid10                  121 non-null    float64\n",
      " 31  pooltypeid2                   340 non-null    float64\n",
      " 32  pooltypeid7                   4154 non-null   float64\n",
      " 33  propertycountylandusecode     20931 non-null  object \n",
      " 34  propertylandusetypeid         20931 non-null  float64\n",
      " 35  propertyzoningdesc            13437 non-null  object \n",
      " 36  rawcensustractandblock        20931 non-null  float64\n",
      " 37  regionidcity                  20503 non-null  float64\n",
      " 38  regionidcounty                20931 non-null  float64\n",
      " 39  regionidneighborhood          8443 non-null   float64\n",
      " 40  regionidzip                   20916 non-null  float64\n",
      " 41  roomcnt                       20931 non-null  float64\n",
      " 42  storytypeid                   16 non-null     float64\n",
      " 43  threequarterbathnbr           2800 non-null   float64\n",
      " 44  typeconstructiontypeid        56 non-null     float64\n",
      " 45  unitcnt                       13476 non-null  float64\n",
      " 46  yardbuildingsqft17            701 non-null    float64\n",
      " 47  yardbuildingsqft26            25 non-null     float64\n",
      " 48  yearbuilt                     20850 non-null  float64\n",
      " 49  numberofstories               4917 non-null   float64\n",
      " 50  fireplaceflag                 51 non-null     float64\n",
      " 51  structuretaxvaluedollarcnt    20897 non-null  float64\n",
      " 52  taxvaluedollarcnt             20930 non-null  float64\n",
      " 53  assessmentyear                20931 non-null  float64\n",
      " 54  landtaxvaluedollarcnt         20930 non-null  float64\n",
      " 55  taxamount                     20931 non-null  float64\n",
      " 56  taxdelinquencyflag            703 non-null    object \n",
      " 57  taxdelinquencyyear            703 non-null    float64\n",
      " 58  censustractandblock           20852 non-null  float64\n",
      " 59  id                            20931 non-null  int64  \n",
      " 60  logerror                      20931 non-null  float64\n",
      " 61  transactiondate               20931 non-null  object \n",
      "dtypes: float64(54), int64(3), object(5)\n",
      "memory usage: 9.9+ MB\n"
     ]
    }
   ],
   "source": [
    "df.info()"
   ]
  },
  {
   "cell_type": "code",
   "execution_count": 7,
   "metadata": {},
   "outputs": [
    {
     "data": {
      "text/plain": [
       "((11720, 65), (5024, 58), (4187, 58))"
      ]
     },
     "execution_count": 7,
     "metadata": {},
     "output_type": "execute_result"
    }
   ],
   "source": [
    "\n",
    "path='zillow_df.csv'\n",
    "\n",
    "df, X_train_explore, \\\n",
    "    X_train_scaled, y_train, \\\n",
    "    X_validate_scaled, y_validate, \\\n",
    "    X_test_scaled, y_test = src.prepare.wrangle_zillow(path)\n",
    "\n",
    "X_train_explore.shape, X_validate_scaled.shape, X_test_scaled.shape"
   ]
  },
  {
   "cell_type": "code",
   "execution_count": 16,
   "metadata": {},
   "outputs": [
    {
     "data": {
      "text/plain": [
       "1.0     6262\n",
       "13.0     445\n",
       "5.0       53\n",
       "11.0      13\n",
       "9.0        6\n",
       "Name: airconditioningtypeid, dtype: int64"
      ]
     },
     "execution_count": 16,
     "metadata": {},
     "output_type": "execute_result"
    }
   ],
   "source": [
    "df.airconditioningtypeid.value_counts()\n"
   ]
  },
  {
   "cell_type": "code",
   "execution_count": 8,
   "metadata": {},
   "outputs": [
    {
     "data": {
      "text/html": [
       "<div>\n",
       "<style scoped>\n",
       "    .dataframe tbody tr th:only-of-type {\n",
       "        vertical-align: middle;\n",
       "    }\n",
       "\n",
       "    .dataframe tbody tr th {\n",
       "        vertical-align: top;\n",
       "    }\n",
       "\n",
       "    .dataframe thead th {\n",
       "        text-align: right;\n",
       "    }\n",
       "</style>\n",
       "<table border=\"1\" class=\"dataframe\">\n",
       "  <thead>\n",
       "    <tr style=\"text-align: right;\">\n",
       "      <th></th>\n",
       "      <th>Unnamed: 0</th>\n",
       "      <th>parcelid</th>\n",
       "      <th>id</th>\n",
       "      <th>airconditioningtypeid</th>\n",
       "      <th>architecturalstyletypeid</th>\n",
       "      <th>basementsqft</th>\n",
       "      <th>bathroomcnt</th>\n",
       "      <th>bedroomcnt</th>\n",
       "      <th>buildingclasstypeid</th>\n",
       "      <th>buildingqualitytypeid</th>\n",
       "      <th>...</th>\n",
       "      <th>taxamount</th>\n",
       "      <th>taxdelinquencyflag</th>\n",
       "      <th>taxdelinquencyyear</th>\n",
       "      <th>censustractandblock</th>\n",
       "      <th>id.1</th>\n",
       "      <th>logerror</th>\n",
       "      <th>transactiondate</th>\n",
       "      <th>propertyzoningdesc</th>\n",
       "      <th>taxdelinquencyflag</th>\n",
       "      <th>transactiondate</th>\n",
       "    </tr>\n",
       "  </thead>\n",
       "  <tbody>\n",
       "    <tr>\n",
       "      <th>290</th>\n",
       "      <td>290</td>\n",
       "      <td>14734597</td>\n",
       "      <td>1102150</td>\n",
       "      <td>NaN</td>\n",
       "      <td>NaN</td>\n",
       "      <td>NaN</td>\n",
       "      <td>1.5</td>\n",
       "      <td>2.0</td>\n",
       "      <td>NaN</td>\n",
       "      <td>NaN</td>\n",
       "      <td>...</td>\n",
       "      <td>2773.9</td>\n",
       "      <td>NaN</td>\n",
       "      <td>NaN</td>\n",
       "      <td>6.059001e+13</td>\n",
       "      <td>42296</td>\n",
       "      <td>0.052201</td>\n",
       "      <td>2017-06-01</td>\n",
       "      <td>NaN</td>\n",
       "      <td>NaN</td>\n",
       "      <td>NaN</td>\n",
       "    </tr>\n",
       "  </tbody>\n",
       "</table>\n",
       "<p>1 rows × 65 columns</p>\n",
       "</div>"
      ],
      "text/plain": [
       "     Unnamed: 0  parcelid       id  airconditioningtypeid  \\\n",
       "290         290  14734597  1102150                    NaN   \n",
       "\n",
       "     architecturalstyletypeid  basementsqft  bathroomcnt  bedroomcnt  \\\n",
       "290                       NaN           NaN          1.5         2.0   \n",
       "\n",
       "     buildingclasstypeid  buildingqualitytypeid  ...  taxamount  \\\n",
       "290                  NaN                    NaN  ...     2773.9   \n",
       "\n",
       "     taxdelinquencyflag  taxdelinquencyyear  censustractandblock   id.1  \\\n",
       "290                 NaN                 NaN         6.059001e+13  42296   \n",
       "\n",
       "     logerror  transactiondate  propertyzoningdesc  taxdelinquencyflag  \\\n",
       "290  0.052201       2017-06-01                 NaN                 NaN   \n",
       "\n",
       "     transactiondate  \n",
       "290              NaN  \n",
       "\n",
       "[1 rows x 65 columns]"
      ]
     },
     "execution_count": 8,
     "metadata": {},
     "output_type": "execute_result"
    }
   ],
   "source": [
    "X_train_explore.head(1)"
   ]
  },
  {
   "cell_type": "code",
   "execution_count": 9,
   "metadata": {},
   "outputs": [
    {
     "data": {
      "text/html": [
       "<div>\n",
       "<style scoped>\n",
       "    .dataframe tbody tr th:only-of-type {\n",
       "        vertical-align: middle;\n",
       "    }\n",
       "\n",
       "    .dataframe tbody tr th {\n",
       "        vertical-align: top;\n",
       "    }\n",
       "\n",
       "    .dataframe thead th {\n",
       "        text-align: right;\n",
       "    }\n",
       "</style>\n",
       "<table border=\"1\" class=\"dataframe\">\n",
       "  <thead>\n",
       "    <tr style=\"text-align: right;\">\n",
       "      <th></th>\n",
       "      <th>Unnamed: 0</th>\n",
       "      <th>parcelid</th>\n",
       "      <th>id</th>\n",
       "      <th>airconditioningtypeid</th>\n",
       "      <th>architecturalstyletypeid</th>\n",
       "      <th>basementsqft</th>\n",
       "      <th>bathroomcnt</th>\n",
       "      <th>bedroomcnt</th>\n",
       "      <th>buildingclasstypeid</th>\n",
       "      <th>buildingqualitytypeid</th>\n",
       "      <th>...</th>\n",
       "      <th>numberofstories</th>\n",
       "      <th>fireplaceflag</th>\n",
       "      <th>structuretaxvaluedollarcnt</th>\n",
       "      <th>assessmentyear</th>\n",
       "      <th>landtaxvaluedollarcnt</th>\n",
       "      <th>taxamount</th>\n",
       "      <th>taxdelinquencyyear</th>\n",
       "      <th>censustractandblock</th>\n",
       "      <th>id.1</th>\n",
       "      <th>logerror</th>\n",
       "    </tr>\n",
       "  </thead>\n",
       "  <tbody>\n",
       "    <tr>\n",
       "      <th>290</th>\n",
       "      <td>0.013856</td>\n",
       "      <td>0.025632</td>\n",
       "      <td>0.369506</td>\n",
       "      <td>NaN</td>\n",
       "      <td>NaN</td>\n",
       "      <td>NaN</td>\n",
       "      <td>0.166667</td>\n",
       "      <td>0.166667</td>\n",
       "      <td>NaN</td>\n",
       "      <td>NaN</td>\n",
       "      <td>...</td>\n",
       "      <td>NaN</td>\n",
       "      <td>NaN</td>\n",
       "      <td>0.005763</td>\n",
       "      <td>0.0</td>\n",
       "      <td>0.011359</td>\n",
       "      <td>0.015322</td>\n",
       "      <td>NaN</td>\n",
       "      <td>0.296314</td>\n",
       "      <td>0.671084</td>\n",
       "      <td>0.632515</td>\n",
       "    </tr>\n",
       "  </tbody>\n",
       "</table>\n",
       "<p>1 rows × 58 columns</p>\n",
       "</div>"
      ],
      "text/plain": [
       "     Unnamed: 0  parcelid        id  airconditioningtypeid  \\\n",
       "290    0.013856  0.025632  0.369506                    NaN   \n",
       "\n",
       "     architecturalstyletypeid  basementsqft  bathroomcnt  bedroomcnt  \\\n",
       "290                       NaN           NaN     0.166667    0.166667   \n",
       "\n",
       "     buildingclasstypeid  buildingqualitytypeid  ...  numberofstories  \\\n",
       "290                  NaN                    NaN  ...              NaN   \n",
       "\n",
       "     fireplaceflag  structuretaxvaluedollarcnt  assessmentyear  \\\n",
       "290            NaN                    0.005763             0.0   \n",
       "\n",
       "     landtaxvaluedollarcnt  taxamount  taxdelinquencyyear  \\\n",
       "290               0.011359   0.015322                 NaN   \n",
       "\n",
       "     censustractandblock      id.1  logerror  \n",
       "290             0.296314  0.671084  0.632515  \n",
       "\n",
       "[1 rows x 58 columns]"
      ]
     },
     "execution_count": 9,
     "metadata": {},
     "output_type": "execute_result"
    }
   ],
   "source": [
    "X_train_scaled.head(1)"
   ]
  },
  {
   "cell_type": "markdown",
   "metadata": {},
   "source": [
    "### Clean the Data\n",
    "\n",
    "*Make sure that your data is in a format that your models can work with, and fix any problems that need attention. This may include formatting strings, removing duplicate records, and handling missing data.*\n",
    "\n",
    "*There are multiple approaches to handling missing records, including removing them, inferring the values either statistically or from other insights, or finding other data sources to fill the gaps. Be sure to note down your thought process for whatever decision you make.*"
   ]
  },
  {
   "cell_type": "code",
   "execution_count": 10,
   "metadata": {},
   "outputs": [],
   "source": [
    "# Write functions that prepare the data from your data/raw and store\n",
    "# the prepared data in data/\n",
    "# Once that is done move the functions to prepare.py"
   ]
  },
  {
   "cell_type": "markdown",
   "metadata": {},
   "source": [
    "## Explore the Data\n",
    "\n",
    "**If you haven't split the data yet, do it before you explore**\n",
    "\n",
    "*Before you start exploring the data, write out your thought process about what you're looking for and what you expect to find. Take a minute to confirm that your plan actually makes sense.*\n",
    "\n",
    "*Calculate summary statistics and plot some charts to give you an idea what types of useful relationships might be in your dataset. Use these insights to go back and download additional data or engineer new features if necessary. Not now though... remember we're still just trying to finish the MVP!*"
   ]
  },
  {
   "cell_type": "markdown",
   "metadata": {},
   "source": [
    "### Explore Distributions\n",
    "\n",
    "*It's good to have a sense of things like the scale and the spread of the data you're working with. But looking at the distribution of each feature can be a helpful way to determine if more features are needed.*\n",
    "\n",
    "*Look for outliers. Take a closer look at the observations that stand out from the rest. Is there anything about these data points that might explain why they aren't behaving like the others? If so, that's a feature you would want to add to your model, to control for such a big difference.*\n",
    "\n",
    "*Look for clusters in your histograms and scatterplots of various features. If the variance is inconsistent, with dense clusters of observations within the feature space, try to figure out what makes those observations so much more similar than the others. This could point to another feature to add to your data. Investigate any unusual patterns that look like a feature is not being drawn from a random distribution.*\n",
    "\n",
    "*Look for multiple modes within the distributions of your features. This is a sign that there are categorical variables within your data set. Try to find out what these classes are, if you don't already know, and label your observations if possible.*"
   ]
  },
  {
   "cell_type": "code",
   "execution_count": null,
   "metadata": {},
   "outputs": [],
   "source": []
  },
  {
   "cell_type": "markdown",
   "metadata": {},
   "source": [
    "### Explore Relationships\n",
    "\n",
    "*The \"eyeball test\" is the quickest way to check that your hypothesis is on the right track. Plot your inputs against your outputs. If there is real predictive power for the model you are trying to build, you should be able to make reasonable guesses (just by pointing at the chart, no need for precise values yet) of what the output should be for any given input value.*\n",
    "\n",
    "*In a regression model, we are looking for clear relationships between our features and targets. Generate pairplots and look for features that have high correlations with the target variable.*\n",
    "\n",
    "*In a classification model, we are looking for features that separate the population into distinct distributions. Generate pairplots that are color-coded by your categories and look for features where the categories have distinct distributions.*"
   ]
  },
  {
   "cell_type": "code",
   "execution_count": null,
   "metadata": {},
   "outputs": [],
   "source": []
  },
  {
   "cell_type": "markdown",
   "metadata": {},
   "source": [
    "## Model the Data\n",
    "\n",
    "*Describe the algorithms that you are considering. How do they work? Why are they good choices for this data and problem space?*\n",
    "\n",
    "*What nuances in the data will you have to be aware of in order to avoid introducing bias to your model? What steps will you need to take to prevent overfitting? What risks are there for data leakage?*\n",
    "\n",
    "### Train Validation Test Split\n",
    "\n",
    "*Pay special attention here to what data is going into your training and test sets. Is there any data leakage? Make sure that you are testing your model on information it has not seen during the learning process. If this is a classification problem, make sure that your classes are reasonably balanced.*\n",
    "\n",
    "*Also, keep in mind that after you've trained and evaluated your model, you may want to look at the results of specific missed predictions. Set up your training and test data sets so that it will be easy to identify the record id when you are looking at a given prediction result.*"
   ]
  },
  {
   "cell_type": "code",
   "execution_count": null,
   "metadata": {},
   "outputs": [],
   "source": []
  },
  {
   "cell_type": "markdown",
   "metadata": {},
   "source": [
    "### Preprocessing\n",
    "\n",
    "*These are standard processing steps to prepare your data for modeling. But remember that any code you use to scale or encode your data has to come from the observations in your training set.*"
   ]
  },
  {
   "cell_type": "code",
   "execution_count": null,
   "metadata": {},
   "outputs": [],
   "source": []
  },
  {
   "cell_type": "markdown",
   "metadata": {},
   "source": [
    "#### Feature Scaling"
   ]
  },
  {
   "cell_type": "code",
   "execution_count": null,
   "metadata": {},
   "outputs": [],
   "source": []
  },
  {
   "cell_type": "markdown",
   "metadata": {},
   "source": [
    "#### Label Encoding"
   ]
  },
  {
   "cell_type": "code",
   "execution_count": null,
   "metadata": {},
   "outputs": [],
   "source": []
  },
  {
   "cell_type": "markdown",
   "metadata": {},
   "source": [
    "### Build and Train Model\n",
    "\n",
    "*Write down any thoughts you may have about working with these algorithms on this data. What looks to have been the most successful design choices? What pain points are you running into? What other ideas do you want to try out as you iterate on this pipeline?*"
   ]
  },
  {
   "cell_type": "code",
   "execution_count": null,
   "metadata": {},
   "outputs": [],
   "source": []
  },
  {
   "cell_type": "markdown",
   "metadata": {},
   "source": [
    "### Predict and Score\n",
    "\n",
    "Important: Stick to the metrics you chose to test before you trained and evaluated your model! Remember that this is the standard you selected before your analysis as the one that you would find most convincing that the model works."
   ]
  },
  {
   "cell_type": "code",
   "execution_count": null,
   "metadata": {},
   "outputs": [],
   "source": []
  },
  {
   "cell_type": "markdown",
   "metadata": {},
   "source": [
    "## Interpret the Model\n",
    "\n",
    "Write up the things you learned, and how well your model performed. Be sure address the model's strengths and weaknesses. What types of data does it handle well? What types of observations tend to give it a hard time? What future work would you or someone reading this might want to do, building on the lessons learned and tools developed in this project?"
   ]
  },
  {
   "cell_type": "code",
   "execution_count": null,
   "metadata": {},
   "outputs": [],
   "source": []
  },
  {
   "cell_type": "markdown",
   "metadata": {},
   "source": [
    "#### Report Metrics in Context\n",
    "How did the model perform on the key metrics you chose to demonstrate its usefulness? What counts as good or bad performance? How well do humans perform on this task? How well would you expect to do with random dice rolls? What are the costs associated with missed predictions?"
   ]
  },
  {
   "cell_type": "code",
   "execution_count": null,
   "metadata": {},
   "outputs": [],
   "source": []
  },
  {
   "cell_type": "markdown",
   "metadata": {},
   "source": [
    "#### Inspect Errors\n",
    "\n",
    "Look at some of the observations with missed predictions. (Do this in your validation set, never look at individual records in your test set!) Are there common patterns among the observations with bad results? Do you have data that you can include in your model that will capture these patterns or is this a task that will need another research project to solve?\n",
    "\n",
    "This is your last step in the iteration cycle; if you can't find anything else you can work on here with your present data, project scope, and deadlines, then it's time to wrap things up."
   ]
  },
  {
   "cell_type": "code",
   "execution_count": null,
   "metadata": {},
   "outputs": [],
   "source": []
  },
  {
   "cell_type": "markdown",
   "metadata": {},
   "source": [
    "#### Strengths and Weaknesses\n",
    "\n",
    "Once you've gone through your iteration cycles and are finished with this version of the model, or this particular project, provide an assessment of what types of observations are handled well by your model, and what circumstances seem to give it trouble. This will point you and others towards more questions for future projects."
   ]
  },
  {
   "cell_type": "code",
   "execution_count": null,
   "metadata": {},
   "outputs": [],
   "source": []
  },
  {
   "cell_type": "markdown",
   "metadata": {},
   "source": [
    "## Next Steps: What Can We Do Now?\n",
    "\n",
    "Reporting a model's results is good, and is the main objective of any data science project. But a project is one thing, a career is another. A question is one thing, but science is another. If you've carried out your research with a mindset of curiosity and creativity, then by now you should have plenty more, and much better informed, questions about this topic than what you started with.\n",
    "\n",
    "So in addition to reporting on the question you investigated and the answers you found, think of the needs of your team, your users, and your peers in the industry, and make some recommendations that answer these two questions:\n",
    "\n",
    "What are some unanswered questions in my project where more information (additional data sources, deeper understanding, other models or tools) might help improve these results?\n",
    "What are other needs or problems where my model or my approach may be useful?"
   ]
  },
  {
   "cell_type": "code",
   "execution_count": null,
   "metadata": {},
   "outputs": [],
   "source": []
  }
 ],
 "metadata": {
  "kernelspec": {
   "display_name": "Python 3",
   "language": "python",
   "name": "python3"
  },
  "language_info": {
   "codemirror_mode": {
    "name": "ipython",
    "version": 3
   },
   "file_extension": ".py",
   "mimetype": "text/x-python",
   "name": "python",
   "nbconvert_exporter": "python",
   "pygments_lexer": "ipython3",
   "version": "3.8.3"
  }
 },
 "nbformat": 4,
 "nbformat_minor": 4
}
