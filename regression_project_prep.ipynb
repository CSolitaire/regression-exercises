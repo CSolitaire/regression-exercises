{
 "cells": [
  {
   "cell_type": "markdown",
   "metadata": {},
   "source": [
    "## What is a single unit property?\n",
    "\n",
    "\n",
    "By James Chen\n",
    "Updated Sep 11, 2020\n",
    "What Is a Housing Unit?\n",
    "\n",
    "The term housing unit refers to a single unit within a larger structure that can be used by an individual or household to eat, sleep, and live. The unit can be in any type of residence such as a house, apartment, mobile home, or may also be a single unit in a group of rooms. Essentially, a housing unit is deemed to be a separate living quarter where the occupants live and eat separately from other residents of the structure or building. They also have direct access from the building's exterior or through a common hallway. \n",
    "\n",
    "- https://www.investopedia.com/terms/h/housingunits.asp"
   ]
  },
  {
   "cell_type": "markdown",
   "metadata": {},
   "source": [
    "### Properties in the Database: Based on the above definition some categories do not fit brief\n",
    "\n",
    "*****\n",
    "\n",
    "Propertylandusetypeid  |  propertylandusedesc\n",
    "   \n",
    "      No        31\t         Commercial/Office/Residential Mixed Used  (not a residence)\n",
    "      No        46\t\t     Multi-Story Store                         (not a residence)\n",
    "      No        47\t\t     Store/Office (Mixed Use)                  (not a residence)\n",
    "                246\t\t     Duplex (2 Units, Any Combination)\n",
    "                247\t\t     Triplex (3 Units, Any Combination)\n",
    "                248\t\t     Quadruplex (4 Units, Any Combination)\n",
    "                260\t\t     Residential General\n",
    "                261\t\t     Single Family Residential\n",
    "                262\t\t     Rural Residence\n",
    "                263\t\t     Mobile Home\n",
    "                264\t\t     Townhouse\n",
    "                265\t\t     Cluster Home\n",
    "                266\t\t     Condominium\n",
    "      No        267\t\t     Cooperative                               (become shareholder not owner)\n",
    "                268\t\t     Row House\n",
    "                269\t\t     Planned Unit Development\n",
    "      No        270\t\t     Residential Common Area                   (propterty feature)\n",
    "      No        271\t\t     Timeshare                                 (become shareholder not owner)\n",
    "                273\t\t     Bungalow\n",
    "                274\t\t     Zero Lot Line\n",
    "                275\t\t     Manufactured, Modular, Prefabricated Homes\n",
    "                276\t\t     Patio Home\n",
    "                279\t\t     Inferred Single Family Residential\n",
    "      No        290\t\t     Vacant Land - General                     (not a residence)\n",
    "      No        291\t\t     Residential Vacant Land                   (not a residence)\n",
    "\n",
    "*****\n",
    "\n",
    "### Takeaway:\n",
    "**propertylandusetypeid # 31, 46, 47, 267, 270, 271, 290, 291 must be removed from dataset**\n",
    "\n",
    "*****"
   ]
  },
  {
   "cell_type": "code",
   "execution_count": null,
   "metadata": {},
   "outputs": [],
   "source": [
    "# Code to acquire data\n",
    "'''\n",
    "select *\n",
    "from properties_2017\n",
    "join unique_properties using (parcelid)\n",
    "join predictions_2017 using (parcelid)\n",
    "where transactiondate between '2017-06-01' and '2017-07-31';\n",
    "'''\n",
    "\n",
    "# Returns 20,946 entries between May and June 2017\n",
    "# Data is NOT sorted by single unit properties"
   ]
  },
  {
   "cell_type": "code",
   "execution_count": null,
   "metadata": {},
   "outputs": [],
   "source": [
    "# Code to return number of houses per county\n",
    "\n",
    "'''\n",
    "select regionidcounty, count(*)\n",
    "from properties_2017\n",
    "join unique_properties using (parcelid)\n",
    "join predictions_2017 using (parcelid)\n",
    "where transactiondate between '2017-06-01' and '2017-07-31'\n",
    "group by regionidcounty\n",
    "order by regionidcounty;\n",
    "'''\n",
    "\n",
    "# Returns 3 counties and a null value (Null, 1286, 2061, 3101)"
   ]
  },
  {
   "cell_type": "code",
   "execution_count": null,
   "metadata": {},
   "outputs": [],
   "source": [
    "# Code to return houses per county (Group by) for tax rate distribution\n",
    "\n",
    "'''\n",
    "select *\n",
    "from properties_2017\n",
    "join unique_properties using (parcelid)\n",
    "join predictions_2017 using (parcelid)\n",
    "where transactiondate between '2017-06-01' and '2017-07-31'\n",
    "order by regionidcounty;\n",
    "'''"
   ]
  },
  {
   "cell_type": "code",
   "execution_count": null,
   "metadata": {},
   "outputs": [],
   "source": [
    "# Breaks down houses per county in to cities per county and zipcodes\n",
    "'''\n",
    "select regionidcity, regionidcounty, regionidzip\n",
    "from properties_2017\n",
    "join unique_properties using (parcelid)\n",
    "join predictions_2017 as p using (parcelid)\n",
    "where transactiondate between '2017-06-01' and '2017-07-31'\n",
    "group by regionidcity, regionidcounty, regionidzip\n",
    "order by regionidzip;\n",
    "\n",
    "'''\n",
    "# Returns a list of zip codes and city id numbers per county. Necessary to id **STATE**"
   ]
  },
  {
   "cell_type": "code",
   "execution_count": null,
   "metadata": {},
   "outputs": [],
   "source": [
    "# All of the zipcodes and counts for that zipcode in for the dataset\n",
    "'''\n",
    "select count(*), regionidzip\n",
    "from properties_2017\n",
    "join unique_properties using (parcelid)\n",
    "join predictions_2017 as p using (parcelid)\n",
    "where transactiondate between '2017-06-01' and '2017-07-31'\n",
    "group by regionidzip\n",
    "order by regionidzip;\n",
    "\n",
    "'''\n",
    "# Returns 385 unique zip codes"
   ]
  },
  {
   "cell_type": "code",
   "execution_count": null,
   "metadata": {},
   "outputs": [],
   "source": [
    "# All of the properties in county code 1286\n",
    "'''\n",
    "select *\n",
    "from properties_2017\n",
    "join unique_properties using (parcelid)\n",
    "join predictions_2017 using (parcelid)\n",
    "where transactiondate between '2017-06-01' and '2017-07-31'\n",
    "and regionidcounty = 1286;\n",
    "'''\n",
    "# Returns 5640 values"
   ]
  },
  {
   "cell_type": "code",
   "execution_count": null,
   "metadata": {},
   "outputs": [],
   "source": [
    "# All of the properties in county code 2061\n",
    "'''\n",
    "select *\n",
    "from properties_2017\n",
    "join unique_properties using (parcelid)\n",
    "join predictions_2017 using (parcelid)\n",
    "where transactiondate between '2017-06-01' and '2017-07-31'\n",
    "and regionidcounty = 2061;\n",
    "'''\n",
    "# Returns 1799 values"
   ]
  },
  {
   "cell_type": "code",
   "execution_count": null,
   "metadata": {},
   "outputs": [],
   "source": [
    "# All of the properties in county code 3101\n",
    "'''\n",
    "select *\n",
    "from properties_2017\n",
    "join unique_properties using (parcelid)\n",
    "join predictions_2017 using (parcelid)\n",
    "where transactiondate between '2017-06-01' and '2017-07-31'\n",
    "and regionidcounty = 3101;\n",
    "'''\n",
    "# Returns 13500 values"
   ]
  },
  {
   "cell_type": "code",
   "execution_count": null,
   "metadata": {},
   "outputs": [],
   "source": [
    "# All of the properties in county code Null\n",
    "'''\n",
    "select *\n",
    "from properties_2017\n",
    "join unique_properties using (parcelid)\n",
    "join predictions_2017 using (parcelid)\n",
    "where transactiondate between '2017-06-01' and '2017-07-31'\n",
    "and regionidcounty is Null ;\n",
    "'''\n",
    "# Returns 7 values"
   ]
  }
 ],
 "metadata": {
  "kernelspec": {
   "display_name": "Python 3",
   "language": "python",
   "name": "python3"
  },
  "language_info": {
   "codemirror_mode": {
    "name": "ipython",
    "version": 3
   },
   "file_extension": ".py",
   "mimetype": "text/x-python",
   "name": "python",
   "nbconvert_exporter": "python",
   "pygments_lexer": "ipython3",
   "version": "3.8.3"
  }
 },
 "nbformat": 4,
 "nbformat_minor": 4
}
