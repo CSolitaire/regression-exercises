{
 "cells": [
  {
   "cell_type": "code",
   "execution_count": null,
   "metadata": {},
   "outputs": [],
   "source": [
    "# Code to acquire data\n",
    "'''\n",
    "select *\n",
    "from properties_2017\n",
    "join unique_properties using (parcelid)\n",
    "join predictions_2017 using (parcelid)\n",
    "where transactiondate between '2017-06-01' and '2017-07-31';\n",
    "'''\n",
    "\n",
    "# Returns 20,946 entries between May and June 2017\n",
    "# Data is NOT sorted by single unit properties"
   ]
  },
  {
   "cell_type": "code",
   "execution_count": null,
   "metadata": {},
   "outputs": [],
   "source": [
    "# Code to return number of houses per county\n",
    "\n",
    "'''\n",
    "select regionidcounty, count(*)\n",
    "from properties_2017\n",
    "join unique_properties using (parcelid)\n",
    "join predictions_2017 using (parcelid)\n",
    "where transactiondate between '2017-06-01' and '2017-07-31'\n",
    "group by regionidcounty\n",
    "order by regionidcounty;\n",
    "'''\n",
    "\n",
    "# Returns 3 counties and a null value (Null, 1286, 2061, 3101)"
   ]
  },
  {
   "cell_type": "code",
   "execution_count": null,
   "metadata": {},
   "outputs": [],
   "source": [
    "# Code to return houses per county (Group by) for tax rate distribution\n",
    "\n",
    "'''\n",
    "select *\n",
    "from properties_2017\n",
    "join unique_properties using (parcelid)\n",
    "join predictions_2017 using (parcelid)\n",
    "where transactiondate between '2017-06-01' and '2017-07-31'\n",
    "order by regionidcounty;\n",
    "'''"
   ]
  },
  {
   "cell_type": "code",
   "execution_count": null,
   "metadata": {},
   "outputs": [],
   "source": [
    "# All of the properties in 1286\n",
    "'''\n",
    "select *\n",
    "from properties_2017\n",
    "join unique_properties using (parcelid)\n",
    "join predictions_2017 using (parcelid)\n",
    "where transactiondate between '2017-06-01' and '2017-07-31'\n",
    "and regionidcounty = 1286;\n",
    "'''\n",
    "# Returns 5640 values"
   ]
  },
  {
   "cell_type": "code",
   "execution_count": null,
   "metadata": {},
   "outputs": [],
   "source": [
    "# All of the properties in 2061\n",
    "'''\n",
    "select *\n",
    "from properties_2017\n",
    "join unique_properties using (parcelid)\n",
    "join predictions_2017 using (parcelid)\n",
    "where transactiondate between '2017-06-01' and '2017-07-31'\n",
    "and regionidcounty = 2061;\n",
    "'''\n",
    "# Returns 1799 values"
   ]
  },
  {
   "cell_type": "code",
   "execution_count": null,
   "metadata": {},
   "outputs": [],
   "source": [
    "# All of the properties in 3101\n",
    "'''\n",
    "select *\n",
    "from properties_2017\n",
    "join unique_properties using (parcelid)\n",
    "join predictions_2017 using (parcelid)\n",
    "where transactiondate between '2017-06-01' and '2017-07-31'\n",
    "and regionidcounty = 3101;\n",
    "'''\n",
    "# Returns 13500 values"
   ]
  },
  {
   "cell_type": "code",
   "execution_count": null,
   "metadata": {},
   "outputs": [],
   "source": [
    "# All of the properties in Null\n",
    "'''\n",
    "select *\n",
    "from properties_2017\n",
    "join unique_properties using (parcelid)\n",
    "join predictions_2017 using (parcelid)\n",
    "where transactiondate between '2017-06-01' and '2017-07-31'\n",
    "and regionidcounty is Null ;\n",
    "'''\n",
    "# Returns 7 values"
   ]
  }
 ],
 "metadata": {
  "kernelspec": {
   "display_name": "Python 3",
   "language": "python",
   "name": "python3"
  },
  "language_info": {
   "codemirror_mode": {
    "name": "ipython",
    "version": 3
   },
   "file_extension": ".py",
   "mimetype": "text/x-python",
   "name": "python",
   "nbconvert_exporter": "python",
   "pygments_lexer": "ipython3",
   "version": "3.8.3"
  }
 },
 "nbformat": 4,
 "nbformat_minor": 4
}
