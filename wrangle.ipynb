{
 "cells": [
  {
   "cell_type": "markdown",
   "metadata": {},
   "source": [
    "# Classification Module\n",
    "## Corey Solitaire\n",
    "### 9.24.2020"
   ]
  },
  {
   "cell_type": "code",
   "execution_count": 1,
   "metadata": {},
   "outputs": [],
   "source": [
    "import numpy as np\n",
    "import pandas as pd\n",
    "import seaborn as sns\n",
    "import matplotlib.pyplot as plt\n",
    "from math import sqrt\n",
    "from scipy import stats\n",
    "\n",
    "from sklearn.model_selection import train_test_split\n",
    "import warnings\n",
    "warnings.filterwarnings(\"ignore\")\n",
    "\n",
    "from acquire import get_telco_data\n",
    "from wrangle import wrangle_telco\n",
    "from split_scale import train_valid_test\n",
    "from split_scale import standard_scaler, uniform_scaler, gaussian_scaler, min_max_scaler, iqr_robust_scaler \n",
    "from split_scale import standard_scaler_inverse, uniform_scaler_inverse, gaussian_scaler_inverse, min_max_scaler_inverse, iqr_robust_scaler_inverse"
   ]
  },
  {
   "cell_type": "markdown",
   "metadata": {},
   "source": [
    "# Acquisition and Prep (testing my acquire file)"
   ]
  },
  {
   "cell_type": "code",
   "execution_count": 2,
   "metadata": {},
   "outputs": [
    {
     "data": {
      "text/html": [
       "<div>\n",
       "<style scoped>\n",
       "    .dataframe tbody tr th:only-of-type {\n",
       "        vertical-align: middle;\n",
       "    }\n",
       "\n",
       "    .dataframe tbody tr th {\n",
       "        vertical-align: top;\n",
       "    }\n",
       "\n",
       "    .dataframe thead th {\n",
       "        text-align: right;\n",
       "    }\n",
       "</style>\n",
       "<table border=\"1\" class=\"dataframe\">\n",
       "  <thead>\n",
       "    <tr style=\"text-align: right;\">\n",
       "      <th></th>\n",
       "      <th>customer_id</th>\n",
       "      <th>monthly_charges</th>\n",
       "      <th>tenure</th>\n",
       "      <th>total_charges</th>\n",
       "    </tr>\n",
       "  </thead>\n",
       "  <tbody>\n",
       "    <tr>\n",
       "      <th>0</th>\n",
       "      <td>0013-SMEOE</td>\n",
       "      <td>109.70</td>\n",
       "      <td>71</td>\n",
       "      <td>7904.25</td>\n",
       "    </tr>\n",
       "    <tr>\n",
       "      <th>1</th>\n",
       "      <td>0014-BMAQU</td>\n",
       "      <td>84.65</td>\n",
       "      <td>63</td>\n",
       "      <td>5377.8</td>\n",
       "    </tr>\n",
       "    <tr>\n",
       "      <th>2</th>\n",
       "      <td>0016-QLJIS</td>\n",
       "      <td>90.45</td>\n",
       "      <td>65</td>\n",
       "      <td>5957.9</td>\n",
       "    </tr>\n",
       "    <tr>\n",
       "      <th>3</th>\n",
       "      <td>0017-DINOC</td>\n",
       "      <td>45.20</td>\n",
       "      <td>54</td>\n",
       "      <td>2460.55</td>\n",
       "    </tr>\n",
       "    <tr>\n",
       "      <th>4</th>\n",
       "      <td>0017-IUDMW</td>\n",
       "      <td>116.80</td>\n",
       "      <td>72</td>\n",
       "      <td>8456.75</td>\n",
       "    </tr>\n",
       "    <tr>\n",
       "      <th>...</th>\n",
       "      <td>...</td>\n",
       "      <td>...</td>\n",
       "      <td>...</td>\n",
       "      <td>...</td>\n",
       "    </tr>\n",
       "    <tr>\n",
       "      <th>1690</th>\n",
       "      <td>9964-WBQDJ</td>\n",
       "      <td>24.40</td>\n",
       "      <td>71</td>\n",
       "      <td>1725.4</td>\n",
       "    </tr>\n",
       "    <tr>\n",
       "      <th>1691</th>\n",
       "      <td>9972-EWRJS</td>\n",
       "      <td>19.25</td>\n",
       "      <td>67</td>\n",
       "      <td>1372.9</td>\n",
       "    </tr>\n",
       "    <tr>\n",
       "      <th>1692</th>\n",
       "      <td>9975-GPKZU</td>\n",
       "      <td>19.75</td>\n",
       "      <td>46</td>\n",
       "      <td>856.5</td>\n",
       "    </tr>\n",
       "    <tr>\n",
       "      <th>1693</th>\n",
       "      <td>9993-LHIEB</td>\n",
       "      <td>67.85</td>\n",
       "      <td>67</td>\n",
       "      <td>4627.65</td>\n",
       "    </tr>\n",
       "    <tr>\n",
       "      <th>1694</th>\n",
       "      <td>9995-HOTOH</td>\n",
       "      <td>59.00</td>\n",
       "      <td>63</td>\n",
       "      <td>3707.6</td>\n",
       "    </tr>\n",
       "  </tbody>\n",
       "</table>\n",
       "<p>1695 rows × 4 columns</p>\n",
       "</div>"
      ],
      "text/plain": [
       "     customer_id  monthly_charges  tenure total_charges\n",
       "0     0013-SMEOE           109.70      71       7904.25\n",
       "1     0014-BMAQU            84.65      63        5377.8\n",
       "2     0016-QLJIS            90.45      65        5957.9\n",
       "3     0017-DINOC            45.20      54       2460.55\n",
       "4     0017-IUDMW           116.80      72       8456.75\n",
       "...          ...              ...     ...           ...\n",
       "1690  9964-WBQDJ            24.40      71        1725.4\n",
       "1691  9972-EWRJS            19.25      67        1372.9\n",
       "1692  9975-GPKZU            19.75      46         856.5\n",
       "1693  9993-LHIEB            67.85      67       4627.65\n",
       "1694  9995-HOTOH            59.00      63        3707.6\n",
       "\n",
       "[1695 rows x 4 columns]"
      ]
     },
     "execution_count": 2,
     "metadata": {},
     "output_type": "execute_result"
    }
   ],
   "source": [
    "df = get_telco_data(cached = True)\n",
    "df"
   ]
  },
  {
   "cell_type": "code",
   "execution_count": 3,
   "metadata": {},
   "outputs": [
    {
     "data": {
      "text/plain": [
       "(1695, 4)"
      ]
     },
     "execution_count": 3,
     "metadata": {},
     "output_type": "execute_result"
    }
   ],
   "source": [
    "df.shape"
   ]
  },
  {
   "cell_type": "code",
   "execution_count": 4,
   "metadata": {},
   "outputs": [
    {
     "data": {
      "text/html": [
       "<div>\n",
       "<style scoped>\n",
       "    .dataframe tbody tr th:only-of-type {\n",
       "        vertical-align: middle;\n",
       "    }\n",
       "\n",
       "    .dataframe tbody tr th {\n",
       "        vertical-align: top;\n",
       "    }\n",
       "\n",
       "    .dataframe thead th {\n",
       "        text-align: right;\n",
       "    }\n",
       "</style>\n",
       "<table border=\"1\" class=\"dataframe\">\n",
       "  <thead>\n",
       "    <tr style=\"text-align: right;\">\n",
       "      <th></th>\n",
       "      <th>customer_id</th>\n",
       "      <th>monthly_charges</th>\n",
       "      <th>tenure</th>\n",
       "      <th>total_charges</th>\n",
       "    </tr>\n",
       "  </thead>\n",
       "  <tbody>\n",
       "    <tr>\n",
       "      <th>0</th>\n",
       "      <td>0013-SMEOE</td>\n",
       "      <td>109.70</td>\n",
       "      <td>71</td>\n",
       "      <td>7904.25</td>\n",
       "    </tr>\n",
       "    <tr>\n",
       "      <th>1</th>\n",
       "      <td>0014-BMAQU</td>\n",
       "      <td>84.65</td>\n",
       "      <td>63</td>\n",
       "      <td>5377.8</td>\n",
       "    </tr>\n",
       "    <tr>\n",
       "      <th>2</th>\n",
       "      <td>0016-QLJIS</td>\n",
       "      <td>90.45</td>\n",
       "      <td>65</td>\n",
       "      <td>5957.9</td>\n",
       "    </tr>\n",
       "    <tr>\n",
       "      <th>3</th>\n",
       "      <td>0017-DINOC</td>\n",
       "      <td>45.20</td>\n",
       "      <td>54</td>\n",
       "      <td>2460.55</td>\n",
       "    </tr>\n",
       "    <tr>\n",
       "      <th>4</th>\n",
       "      <td>0017-IUDMW</td>\n",
       "      <td>116.80</td>\n",
       "      <td>72</td>\n",
       "      <td>8456.75</td>\n",
       "    </tr>\n",
       "  </tbody>\n",
       "</table>\n",
       "</div>"
      ],
      "text/plain": [
       "  customer_id  monthly_charges  tenure total_charges\n",
       "0  0013-SMEOE           109.70      71       7904.25\n",
       "1  0014-BMAQU            84.65      63        5377.8\n",
       "2  0016-QLJIS            90.45      65        5957.9\n",
       "3  0017-DINOC            45.20      54       2460.55\n",
       "4  0017-IUDMW           116.80      72       8456.75"
      ]
     },
     "execution_count": 4,
     "metadata": {},
     "output_type": "execute_result"
    }
   ],
   "source": [
    "df.head()"
   ]
  },
  {
   "cell_type": "code",
   "execution_count": 5,
   "metadata": {},
   "outputs": [
    {
     "data": {
      "text/html": [
       "<div>\n",
       "<style scoped>\n",
       "    .dataframe tbody tr th:only-of-type {\n",
       "        vertical-align: middle;\n",
       "    }\n",
       "\n",
       "    .dataframe tbody tr th {\n",
       "        vertical-align: top;\n",
       "    }\n",
       "\n",
       "    .dataframe thead th {\n",
       "        text-align: right;\n",
       "    }\n",
       "</style>\n",
       "<table border=\"1\" class=\"dataframe\">\n",
       "  <thead>\n",
       "    <tr style=\"text-align: right;\">\n",
       "      <th></th>\n",
       "      <th>monthly_charges</th>\n",
       "      <th>tenure</th>\n",
       "    </tr>\n",
       "  </thead>\n",
       "  <tbody>\n",
       "    <tr>\n",
       "      <th>count</th>\n",
       "      <td>1695.000000</td>\n",
       "      <td>1695.000000</td>\n",
       "    </tr>\n",
       "    <tr>\n",
       "      <th>mean</th>\n",
       "      <td>60.770413</td>\n",
       "      <td>56.735103</td>\n",
       "    </tr>\n",
       "    <tr>\n",
       "      <th>std</th>\n",
       "      <td>34.678865</td>\n",
       "      <td>18.209363</td>\n",
       "    </tr>\n",
       "    <tr>\n",
       "      <th>min</th>\n",
       "      <td>18.400000</td>\n",
       "      <td>0.000000</td>\n",
       "    </tr>\n",
       "    <tr>\n",
       "      <th>25%</th>\n",
       "      <td>24.025000</td>\n",
       "      <td>48.000000</td>\n",
       "    </tr>\n",
       "    <tr>\n",
       "      <th>50%</th>\n",
       "      <td>64.350000</td>\n",
       "      <td>64.000000</td>\n",
       "    </tr>\n",
       "    <tr>\n",
       "      <th>75%</th>\n",
       "      <td>90.450000</td>\n",
       "      <td>71.000000</td>\n",
       "    </tr>\n",
       "    <tr>\n",
       "      <th>max</th>\n",
       "      <td>118.750000</td>\n",
       "      <td>72.000000</td>\n",
       "    </tr>\n",
       "  </tbody>\n",
       "</table>\n",
       "</div>"
      ],
      "text/plain": [
       "       monthly_charges       tenure\n",
       "count      1695.000000  1695.000000\n",
       "mean         60.770413    56.735103\n",
       "std          34.678865    18.209363\n",
       "min          18.400000     0.000000\n",
       "25%          24.025000    48.000000\n",
       "50%          64.350000    64.000000\n",
       "75%          90.450000    71.000000\n",
       "max         118.750000    72.000000"
      ]
     },
     "execution_count": 5,
     "metadata": {},
     "output_type": "execute_result"
    }
   ],
   "source": [
    "df.describe()"
   ]
  },
  {
   "cell_type": "code",
   "execution_count": 6,
   "metadata": {},
   "outputs": [
    {
     "name": "stdout",
     "output_type": "stream",
     "text": [
      "<class 'pandas.core.frame.DataFrame'>\n",
      "RangeIndex: 1695 entries, 0 to 1694\n",
      "Data columns (total 4 columns):\n",
      " #   Column           Non-Null Count  Dtype  \n",
      "---  ------           --------------  -----  \n",
      " 0   customer_id      1695 non-null   object \n",
      " 1   monthly_charges  1695 non-null   float64\n",
      " 2   tenure           1695 non-null   int64  \n",
      " 3   total_charges    1695 non-null   object \n",
      "dtypes: float64(1), int64(1), object(2)\n",
      "memory usage: 53.1+ KB\n"
     ]
    }
   ],
   "source": [
    "df.info()"
   ]
  },
  {
   "cell_type": "code",
   "execution_count": 7,
   "metadata": {},
   "outputs": [
    {
     "data": {
      "text/plain": [
       "customer_id        0\n",
       "monthly_charges    0\n",
       "tenure             0\n",
       "total_charges      0\n",
       "dtype: int64"
      ]
     },
     "execution_count": 7,
     "metadata": {},
     "output_type": "execute_result"
    }
   ],
   "source": [
    "df.isnull().sum()"
   ]
  },
  {
   "cell_type": "markdown",
   "metadata": {},
   "source": [
    "### Takeaway:\n",
    "1. Change total_charges to float, and replace NaN values with 0"
   ]
  },
  {
   "cell_type": "code",
   "execution_count": 8,
   "metadata": {},
   "outputs": [],
   "source": [
    "df['total_charges'] = pd.to_numeric(df['total_charges'],errors='coerce')\n",
    "df[\"total_charges\"].fillna(0, inplace = True) "
   ]
  },
  {
   "cell_type": "code",
   "execution_count": 9,
   "metadata": {},
   "outputs": [
    {
     "name": "stdout",
     "output_type": "stream",
     "text": [
      "<class 'pandas.core.frame.DataFrame'>\n",
      "RangeIndex: 1695 entries, 0 to 1694\n",
      "Data columns (total 4 columns):\n",
      " #   Column           Non-Null Count  Dtype  \n",
      "---  ------           --------------  -----  \n",
      " 0   customer_id      1695 non-null   object \n",
      " 1   monthly_charges  1695 non-null   float64\n",
      " 2   tenure           1695 non-null   int64  \n",
      " 3   total_charges    1695 non-null   float64\n",
      "dtypes: float64(2), int64(1), object(1)\n",
      "memory usage: 53.1+ KB\n"
     ]
    }
   ],
   "source": [
    "df.info()"
   ]
  },
  {
   "cell_type": "markdown",
   "metadata": {},
   "source": [
    "### Added changes to warangle file, time to test if they work (Testing my wrangle File)"
   ]
  },
  {
   "cell_type": "code",
   "execution_count": 10,
   "metadata": {},
   "outputs": [],
   "source": [
    "df = wrangle_telco(get_telco_data(cached = True))"
   ]
  },
  {
   "cell_type": "code",
   "execution_count": 11,
   "metadata": {},
   "outputs": [
    {
     "data": {
      "text/plain": [
       "(1695, 4)"
      ]
     },
     "execution_count": 11,
     "metadata": {},
     "output_type": "execute_result"
    }
   ],
   "source": [
    "df.shape"
   ]
  },
  {
   "cell_type": "code",
   "execution_count": 12,
   "metadata": {},
   "outputs": [
    {
     "data": {
      "text/html": [
       "<div>\n",
       "<style scoped>\n",
       "    .dataframe tbody tr th:only-of-type {\n",
       "        vertical-align: middle;\n",
       "    }\n",
       "\n",
       "    .dataframe tbody tr th {\n",
       "        vertical-align: top;\n",
       "    }\n",
       "\n",
       "    .dataframe thead th {\n",
       "        text-align: right;\n",
       "    }\n",
       "</style>\n",
       "<table border=\"1\" class=\"dataframe\">\n",
       "  <thead>\n",
       "    <tr style=\"text-align: right;\">\n",
       "      <th></th>\n",
       "      <th>customer_id</th>\n",
       "      <th>monthly_charges</th>\n",
       "      <th>tenure</th>\n",
       "      <th>total_charges</th>\n",
       "    </tr>\n",
       "  </thead>\n",
       "  <tbody>\n",
       "    <tr>\n",
       "      <th>0</th>\n",
       "      <td>0013-SMEOE</td>\n",
       "      <td>109.70</td>\n",
       "      <td>71</td>\n",
       "      <td>7904.25</td>\n",
       "    </tr>\n",
       "    <tr>\n",
       "      <th>1</th>\n",
       "      <td>0014-BMAQU</td>\n",
       "      <td>84.65</td>\n",
       "      <td>63</td>\n",
       "      <td>5377.80</td>\n",
       "    </tr>\n",
       "    <tr>\n",
       "      <th>2</th>\n",
       "      <td>0016-QLJIS</td>\n",
       "      <td>90.45</td>\n",
       "      <td>65</td>\n",
       "      <td>5957.90</td>\n",
       "    </tr>\n",
       "    <tr>\n",
       "      <th>3</th>\n",
       "      <td>0017-DINOC</td>\n",
       "      <td>45.20</td>\n",
       "      <td>54</td>\n",
       "      <td>2460.55</td>\n",
       "    </tr>\n",
       "    <tr>\n",
       "      <th>4</th>\n",
       "      <td>0017-IUDMW</td>\n",
       "      <td>116.80</td>\n",
       "      <td>72</td>\n",
       "      <td>8456.75</td>\n",
       "    </tr>\n",
       "  </tbody>\n",
       "</table>\n",
       "</div>"
      ],
      "text/plain": [
       "  customer_id  monthly_charges  tenure  total_charges\n",
       "0  0013-SMEOE           109.70      71        7904.25\n",
       "1  0014-BMAQU            84.65      63        5377.80\n",
       "2  0016-QLJIS            90.45      65        5957.90\n",
       "3  0017-DINOC            45.20      54        2460.55\n",
       "4  0017-IUDMW           116.80      72        8456.75"
      ]
     },
     "execution_count": 12,
     "metadata": {},
     "output_type": "execute_result"
    }
   ],
   "source": [
    "df.head()"
   ]
  },
  {
   "cell_type": "code",
   "execution_count": 13,
   "metadata": {},
   "outputs": [
    {
     "data": {
      "text/html": [
       "<div>\n",
       "<style scoped>\n",
       "    .dataframe tbody tr th:only-of-type {\n",
       "        vertical-align: middle;\n",
       "    }\n",
       "\n",
       "    .dataframe tbody tr th {\n",
       "        vertical-align: top;\n",
       "    }\n",
       "\n",
       "    .dataframe thead th {\n",
       "        text-align: right;\n",
       "    }\n",
       "</style>\n",
       "<table border=\"1\" class=\"dataframe\">\n",
       "  <thead>\n",
       "    <tr style=\"text-align: right;\">\n",
       "      <th></th>\n",
       "      <th>monthly_charges</th>\n",
       "      <th>tenure</th>\n",
       "      <th>total_charges</th>\n",
       "    </tr>\n",
       "  </thead>\n",
       "  <tbody>\n",
       "    <tr>\n",
       "      <th>count</th>\n",
       "      <td>1695.000000</td>\n",
       "      <td>1695.000000</td>\n",
       "      <td>1695.000000</td>\n",
       "    </tr>\n",
       "    <tr>\n",
       "      <th>mean</th>\n",
       "      <td>60.770413</td>\n",
       "      <td>56.735103</td>\n",
       "      <td>3706.934336</td>\n",
       "    </tr>\n",
       "    <tr>\n",
       "      <th>std</th>\n",
       "      <td>34.678865</td>\n",
       "      <td>18.209363</td>\n",
       "      <td>2579.517834</td>\n",
       "    </tr>\n",
       "    <tr>\n",
       "      <th>min</th>\n",
       "      <td>18.400000</td>\n",
       "      <td>0.000000</td>\n",
       "      <td>0.000000</td>\n",
       "    </tr>\n",
       "    <tr>\n",
       "      <th>25%</th>\n",
       "      <td>24.025000</td>\n",
       "      <td>48.000000</td>\n",
       "      <td>1269.675000</td>\n",
       "    </tr>\n",
       "    <tr>\n",
       "      <th>50%</th>\n",
       "      <td>64.350000</td>\n",
       "      <td>64.000000</td>\n",
       "      <td>3593.800000</td>\n",
       "    </tr>\n",
       "    <tr>\n",
       "      <th>75%</th>\n",
       "      <td>90.450000</td>\n",
       "      <td>71.000000</td>\n",
       "      <td>5988.800000</td>\n",
       "    </tr>\n",
       "    <tr>\n",
       "      <th>max</th>\n",
       "      <td>118.750000</td>\n",
       "      <td>72.000000</td>\n",
       "      <td>8672.450000</td>\n",
       "    </tr>\n",
       "  </tbody>\n",
       "</table>\n",
       "</div>"
      ],
      "text/plain": [
       "       monthly_charges       tenure  total_charges\n",
       "count      1695.000000  1695.000000    1695.000000\n",
       "mean         60.770413    56.735103    3706.934336\n",
       "std          34.678865    18.209363    2579.517834\n",
       "min          18.400000     0.000000       0.000000\n",
       "25%          24.025000    48.000000    1269.675000\n",
       "50%          64.350000    64.000000    3593.800000\n",
       "75%          90.450000    71.000000    5988.800000\n",
       "max         118.750000    72.000000    8672.450000"
      ]
     },
     "execution_count": 13,
     "metadata": {},
     "output_type": "execute_result"
    }
   ],
   "source": [
    "df.describe()"
   ]
  },
  {
   "cell_type": "code",
   "execution_count": 14,
   "metadata": {},
   "outputs": [
    {
     "name": "stdout",
     "output_type": "stream",
     "text": [
      "<class 'pandas.core.frame.DataFrame'>\n",
      "RangeIndex: 1695 entries, 0 to 1694\n",
      "Data columns (total 4 columns):\n",
      " #   Column           Non-Null Count  Dtype  \n",
      "---  ------           --------------  -----  \n",
      " 0   customer_id      1695 non-null   object \n",
      " 1   monthly_charges  1695 non-null   float64\n",
      " 2   tenure           1695 non-null   int64  \n",
      " 3   total_charges    1695 non-null   float64\n",
      "dtypes: float64(2), int64(1), object(1)\n",
      "memory usage: 53.1+ KB\n"
     ]
    }
   ],
   "source": [
    "df.info()"
   ]
  },
  {
   "cell_type": "code",
   "execution_count": 15,
   "metadata": {},
   "outputs": [
    {
     "data": {
      "text/plain": [
       "customer_id        0\n",
       "monthly_charges    0\n",
       "tenure             0\n",
       "total_charges      0\n",
       "dtype: int64"
      ]
     },
     "execution_count": 15,
     "metadata": {},
     "output_type": "execute_result"
    }
   ],
   "source": [
    "df.isnull().sum()"
   ]
  },
  {
   "cell_type": "markdown",
   "metadata": {},
   "source": [
    "### Data Visualization"
   ]
  },
  {
   "cell_type": "code",
   "execution_count": 16,
   "metadata": {},
   "outputs": [
    {
     "data": {
      "image/png": "[encoded data removed]",
      "text/plain": [
       "<Figure size 1152x216 with 3 Axes>"
      ]
     },
     "metadata": {
      "needs_background": "light"
     },
     "output_type": "display_data"
    }
   ],
   "source": [
    "# Histograms\n",
    "\n",
    "# Visualize the distribution for continuous variables\n",
    "\n",
    "plt.figure(figsize=(16, 3))\n",
    "\n",
    "for i, col in enumerate(['monthly_charges', 'tenure', 'total_charges']):  \n",
    "    plot_number = i + 1 # i starts at 0, but plot nos should start at 1\n",
    "    series = df[col]  \n",
    "    plt.subplot(1,4, plot_number)\n",
    "    plt.title(col)\n",
    "    series.hist(bins=5)"
   ]
  },
  {
   "cell_type": "markdown",
   "metadata": {},
   "source": [
    "### Takaway:\n",
    "1. For customers with two year contracts: Total charges is skewed to the left, with the majority of the charges between 20 - 40 dollars\n",
    "2. For customers with two year contracts: Tenure is skewed to the right, with the majority of customers > 60 months\n",
    "3. For customers with two year contracts: Total charges is skewed to the left, with the majority of the charges between 0 and 2000 dollars\n",
    "\n",
    "**When it is time to split data we will need to stratify on total_charges because the distrubution of charges are NOT balanced**"
   ]
  },
  {
   "cell_type": "code",
   "execution_count": 17,
   "metadata": {},
   "outputs": [
    {
     "data": {
      "text/plain": [
       "<matplotlib.axes._subplots.AxesSubplot at 0x7f8a296f35b0>"
      ]
     },
     "execution_count": 17,
     "metadata": {},
     "output_type": "execute_result"
    },
    {
     "data": {
      "image/png": "[encoded data removed]",
      "text/plain": [
       "<Figure size 576x288 with 1 Axes>"
      ]
     },
     "metadata": {
      "needs_background": "light"
     },
     "output_type": "display_data"
    }
   ],
   "source": [
    "# Boxplots\n",
    "\n",
    "# We don't want to plot the `customer_id` column.\n",
    "plt.figure(figsize=(8,4))\n",
    "sns.boxplot(data=df.drop(columns=['customer_id']))"
   ]
  },
  {
   "cell_type": "markdown",
   "metadata": {},
   "source": [
    "### Takaway:\n",
    "1. The variation in price (0 - 8,600 dollars) is too high to make a boxplot useful"
   ]
  },
  {
   "cell_type": "markdown",
   "metadata": {},
   "source": [
    "## Cutting/Binning\n",
    "\n",
    "Lets us turn a continous variable into a categorical one by putting the numerical features in to bins\n",
    "- bins =   (defines bin)\n",
    "- **pd.cut** creates bins of equal width\n",
    "- **pd.qcut** creates bins with same number of observations in each\n",
    "\n",
    "In both cases the range of teh bins is derermined from teh data(but we can also specifiy it ourselves)\n",
    "\n",
    "**This can be helpfull for initial exploration, interpretation, and visualization.**"
   ]
  },
  {
   "cell_type": "code",
   "execution_count": 18,
   "metadata": {},
   "outputs": [
    {
     "data": {
      "text/plain": [
       "(64.8, 72.0]     840\n",
       "(57.6, 64.8]     229\n",
       "(50.4, 57.6]     161\n",
       "(43.2, 50.4]     128\n",
       "(36.0, 43.2]      83\n",
       "(28.8, 36.0]      71\n",
       "(21.6, 28.8]      57\n",
       "(7.2, 14.4]       53\n",
       "(14.4, 21.6]      40\n",
       "(-0.072, 7.2]     33\n",
       "Name: tenure, dtype: int64"
      ]
     },
     "execution_count": 18,
     "metadata": {},
     "output_type": "execute_result"
    }
   ],
   "source": [
    "# right side of the bin is inclusive\n",
    "# bins of equal width\n",
    "\n",
    "pd.cut(df.tenure, bins = 10).value_counts()"
   ]
  },
  {
   "cell_type": "code",
   "execution_count": 19,
   "metadata": {},
   "outputs": [
    {
     "data": {
      "text/plain": [
       "(-0.001, 48.0]    432\n",
       "(48.0, 64.0]      423\n",
       "(64.0, 71.0]      497\n",
       "(71.0, 72.0]      343\n",
       "Name: tenure, dtype: int64"
      ]
     },
     "execution_count": 19,
     "metadata": {},
     "output_type": "execute_result"
    }
   ],
   "source": [
    "# right side of the bin is inclusive\n",
    "# bins of equal size, different width\n",
    "\n",
    "pd.qcut(df.tenure, 4).value_counts().sort_index()"
   ]
  },
  {
   "cell_type": "markdown",
   "metadata": {},
   "source": [
    "# Splitting and Scaling Numeric Data"
   ]
  },
  {
   "cell_type": "code",
   "execution_count": 20,
   "metadata": {},
   "outputs": [
    {
     "name": "stdout",
     "output_type": "stream",
     "text": [
      "train (949, 4)\n",
      "validate (407, 4)\n",
      "test (339, 4)\n"
     ]
    }
   ],
   "source": [
    "# Read in my dataframe that has been split\n",
    "train, validate, test = train_valid_test(df)\n",
    "print('train', train.shape)\n",
    "print('validate', validate.shape)\n",
    "print('test', test.shape)"
   ]
  },
  {
   "cell_type": "code",
   "execution_count": 21,
   "metadata": {},
   "outputs": [
    {
     "data": {
      "text/html": [
       "<div>\n",
       "<style scoped>\n",
       "    .dataframe tbody tr th:only-of-type {\n",
       "        vertical-align: middle;\n",
       "    }\n",
       "\n",
       "    .dataframe tbody tr th {\n",
       "        vertical-align: top;\n",
       "    }\n",
       "\n",
       "    .dataframe thead th {\n",
       "        text-align: right;\n",
       "    }\n",
       "</style>\n",
       "<table border=\"1\" class=\"dataframe\">\n",
       "  <thead>\n",
       "    <tr style=\"text-align: right;\">\n",
       "      <th></th>\n",
       "      <th>customer_id</th>\n",
       "      <th>monthly_charges</th>\n",
       "      <th>tenure</th>\n",
       "      <th>total_charges</th>\n",
       "    </tr>\n",
       "  </thead>\n",
       "  <tbody>\n",
       "    <tr>\n",
       "      <th>1256</th>\n",
       "      <td>7501-IWUNG</td>\n",
       "      <td>73.80</td>\n",
       "      <td>61</td>\n",
       "      <td>4616.05</td>\n",
       "    </tr>\n",
       "    <tr>\n",
       "      <th>225</th>\n",
       "      <td>1303-SRDOK</td>\n",
       "      <td>69.05</td>\n",
       "      <td>55</td>\n",
       "      <td>3842.60</td>\n",
       "    </tr>\n",
       "    <tr>\n",
       "      <th>662</th>\n",
       "      <td>3967-VQOGC</td>\n",
       "      <td>24.90</td>\n",
       "      <td>67</td>\n",
       "      <td>1680.25</td>\n",
       "    </tr>\n",
       "    <tr>\n",
       "      <th>628</th>\n",
       "      <td>3777-XROBG</td>\n",
       "      <td>19.55</td>\n",
       "      <td>58</td>\n",
       "      <td>1079.65</td>\n",
       "    </tr>\n",
       "    <tr>\n",
       "      <th>824</th>\n",
       "      <td>5075-JSDKI</td>\n",
       "      <td>24.45</td>\n",
       "      <td>59</td>\n",
       "      <td>1493.10</td>\n",
       "    </tr>\n",
       "  </tbody>\n",
       "</table>\n",
       "</div>"
      ],
      "text/plain": [
       "     customer_id  monthly_charges  tenure  total_charges\n",
       "1256  7501-IWUNG            73.80      61        4616.05\n",
       "225   1303-SRDOK            69.05      55        3842.60\n",
       "662   3967-VQOGC            24.90      67        1680.25\n",
       "628   3777-XROBG            19.55      58        1079.65\n",
       "824   5075-JSDKI            24.45      59        1493.10"
      ]
     },
     "execution_count": 21,
     "metadata": {},
     "output_type": "execute_result"
    }
   ],
   "source": [
    "train.head()"
   ]
  },
  {
   "cell_type": "code",
   "execution_count": 34,
   "metadata": {},
   "outputs": [
    {
     "data": {
      "image/png": "[encoded data removed]",
      "text/plain": [
       "<Figure size 432x288 with 4 Axes>"
      ]
     },
     "metadata": {
      "needs_background": "light"
     },
     "output_type": "display_data"
    }
   ],
   "source": [
    "train.hist()\n",
    "plt.show()"
   ]
  },
  {
   "cell_type": "markdown",
   "metadata": {},
   "source": [
    " ## Standard Scaler"
   ]
  },
  {
   "cell_type": "code",
   "execution_count": 68,
   "metadata": {},
   "outputs": [
    {
     "name": "stdout",
     "output_type": "stream",
     "text": [
      "StandardScaler()\n",
      "(949, 4)\n"
     ]
    },
    {
     "data": {
      "text/html": [
       "<div>\n",
       "<style scoped>\n",
       "    .dataframe tbody tr th:only-of-type {\n",
       "        vertical-align: middle;\n",
       "    }\n",
       "\n",
       "    .dataframe tbody tr th {\n",
       "        vertical-align: top;\n",
       "    }\n",
       "\n",
       "    .dataframe thead th {\n",
       "        text-align: right;\n",
       "    }\n",
       "</style>\n",
       "<table border=\"1\" class=\"dataframe\">\n",
       "  <thead>\n",
       "    <tr style=\"text-align: right;\">\n",
       "      <th></th>\n",
       "      <th>customer_id</th>\n",
       "      <th>monthly_charges</th>\n",
       "      <th>tenure</th>\n",
       "      <th>total_charges</th>\n",
       "    </tr>\n",
       "  </thead>\n",
       "  <tbody>\n",
       "    <tr>\n",
       "      <th>1256</th>\n",
       "      <td>7501-IWUNG</td>\n",
       "      <td>0.249032</td>\n",
       "      <td>-0.198603</td>\n",
       "      <td>0.314559</td>\n",
       "    </tr>\n",
       "    <tr>\n",
       "      <th>225</th>\n",
       "      <td>1303-SRDOK</td>\n",
       "      <td>0.139591</td>\n",
       "      <td>-0.519134</td>\n",
       "      <td>0.086124</td>\n",
       "    </tr>\n",
       "    <tr>\n",
       "      <th>662</th>\n",
       "      <td>3967-VQOGC</td>\n",
       "      <td>-0.679531</td>\n",
       "      <td>0.230969</td>\n",
       "      <td>-0.465030</td>\n",
       "    </tr>\n",
       "    <tr>\n",
       "      <th>628</th>\n",
       "      <td>3777-XROBG</td>\n",
       "      <td>-1.590120</td>\n",
       "      <td>-0.348415</td>\n",
       "      <td>-1.030303</td>\n",
       "    </tr>\n",
       "    <tr>\n",
       "      <th>824</th>\n",
       "      <td>5075-JSDKI</td>\n",
       "      <td>-0.752699</td>\n",
       "      <td>-0.298085</td>\n",
       "      <td>-0.579537</td>\n",
       "    </tr>\n",
       "  </tbody>\n",
       "</table>\n",
       "</div>"
      ],
      "text/plain": [
       "     customer_id  monthly_charges    tenure  total_charges\n",
       "1256  7501-IWUNG         0.249032 -0.198603       0.314559\n",
       "225   1303-SRDOK         0.139591 -0.519134       0.086124\n",
       "662   3967-VQOGC        -0.679531  0.230969      -0.465030\n",
       "628   3777-XROBG        -1.590120 -0.348415      -1.030303\n",
       "824   5075-JSDKI        -0.752699 -0.298085      -0.579537"
      ]
     },
     "execution_count": 68,
     "metadata": {},
     "output_type": "execute_result"
    }
   ],
   "source": [
    "scaler, train1, validate1, test1 = standard_scaler(train, validate, test)\n",
    "print(scaler)\n",
    "print(train1.shape)\n",
    "train1.head()"
   ]
  },
  {
   "cell_type": "code",
   "execution_count": 64,
   "metadata": {},
   "outputs": [
    {
     "data": {
      "image/png": "[encoded data removed]",
      "text/plain": [
       "<Figure size 432x288 with 4 Axes>"
      ]
     },
     "metadata": {
      "needs_background": "light"
     },
     "output_type": "display_data"
    }
   ],
   "source": [
    "train1.hist()\n",
    "plt.show()"
   ]
  },
  {
   "cell_type": "code",
   "execution_count": 70,
   "metadata": {},
   "outputs": [
    {
     "ename": "ValueError",
     "evalue": "operands could not be broadcast together with shapes (949,4) (3,) (949,4) ",
     "output_type": "error",
     "traceback": [
      "\u001b[0;31m---------------------------------------------------------------------------\u001b[0m",
      "\u001b[0;31mValueError\u001b[0m                                Traceback (most recent call last)",
      "\u001b[0;32m<ipython-input-70-48fe28791745>\u001b[0m in \u001b[0;36m<module>\u001b[0;34m\u001b[0m\n\u001b[0;32m----> 1\u001b[0;31m \u001b[0mtest_iv\u001b[0m \u001b[0;34m=\u001b[0m \u001b[0mscaler\u001b[0m\u001b[0;34m.\u001b[0m\u001b[0minverse_transform\u001b[0m\u001b[0;34m(\u001b[0m\u001b[0mtrain1\u001b[0m\u001b[0;34m)\u001b[0m\u001b[0;34m\u001b[0m\u001b[0;34m\u001b[0m\u001b[0m\n\u001b[0m\u001b[1;32m      2\u001b[0m \u001b[0mtest_iv\u001b[0m\u001b[0;34m\u001b[0m\u001b[0;34m\u001b[0m\u001b[0m\n",
      "\u001b[0;32m/opt/anaconda3/lib/python3.8/site-packages/sklearn/preprocessing/_data.py\u001b[0m in \u001b[0;36minverse_transform\u001b[0;34m(self, X, copy)\u001b[0m\n\u001b[1;32m    843\u001b[0m                 \u001b[0mX\u001b[0m \u001b[0;34m=\u001b[0m \u001b[0mX\u001b[0m\u001b[0;34m.\u001b[0m\u001b[0mcopy\u001b[0m\u001b[0;34m(\u001b[0m\u001b[0;34m)\u001b[0m\u001b[0;34m\u001b[0m\u001b[0;34m\u001b[0m\u001b[0m\n\u001b[1;32m    844\u001b[0m             \u001b[0;32mif\u001b[0m \u001b[0mself\u001b[0m\u001b[0;34m.\u001b[0m\u001b[0mwith_std\u001b[0m\u001b[0;34m:\u001b[0m\u001b[0;34m\u001b[0m\u001b[0;34m\u001b[0m\u001b[0m\n\u001b[0;32m--> 845\u001b[0;31m                 \u001b[0mX\u001b[0m \u001b[0;34m*=\u001b[0m \u001b[0mself\u001b[0m\u001b[0;34m.\u001b[0m\u001b[0mscale_\u001b[0m\u001b[0;34m\u001b[0m\u001b[0;34m\u001b[0m\u001b[0m\n\u001b[0m\u001b[1;32m    846\u001b[0m             \u001b[0;32mif\u001b[0m \u001b[0mself\u001b[0m\u001b[0;34m.\u001b[0m\u001b[0mwith_mean\u001b[0m\u001b[0;34m:\u001b[0m\u001b[0;34m\u001b[0m\u001b[0;34m\u001b[0m\u001b[0m\n\u001b[1;32m    847\u001b[0m                 \u001b[0mX\u001b[0m \u001b[0;34m+=\u001b[0m \u001b[0mself\u001b[0m\u001b[0;34m.\u001b[0m\u001b[0mmean_\u001b[0m\u001b[0;34m\u001b[0m\u001b[0;34m\u001b[0m\u001b[0m\n",
      "\u001b[0;31mValueError\u001b[0m: operands could not be broadcast together with shapes (949,4) (3,) (949,4) "
     ]
    }
   ],
   "source": [
    "test_iv = scaler.inverse_transform(train1)\n",
    "test_iv"
   ]
  },
  {
   "cell_type": "markdown",
   "metadata": {},
   "source": [
    "## Uniform Scaler"
   ]
  },
  {
   "cell_type": "code",
   "execution_count": 36,
   "metadata": {},
   "outputs": [
    {
     "name": "stdout",
     "output_type": "stream",
     "text": [
      "QuantileTransformer(n_quantiles=100, random_state=123)\n",
      "(949, 4)\n"
     ]
    },
    {
     "data": {
      "text/html": [
       "<div>\n",
       "<style scoped>\n",
       "    .dataframe tbody tr th:only-of-type {\n",
       "        vertical-align: middle;\n",
       "    }\n",
       "\n",
       "    .dataframe tbody tr th {\n",
       "        vertical-align: top;\n",
       "    }\n",
       "\n",
       "    .dataframe thead th {\n",
       "        text-align: right;\n",
       "    }\n",
       "</style>\n",
       "<table border=\"1\" class=\"dataframe\">\n",
       "  <thead>\n",
       "    <tr style=\"text-align: right;\">\n",
       "      <th></th>\n",
       "      <th>customer_id</th>\n",
       "      <th>monthly_charges</th>\n",
       "      <th>tenure</th>\n",
       "      <th>total_charges</th>\n",
       "    </tr>\n",
       "  </thead>\n",
       "  <tbody>\n",
       "    <tr>\n",
       "      <th>1256</th>\n",
       "      <td>7501-IWUNG</td>\n",
       "      <td>0.565552</td>\n",
       "      <td>0.434343</td>\n",
       "      <td>0.584728</td>\n",
       "    </tr>\n",
       "    <tr>\n",
       "      <th>225</th>\n",
       "      <td>1303-SRDOK</td>\n",
       "      <td>0.533541</td>\n",
       "      <td>0.338384</td>\n",
       "      <td>0.517920</td>\n",
       "    </tr>\n",
       "    <tr>\n",
       "      <th>662</th>\n",
       "      <td>3967-VQOGC</td>\n",
       "      <td>0.299248</td>\n",
       "      <td>0.570707</td>\n",
       "      <td>0.359735</td>\n",
       "    </tr>\n",
       "    <tr>\n",
       "      <th>628</th>\n",
       "      <td>3777-XROBG</td>\n",
       "      <td>0.050505</td>\n",
       "      <td>0.388889</td>\n",
       "      <td>0.202117</td>\n",
       "    </tr>\n",
       "    <tr>\n",
       "      <th>824</th>\n",
       "      <td>5075-JSDKI</td>\n",
       "      <td>0.278790</td>\n",
       "      <td>0.404040</td>\n",
       "      <td>0.327419</td>\n",
       "    </tr>\n",
       "  </tbody>\n",
       "</table>\n",
       "</div>"
      ],
      "text/plain": [
       "     customer_id  monthly_charges    tenure  total_charges\n",
       "1256  7501-IWUNG         0.565552  0.434343       0.584728\n",
       "225   1303-SRDOK         0.533541  0.338384       0.517920\n",
       "662   3967-VQOGC         0.299248  0.570707       0.359735\n",
       "628   3777-XROBG         0.050505  0.388889       0.202117\n",
       "824   5075-JSDKI         0.278790  0.404040       0.327419"
      ]
     },
     "execution_count": 36,
     "metadata": {},
     "output_type": "execute_result"
    }
   ],
   "source": [
    "scaler, train2, validate2, test2 = uniform_scaler(train, validate, test)\n",
    "print(scaler)\n",
    "print(train2.shape)\n",
    "train2.head()"
   ]
  },
  {
   "cell_type": "code",
   "execution_count": 27,
   "metadata": {},
   "outputs": [
    {
     "data": {
      "image/png": "[encoded data removed]",
      "text/plain": [
       "<Figure size 432x288 with 4 Axes>"
      ]
     },
     "metadata": {
      "needs_background": "light"
     },
     "output_type": "display_data"
    }
   ],
   "source": [
    "train2.hist()\n",
    "plt.show()"
   ]
  },
  {
   "cell_type": "markdown",
   "metadata": {},
   "source": [
    "## Gaussian Scaler"
   ]
  },
  {
   "cell_type": "code",
   "execution_count": 37,
   "metadata": {},
   "outputs": [
    {
     "name": "stdout",
     "output_type": "stream",
     "text": [
      "PowerTransformer(standardize=False)\n",
      "(949, 4)\n"
     ]
    },
    {
     "data": {
      "text/html": [
       "<div>\n",
       "<style scoped>\n",
       "    .dataframe tbody tr th:only-of-type {\n",
       "        vertical-align: middle;\n",
       "    }\n",
       "\n",
       "    .dataframe tbody tr th {\n",
       "        vertical-align: top;\n",
       "    }\n",
       "\n",
       "    .dataframe thead th {\n",
       "        text-align: right;\n",
       "    }\n",
       "</style>\n",
       "<table border=\"1\" class=\"dataframe\">\n",
       "  <thead>\n",
       "    <tr style=\"text-align: right;\">\n",
       "      <th></th>\n",
       "      <th>customer_id</th>\n",
       "      <th>monthly_charges</th>\n",
       "      <th>tenure</th>\n",
       "      <th>total_charges</th>\n",
       "    </tr>\n",
       "  </thead>\n",
       "  <tbody>\n",
       "    <tr>\n",
       "      <th>1256</th>\n",
       "      <td>7501-IWUNG</td>\n",
       "      <td>0.533428</td>\n",
       "      <td>0.378828</td>\n",
       "      <td>0.550144</td>\n",
       "    </tr>\n",
       "    <tr>\n",
       "      <th>225</th>\n",
       "      <td>1303-SRDOK</td>\n",
       "      <td>0.504673</td>\n",
       "      <td>0.303220</td>\n",
       "      <td>0.490233</td>\n",
       "    </tr>\n",
       "    <tr>\n",
       "      <th>662</th>\n",
       "      <td>3967-VQOGC</td>\n",
       "      <td>0.289452</td>\n",
       "      <td>0.480158</td>\n",
       "      <td>0.345683</td>\n",
       "    </tr>\n",
       "    <tr>\n",
       "      <th>628</th>\n",
       "      <td>3777-XROBG</td>\n",
       "      <td>0.050199</td>\n",
       "      <td>0.343490</td>\n",
       "      <td>0.197431</td>\n",
       "    </tr>\n",
       "    <tr>\n",
       "      <th>824</th>\n",
       "      <td>5075-JSDKI</td>\n",
       "      <td>0.270227</td>\n",
       "      <td>0.355362</td>\n",
       "      <td>0.315652</td>\n",
       "    </tr>\n",
       "  </tbody>\n",
       "</table>\n",
       "</div>"
      ],
      "text/plain": [
       "     customer_id  monthly_charges    tenure  total_charges\n",
       "1256  7501-IWUNG         0.533428  0.378828       0.550144\n",
       "225   1303-SRDOK         0.504673  0.303220       0.490233\n",
       "662   3967-VQOGC         0.289452  0.480158       0.345683\n",
       "628   3777-XROBG         0.050199  0.343490       0.197431\n",
       "824   5075-JSDKI         0.270227  0.355362       0.315652"
      ]
     },
     "execution_count": 37,
     "metadata": {},
     "output_type": "execute_result"
    }
   ],
   "source": [
    "scaler, train3, validate3, test3 = gaussian_scaler(train, validate, test)\n",
    "print(scaler)\n",
    "print(train3.shape)\n",
    "train3.head()"
   ]
  },
  {
   "cell_type": "code",
   "execution_count": 29,
   "metadata": {},
   "outputs": [
    {
     "data": {
      "image/png": "[encoded data removed]",
      "text/plain": [
       "<Figure size 432x288 with 4 Axes>"
      ]
     },
     "metadata": {
      "needs_background": "light"
     },
     "output_type": "display_data"
    }
   ],
   "source": [
    "train3.hist()\n",
    "plt.show()"
   ]
  },
  {
   "cell_type": "markdown",
   "metadata": {},
   "source": [
    "## Min_Max Scaler"
   ]
  },
  {
   "cell_type": "code",
   "execution_count": 38,
   "metadata": {},
   "outputs": [
    {
     "name": "stdout",
     "output_type": "stream",
     "text": [
      "MinMaxScaler()\n",
      "(949, 4)\n"
     ]
    },
    {
     "data": {
      "text/html": [
       "<div>\n",
       "<style scoped>\n",
       "    .dataframe tbody tr th:only-of-type {\n",
       "        vertical-align: middle;\n",
       "    }\n",
       "\n",
       "    .dataframe tbody tr th {\n",
       "        vertical-align: top;\n",
       "    }\n",
       "\n",
       "    .dataframe thead th {\n",
       "        text-align: right;\n",
       "    }\n",
       "</style>\n",
       "<table border=\"1\" class=\"dataframe\">\n",
       "  <thead>\n",
       "    <tr style=\"text-align: right;\">\n",
       "      <th></th>\n",
       "      <th>customer_id</th>\n",
       "      <th>monthly_charges</th>\n",
       "      <th>tenure</th>\n",
       "      <th>total_charges</th>\n",
       "    </tr>\n",
       "  </thead>\n",
       "  <tbody>\n",
       "    <tr>\n",
       "      <th>1256</th>\n",
       "      <td>7501-IWUNG</td>\n",
       "      <td>0.585669</td>\n",
       "      <td>0.497058</td>\n",
       "      <td>0.604771</td>\n",
       "    </tr>\n",
       "    <tr>\n",
       "      <th>225</th>\n",
       "      <td>1303-SRDOK</td>\n",
       "      <td>0.554097</td>\n",
       "      <td>0.397852</td>\n",
       "      <td>0.538911</td>\n",
       "    </tr>\n",
       "    <tr>\n",
       "      <th>662</th>\n",
       "      <td>3967-VQOGC</td>\n",
       "      <td>0.317799</td>\n",
       "      <td>0.630011</td>\n",
       "      <td>0.380008</td>\n",
       "    </tr>\n",
       "    <tr>\n",
       "      <th>628</th>\n",
       "      <td>3777-XROBG</td>\n",
       "      <td>0.055115</td>\n",
       "      <td>0.450690</td>\n",
       "      <td>0.217035</td>\n",
       "    </tr>\n",
       "    <tr>\n",
       "      <th>824</th>\n",
       "      <td>5075-JSDKI</td>\n",
       "      <td>0.296692</td>\n",
       "      <td>0.466268</td>\n",
       "      <td>0.346995</td>\n",
       "    </tr>\n",
       "  </tbody>\n",
       "</table>\n",
       "</div>"
      ],
      "text/plain": [
       "     customer_id  monthly_charges    tenure  total_charges\n",
       "1256  7501-IWUNG         0.585669  0.497058       0.604771\n",
       "225   1303-SRDOK         0.554097  0.397852       0.538911\n",
       "662   3967-VQOGC         0.317799  0.630011       0.380008\n",
       "628   3777-XROBG         0.055115  0.450690       0.217035\n",
       "824   5075-JSDKI         0.296692  0.466268       0.346995"
      ]
     },
     "execution_count": 38,
     "metadata": {},
     "output_type": "execute_result"
    }
   ],
   "source": [
    "scaler, train4, validate4, test4 = min_max_scaler(train, validate, test)\n",
    "print(scaler)\n",
    "print(train4.shape)\n",
    "train4.head()"
   ]
  },
  {
   "cell_type": "code",
   "execution_count": 31,
   "metadata": {},
   "outputs": [
    {
     "data": {
      "image/png": "[encoded data removed]",
      "text/plain": [
       "<Figure size 432x288 with 4 Axes>"
      ]
     },
     "metadata": {
      "needs_background": "light"
     },
     "output_type": "display_data"
    }
   ],
   "source": [
    "train4.hist()\n",
    "plt.show()"
   ]
  },
  {
   "cell_type": "markdown",
   "metadata": {},
   "source": [
    "## Robust Scaler"
   ]
  },
  {
   "cell_type": "code",
   "execution_count": 39,
   "metadata": {},
   "outputs": [
    {
     "name": "stdout",
     "output_type": "stream",
     "text": [
      "RobustScaler()\n",
      "(949, 4)\n"
     ]
    },
    {
     "data": {
      "text/html": [
       "<div>\n",
       "<style scoped>\n",
       "    .dataframe tbody tr th:only-of-type {\n",
       "        vertical-align: middle;\n",
       "    }\n",
       "\n",
       "    .dataframe tbody tr th {\n",
       "        vertical-align: top;\n",
       "    }\n",
       "\n",
       "    .dataframe thead th {\n",
       "        text-align: right;\n",
       "    }\n",
       "</style>\n",
       "<table border=\"1\" class=\"dataframe\">\n",
       "  <thead>\n",
       "    <tr style=\"text-align: right;\">\n",
       "      <th></th>\n",
       "      <th>customer_id</th>\n",
       "      <th>monthly_charges</th>\n",
       "      <th>tenure</th>\n",
       "      <th>total_charges</th>\n",
       "    </tr>\n",
       "  </thead>\n",
       "  <tbody>\n",
       "    <tr>\n",
       "      <th>1256</th>\n",
       "      <td>7501-IWUNG</td>\n",
       "      <td>0.130547</td>\n",
       "      <td>-0.128730</td>\n",
       "      <td>0.170092</td>\n",
       "    </tr>\n",
       "    <tr>\n",
       "      <th>225</th>\n",
       "      <td>1303-SRDOK</td>\n",
       "      <td>0.067190</td>\n",
       "      <td>-0.324850</td>\n",
       "      <td>0.037649</td>\n",
       "    </tr>\n",
       "    <tr>\n",
       "      <th>662</th>\n",
       "      <td>3967-VQOGC</td>\n",
       "      <td>-0.407004</td>\n",
       "      <td>0.134109</td>\n",
       "      <td>-0.281901</td>\n",
       "    </tr>\n",
       "    <tr>\n",
       "      <th>628</th>\n",
       "      <td>3777-XROBG</td>\n",
       "      <td>-0.934148</td>\n",
       "      <td>-0.220394</td>\n",
       "      <td>-0.609636</td>\n",
       "    </tr>\n",
       "    <tr>\n",
       "      <th>824</th>\n",
       "      <td>5075-JSDKI</td>\n",
       "      <td>-0.449361</td>\n",
       "      <td>-0.189599</td>\n",
       "      <td>-0.348290</td>\n",
       "    </tr>\n",
       "  </tbody>\n",
       "</table>\n",
       "</div>"
      ],
      "text/plain": [
       "     customer_id  monthly_charges    tenure  total_charges\n",
       "1256  7501-IWUNG         0.130547 -0.128730       0.170092\n",
       "225   1303-SRDOK         0.067190 -0.324850       0.037649\n",
       "662   3967-VQOGC        -0.407004  0.134109      -0.281901\n",
       "628   3777-XROBG        -0.934148 -0.220394      -0.609636\n",
       "824   5075-JSDKI        -0.449361 -0.189599      -0.348290"
      ]
     },
     "execution_count": 39,
     "metadata": {},
     "output_type": "execute_result"
    }
   ],
   "source": [
    "scaler, train5, validate5, test5 = iqr_robust_scaler(train, validate, test)\n",
    "print(scaler)\n",
    "print(train5.shape)\n",
    "train5.head()"
   ]
  },
  {
   "cell_type": "code",
   "execution_count": 33,
   "metadata": {},
   "outputs": [
    {
     "data": {
      "image/png": "[encoded data removed]",
      "text/plain": [
       "<Figure size 432x288 with 4 Axes>"
      ]
     },
     "metadata": {
      "needs_background": "light"
     },
     "output_type": "display_data"
    }
   ],
   "source": [
    "train5.hist()\n",
    "plt.show()"
   ]
  },
  {
   "cell_type": "code",
   "execution_count": null,
   "metadata": {},
   "outputs": [],
   "source": []
  }
 ],
 "metadata": {
  "kernelspec": {
   "display_name": "Python 3",
   "language": "python",
   "name": "python3"
  },
  "language_info": {
   "codemirror_mode": {
    "name": "ipython",
    "version": 3
   },
   "file_extension": ".py",
   "mimetype": "text/x-python",
   "name": "python",
   "nbconvert_exporter": "python",
   "pygments_lexer": "ipython3",
   "version": "3.8.3"
  }
 },
 "nbformat": 4,
 "nbformat_minor": 4
}
