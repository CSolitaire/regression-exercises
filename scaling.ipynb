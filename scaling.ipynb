{
 "cells": [
  {
   "cell_type": "markdown",
   "metadata": {},
   "source": [
    "# Scaling Data Lesson\n",
    "### Corey Solitaire\n",
    "### 09/28/2020"
   ]
  },
  {
   "cell_type": "code",
   "execution_count": 1,
   "metadata": {},
   "outputs": [],
   "source": [
    "import numpy as np\n",
    "import pandas as pd\n",
    "import seaborn as sns\n",
    "import matplotlib.pyplot as plt\n",
    "from math import sqrt\n",
    "from scipy import stats\n",
    "from sklearn.preprocessing import StandardScaler, QuantileTransformer, PowerTransformer, RobustScaler, MinMaxScaler\n",
    "from sklearn.model_selection import train_test_split\n",
    "import warnings\n",
    "warnings.filterwarnings(\"ignore\")\n",
    "\n",
    "# Import Data\n",
    "from acquire import get_telco_data\n",
    "# Transform Data\n",
    "from wrangle import wrangle_telco\n",
    "# Split Data\n",
    "from split_scale import train_valid_test\n",
    "# Scale Data\n",
    "from split_scale import add_scaled_columns, standard_scaler, uniform_scaler, gaussian_scaler, min_max_scaler, iqr_robust_scaler \n",
    "# Inverse Scale\n",
    "from split_scale import scale_inverse"
   ]
  },
  {
   "cell_type": "markdown",
   "metadata": {},
   "source": [
    "## Wrangle Data"
   ]
  },
  {
   "cell_type": "code",
   "execution_count": 2,
   "metadata": {},
   "outputs": [],
   "source": [
    "# Wranle (acquire and prepare) : \n",
    "df = wrangle_telco(get_telco_data(cached = True))"
   ]
  },
  {
   "cell_type": "markdown",
   "metadata": {},
   "source": [
    "## Split Data"
   ]
  },
  {
   "cell_type": "code",
   "execution_count": 3,
   "metadata": {},
   "outputs": [
    {
     "name": "stdout",
     "output_type": "stream",
     "text": [
      "train (949, 4)\n",
      "validate (407, 4)\n",
      "test (339, 4)\n"
     ]
    }
   ],
   "source": [
    "# Split data\n",
    "\n",
    "train, validate, test = train_valid_test(df)\n",
    "print('train', train.shape)\n",
    "print('validate', validate.shape)\n",
    "print('test', test.shape)"
   ]
  },
  {
   "cell_type": "code",
   "execution_count": 4,
   "metadata": {},
   "outputs": [
    {
     "data": {
      "image/png": "[encoded data removed]",
      "text/plain": [
       "<Figure size 432x288 with 4 Axes>"
      ]
     },
     "metadata": {
      "needs_background": "light"
     },
     "output_type": "display_data"
    }
   ],
   "source": [
    "train.hist()\n",
    "plt.show()"
   ]
  },
  {
   "cell_type": "code",
   "execution_count": 5,
   "metadata": {},
   "outputs": [
    {
     "data": {
      "text/html": [
       "<div>\n",
       "<style scoped>\n",
       "    .dataframe tbody tr th:only-of-type {\n",
       "        vertical-align: middle;\n",
       "    }\n",
       "\n",
       "    .dataframe tbody tr th {\n",
       "        vertical-align: top;\n",
       "    }\n",
       "\n",
       "    .dataframe thead th {\n",
       "        text-align: right;\n",
       "    }\n",
       "</style>\n",
       "<table border=\"1\" class=\"dataframe\">\n",
       "  <thead>\n",
       "    <tr style=\"text-align: right;\">\n",
       "      <th></th>\n",
       "      <th>monthly_charges</th>\n",
       "      <th>tenure</th>\n",
       "      <th>total_charges</th>\n",
       "    </tr>\n",
       "  </thead>\n",
       "  <tbody>\n",
       "    <tr>\n",
       "      <th>count</th>\n",
       "      <td>949.000000</td>\n",
       "      <td>949.000000</td>\n",
       "      <td>949.000000</td>\n",
       "    </tr>\n",
       "    <tr>\n",
       "      <th>mean</th>\n",
       "      <td>61.224921</td>\n",
       "      <td>56.495258</td>\n",
       "      <td>3729.519968</td>\n",
       "    </tr>\n",
       "    <tr>\n",
       "      <th>std</th>\n",
       "      <td>34.779455</td>\n",
       "      <td>18.354262</td>\n",
       "      <td>2600.297158</td>\n",
       "    </tr>\n",
       "    <tr>\n",
       "      <th>min</th>\n",
       "      <td>18.400000</td>\n",
       "      <td>0.000000</td>\n",
       "      <td>0.000000</td>\n",
       "    </tr>\n",
       "    <tr>\n",
       "      <th>25%</th>\n",
       "      <td>22.950000</td>\n",
       "      <td>47.000000</td>\n",
       "      <td>1237.650000</td>\n",
       "    </tr>\n",
       "    <tr>\n",
       "      <th>50%</th>\n",
       "      <td>64.700000</td>\n",
       "      <td>64.000000</td>\n",
       "      <td>3603.450000</td>\n",
       "    </tr>\n",
       "    <tr>\n",
       "      <th>75%</th>\n",
       "      <td>90.400000</td>\n",
       "      <td>71.000000</td>\n",
       "      <td>6052.250000</td>\n",
       "    </tr>\n",
       "    <tr>\n",
       "      <th>max</th>\n",
       "      <td>118.650000</td>\n",
       "      <td>72.000000</td>\n",
       "      <td>8670.100000</td>\n",
       "    </tr>\n",
       "  </tbody>\n",
       "</table>\n",
       "</div>"
      ],
      "text/plain": [
       "       monthly_charges      tenure  total_charges\n",
       "count       949.000000  949.000000     949.000000\n",
       "mean         61.224921   56.495258    3729.519968\n",
       "std          34.779455   18.354262    2600.297158\n",
       "min          18.400000    0.000000       0.000000\n",
       "25%          22.950000   47.000000    1237.650000\n",
       "50%          64.700000   64.000000    3603.450000\n",
       "75%          90.400000   71.000000    6052.250000\n",
       "max         118.650000   72.000000    8670.100000"
      ]
     },
     "execution_count": 5,
     "metadata": {},
     "output_type": "execute_result"
    }
   ],
   "source": [
    "train.describe()"
   ]
  },
  {
   "cell_type": "code",
   "execution_count": 6,
   "metadata": {},
   "outputs": [
    {
     "data": {
      "text/html": [
       "<div>\n",
       "<style scoped>\n",
       "    .dataframe tbody tr th:only-of-type {\n",
       "        vertical-align: middle;\n",
       "    }\n",
       "\n",
       "    .dataframe tbody tr th {\n",
       "        vertical-align: top;\n",
       "    }\n",
       "\n",
       "    .dataframe thead th {\n",
       "        text-align: right;\n",
       "    }\n",
       "</style>\n",
       "<table border=\"1\" class=\"dataframe\">\n",
       "  <thead>\n",
       "    <tr style=\"text-align: right;\">\n",
       "      <th></th>\n",
       "      <th>customer_id</th>\n",
       "      <th>monthly_charges</th>\n",
       "      <th>tenure</th>\n",
       "      <th>total_charges</th>\n",
       "    </tr>\n",
       "  </thead>\n",
       "  <tbody>\n",
       "    <tr>\n",
       "      <th>1256</th>\n",
       "      <td>7501-IWUNG</td>\n",
       "      <td>73.8</td>\n",
       "      <td>61</td>\n",
       "      <td>4616.05</td>\n",
       "    </tr>\n",
       "  </tbody>\n",
       "</table>\n",
       "</div>"
      ],
      "text/plain": [
       "     customer_id  monthly_charges  tenure  total_charges\n",
       "1256  7501-IWUNG             73.8      61        4616.05"
      ]
     },
     "execution_count": 6,
     "metadata": {},
     "output_type": "execute_result"
    }
   ],
   "source": [
    "train.head(1)"
   ]
  },
  {
   "cell_type": "markdown",
   "metadata": {},
   "source": [
    "# 1. Apply the scalers we talked about in this lesson to your data and visualize the results in a way that can understand ."
   ]
  },
  {
   "cell_type": "markdown",
   "metadata": {},
   "source": [
    "*****\n",
    "# MinMaxScaler: (Linear Function)\n",
    "-Min-max scaling is a linear scaling method that transforms our features such that the range is between 0 and 1\n",
    "\n",
    "-Most common scaler because it keeps the range of variabes between 0-1, similar to boolean variables\n",
    "\n",
    "*****"
   ]
  },
  {
   "cell_type": "code",
   "execution_count": 7,
   "metadata": {},
   "outputs": [],
   "source": [
    "#MinMaxScaler\n",
    "df = wrangle_telco(get_telco_data(cached = True))\n",
    "train, validate, test = train_valid_test(df)\n",
    "scaler1, train1, validate1, test1 = add_scaled_columns(\n",
    "    train,\n",
    "    validate,\n",
    "    test,\n",
    "    scaler = MinMaxScaler(),\n",
    "    columns_to_scale=['monthly_charges', 'tenure', 'total_charges'],\n",
    ")"
   ]
  },
  {
   "cell_type": "code",
   "execution_count": 8,
   "metadata": {},
   "outputs": [
    {
     "data": {
      "text/plain": [
       "(949, 7)"
      ]
     },
     "execution_count": 8,
     "metadata": {},
     "output_type": "execute_result"
    }
   ],
   "source": [
    "train1.shape"
   ]
  },
  {
   "cell_type": "code",
   "execution_count": 9,
   "metadata": {},
   "outputs": [
    {
     "data": {
      "text/html": [
       "<div>\n",
       "<style scoped>\n",
       "    .dataframe tbody tr th:only-of-type {\n",
       "        vertical-align: middle;\n",
       "    }\n",
       "\n",
       "    .dataframe tbody tr th {\n",
       "        vertical-align: top;\n",
       "    }\n",
       "\n",
       "    .dataframe thead th {\n",
       "        text-align: right;\n",
       "    }\n",
       "</style>\n",
       "<table border=\"1\" class=\"dataframe\">\n",
       "  <thead>\n",
       "    <tr style=\"text-align: right;\">\n",
       "      <th></th>\n",
       "      <th>customer_id</th>\n",
       "      <th>monthly_charges</th>\n",
       "      <th>tenure</th>\n",
       "      <th>total_charges</th>\n",
       "      <th>monthly_charges_scaled</th>\n",
       "      <th>tenure_scaled</th>\n",
       "      <th>total_charges_scaled</th>\n",
       "    </tr>\n",
       "  </thead>\n",
       "  <tbody>\n",
       "    <tr>\n",
       "      <th>1256</th>\n",
       "      <td>7501-IWUNG</td>\n",
       "      <td>73.8</td>\n",
       "      <td>61</td>\n",
       "      <td>4616.05</td>\n",
       "      <td>0.552618</td>\n",
       "      <td>0.847222</td>\n",
       "      <td>0.53241</td>\n",
       "    </tr>\n",
       "  </tbody>\n",
       "</table>\n",
       "</div>"
      ],
      "text/plain": [
       "     customer_id  monthly_charges  tenure  total_charges  \\\n",
       "1256  7501-IWUNG             73.8      61        4616.05   \n",
       "\n",
       "      monthly_charges_scaled  tenure_scaled  total_charges_scaled  \n",
       "1256                0.552618       0.847222               0.53241  "
      ]
     },
     "execution_count": 9,
     "metadata": {},
     "output_type": "execute_result"
    }
   ],
   "source": [
    "train1.head(1)"
   ]
  },
  {
   "cell_type": "markdown",
   "metadata": {},
   "source": [
    "### Visualization"
   ]
  },
  {
   "cell_type": "code",
   "execution_count": 10,
   "metadata": {},
   "outputs": [
    {
     "data": {
      "image/png": "[encoded data removed]",
      "text/plain": [
       "<Figure size 936x432 with 2 Axes>"
      ]
     },
     "metadata": {
      "needs_background": "light"
     },
     "output_type": "display_data"
    }
   ],
   "source": [
    "plt.figure(figsize=(13, 6))\n",
    "plt.subplot(121)\n",
    "train1.total_charges.plot.hist(title='Original')\n",
    "plt.subplot(122)\n",
    "train1.total_charges_scaled.plot.hist(title='Min Max Scaler')\n",
    "plt.show()"
   ]
  },
  {
   "cell_type": "markdown",
   "metadata": {},
   "source": [
    "*****\n",
    "\n",
    "# Standard Scaler: (Linear Function)\n",
    "\n",
    "\n",
    "- Standardization is a linear transformation of our data such that is looks like the standard normal distribution. That is, it will have a mean of 0 and a standard deviation of 1\n",
    "\n",
    "**Sometimes this is split into two operations:**\n",
    "\n",
    "    - Scaling is dividing each data point by the standard deviation. This causes the resulting dataset to have a \n",
    "      standard deviation of 1.\n",
    "    \n",
    "     - Centering is subtracting the mean from each data point. This causes the resulting dataset to have a mean \n",
    "        of 0.\n",
    "  \n",
    "*****"
   ]
  },
  {
   "cell_type": "code",
   "execution_count": 11,
   "metadata": {},
   "outputs": [],
   "source": [
    "#StandardScaler\n",
    "df = wrangle_telco(get_telco_data(cached = True))\n",
    "train, validate, test = train_valid_test(df)\n",
    "scaler2, train2, validate2, test2 = add_scaled_columns(\n",
    "    train,\n",
    "    validate,\n",
    "    test,\n",
    "    scaler = StandardScaler(),\n",
    "    columns_to_scale=['monthly_charges', 'tenure', 'total_charges'],\n",
    ")"
   ]
  },
  {
   "cell_type": "code",
   "execution_count": 12,
   "metadata": {},
   "outputs": [
    {
     "data": {
      "text/plain": [
       "(949, 7)"
      ]
     },
     "execution_count": 12,
     "metadata": {},
     "output_type": "execute_result"
    }
   ],
   "source": [
    "train2.shape"
   ]
  },
  {
   "cell_type": "code",
   "execution_count": 13,
   "metadata": {},
   "outputs": [
    {
     "data": {
      "text/html": [
       "<div>\n",
       "<style scoped>\n",
       "    .dataframe tbody tr th:only-of-type {\n",
       "        vertical-align: middle;\n",
       "    }\n",
       "\n",
       "    .dataframe tbody tr th {\n",
       "        vertical-align: top;\n",
       "    }\n",
       "\n",
       "    .dataframe thead th {\n",
       "        text-align: right;\n",
       "    }\n",
       "</style>\n",
       "<table border=\"1\" class=\"dataframe\">\n",
       "  <thead>\n",
       "    <tr style=\"text-align: right;\">\n",
       "      <th></th>\n",
       "      <th>customer_id</th>\n",
       "      <th>monthly_charges</th>\n",
       "      <th>tenure</th>\n",
       "      <th>total_charges</th>\n",
       "      <th>monthly_charges_scaled</th>\n",
       "      <th>tenure_scaled</th>\n",
       "      <th>total_charges_scaled</th>\n",
       "    </tr>\n",
       "  </thead>\n",
       "  <tbody>\n",
       "    <tr>\n",
       "      <th>1256</th>\n",
       "      <td>7501-IWUNG</td>\n",
       "      <td>73.8</td>\n",
       "      <td>61</td>\n",
       "      <td>4616.05</td>\n",
       "      <td>0.361757</td>\n",
       "      <td>0.245562</td>\n",
       "      <td>0.341114</td>\n",
       "    </tr>\n",
       "  </tbody>\n",
       "</table>\n",
       "</div>"
      ],
      "text/plain": [
       "     customer_id  monthly_charges  tenure  total_charges  \\\n",
       "1256  7501-IWUNG             73.8      61        4616.05   \n",
       "\n",
       "      monthly_charges_scaled  tenure_scaled  total_charges_scaled  \n",
       "1256                0.361757       0.245562              0.341114  "
      ]
     },
     "execution_count": 13,
     "metadata": {},
     "output_type": "execute_result"
    }
   ],
   "source": [
    "train2.head(1)"
   ]
  },
  {
   "cell_type": "markdown",
   "metadata": {},
   "source": [
    "### Visualization"
   ]
  },
  {
   "cell_type": "code",
   "execution_count": 14,
   "metadata": {},
   "outputs": [
    {
     "data": {
      "image/png": "[encoded data removed]",
      "text/plain": [
       "<Figure size 936x432 with 2 Axes>"
      ]
     },
     "metadata": {
      "needs_background": "light"
     },
     "output_type": "display_data"
    }
   ],
   "source": [
    "plt.figure(figsize=(13, 6))\n",
    "plt.subplot(121)\n",
    "train2.total_charges.plot.hist(title='Original')\n",
    "plt.subplot(122)\n",
    "train2.total_charges_scaled.plot.hist(title='Standard Scaler')\n",
    "plt.show()"
   ]
  },
  {
   "cell_type": "markdown",
   "metadata": {},
   "source": [
    "*****\n",
    "\n",
    "# Robust Scaler: (Linear Scaler)\n",
    "\n",
    "- A robust scaler is another linear transformation that follows the same idea as the standard scaler but uses parameters that are more robust to outliers\n",
    "\n",
    "*****"
   ]
  },
  {
   "cell_type": "code",
   "execution_count": 15,
   "metadata": {},
   "outputs": [],
   "source": [
    "#RobustScaler\n",
    "df = wrangle_telco(get_telco_data(cached = True))\n",
    "train, validate, test = train_valid_test(df)\n",
    "scaler3, train3, validate3, test3 = add_scaled_columns(\n",
    "    train,\n",
    "    validate,\n",
    "    test,\n",
    "    scaler = RobustScaler(),\n",
    "    columns_to_scale=['monthly_charges', 'tenure', 'total_charges'],\n",
    ")"
   ]
  },
  {
   "cell_type": "code",
   "execution_count": 16,
   "metadata": {},
   "outputs": [
    {
     "data": {
      "text/plain": [
       "(949, 7)"
      ]
     },
     "execution_count": 16,
     "metadata": {},
     "output_type": "execute_result"
    }
   ],
   "source": [
    "train3.shape"
   ]
  },
  {
   "cell_type": "code",
   "execution_count": 17,
   "metadata": {},
   "outputs": [
    {
     "data": {
      "text/html": [
       "<div>\n",
       "<style scoped>\n",
       "    .dataframe tbody tr th:only-of-type {\n",
       "        vertical-align: middle;\n",
       "    }\n",
       "\n",
       "    .dataframe tbody tr th {\n",
       "        vertical-align: top;\n",
       "    }\n",
       "\n",
       "    .dataframe thead th {\n",
       "        text-align: right;\n",
       "    }\n",
       "</style>\n",
       "<table border=\"1\" class=\"dataframe\">\n",
       "  <thead>\n",
       "    <tr style=\"text-align: right;\">\n",
       "      <th></th>\n",
       "      <th>customer_id</th>\n",
       "      <th>monthly_charges</th>\n",
       "      <th>tenure</th>\n",
       "      <th>total_charges</th>\n",
       "      <th>monthly_charges_scaled</th>\n",
       "      <th>tenure_scaled</th>\n",
       "      <th>total_charges_scaled</th>\n",
       "    </tr>\n",
       "  </thead>\n",
       "  <tbody>\n",
       "    <tr>\n",
       "      <th>1256</th>\n",
       "      <td>7501-IWUNG</td>\n",
       "      <td>73.8</td>\n",
       "      <td>61</td>\n",
       "      <td>4616.05</td>\n",
       "      <td>0.134915</td>\n",
       "      <td>-0.125</td>\n",
       "      <td>0.210319</td>\n",
       "    </tr>\n",
       "  </tbody>\n",
       "</table>\n",
       "</div>"
      ],
      "text/plain": [
       "     customer_id  monthly_charges  tenure  total_charges  \\\n",
       "1256  7501-IWUNG             73.8      61        4616.05   \n",
       "\n",
       "      monthly_charges_scaled  tenure_scaled  total_charges_scaled  \n",
       "1256                0.134915         -0.125              0.210319  "
      ]
     },
     "execution_count": 17,
     "metadata": {},
     "output_type": "execute_result"
    }
   ],
   "source": [
    "train3.head(1)"
   ]
  },
  {
   "cell_type": "markdown",
   "metadata": {},
   "source": [
    "### Visualization"
   ]
  },
  {
   "cell_type": "code",
   "execution_count": 18,
   "metadata": {},
   "outputs": [
    {
     "data": {
      "image/png": "[encoded data removed]",
      "text/plain": [
       "<Figure size 936x432 with 2 Axes>"
      ]
     },
     "metadata": {
      "needs_background": "light"
     },
     "output_type": "display_data"
    }
   ],
   "source": [
    "plt.figure(figsize=(13, 6))\n",
    "plt.subplot(121)\n",
    "train3.total_charges.plot.hist(title='Original')\n",
    "plt.subplot(122)\n",
    "train3.total_charges_scaled.plot.hist(title='Robust Scaler')\n",
    "plt.show()"
   ]
  },
  {
   "cell_type": "markdown",
   "metadata": {},
   "source": [
    "# 2. Apply the .inverse_transform method to your scaled data. Is the resulting dataset the exact same as the original data?"
   ]
  },
  {
   "cell_type": "markdown",
   "metadata": {},
   "source": [
    "*****\n",
    "\n",
    "# Scale Inverse:\n",
    "-Reverts scaled data columns back to normal\n",
    "\n",
    "*****"
   ]
  },
  {
   "cell_type": "code",
   "execution_count": 19,
   "metadata": {},
   "outputs": [
    {
     "data": {
      "text/html": [
       "<div>\n",
       "<style scoped>\n",
       "    .dataframe tbody tr th:only-of-type {\n",
       "        vertical-align: middle;\n",
       "    }\n",
       "\n",
       "    .dataframe tbody tr th {\n",
       "        vertical-align: top;\n",
       "    }\n",
       "\n",
       "    .dataframe thead th {\n",
       "        text-align: right;\n",
       "    }\n",
       "</style>\n",
       "<table border=\"1\" class=\"dataframe\">\n",
       "  <thead>\n",
       "    <tr style=\"text-align: right;\">\n",
       "      <th></th>\n",
       "      <th>customer_id</th>\n",
       "      <th>monthly_charges</th>\n",
       "      <th>tenure</th>\n",
       "      <th>total_charges</th>\n",
       "      <th>monthly_charges_scaled</th>\n",
       "      <th>tenure_scaled</th>\n",
       "      <th>total_charges_scaled</th>\n",
       "    </tr>\n",
       "  </thead>\n",
       "  <tbody>\n",
       "    <tr>\n",
       "      <th>1256</th>\n",
       "      <td>7501-IWUNG</td>\n",
       "      <td>73.8</td>\n",
       "      <td>61</td>\n",
       "      <td>4616.05</td>\n",
       "      <td>0.565401</td>\n",
       "      <td>0.440401</td>\n",
       "      <td>0.584388</td>\n",
       "    </tr>\n",
       "  </tbody>\n",
       "</table>\n",
       "</div>"
      ],
      "text/plain": [
       "     customer_id  monthly_charges  tenure  total_charges  \\\n",
       "1256  7501-IWUNG             73.8      61        4616.05   \n",
       "\n",
       "      monthly_charges_scaled  tenure_scaled  total_charges_scaled  \n",
       "1256                0.565401       0.440401              0.584388  "
      ]
     },
     "execution_count": 19,
     "metadata": {},
     "output_type": "execute_result"
    }
   ],
   "source": [
    "# Transform Data\n",
    "df = wrangle_telco(get_telco_data(cached = True))\n",
    "train, validate, test = train_valid_test(df)\n",
    "scaler4, train4, validate4, test4 = add_scaled_columns(\n",
    "    train,\n",
    "    validate,\n",
    "    test,\n",
    "    scaler = QuantileTransformer(output_distribution ='uniform'),\n",
    "    columns_to_scale=['monthly_charges', 'tenure', 'total_charges'],\n",
    ")\n",
    "# Visualize Transformation\n",
    "train4.head(1)"
   ]
  },
  {
   "cell_type": "code",
   "execution_count": 20,
   "metadata": {},
   "outputs": [
    {
     "data": {
      "text/plain": [
       "QuantileTransformer()"
      ]
     },
     "execution_count": 20,
     "metadata": {},
     "output_type": "execute_result"
    }
   ],
   "source": [
    "scaler4"
   ]
  },
  {
   "cell_type": "code",
   "execution_count": 21,
   "metadata": {},
   "outputs": [],
   "source": [
    "# Inverse Transform\n",
    "itrain, ivalidate, itest = scale_inverse(\n",
    "    train4,\n",
    "    validate4,\n",
    "    test4,\n",
    "    scaler4,\n",
    "    columns_to_scale=['monthly_charges', 'total_charges', 'tenure'],\n",
    "    columns_to_inverse=['monthly_charges_scaled', 'total_charges_scaled', 'tenure_scaled'],\n",
    ")"
   ]
  },
  {
   "cell_type": "code",
   "execution_count": 22,
   "metadata": {},
   "outputs": [
    {
     "data": {
      "text/html": [
       "<div>\n",
       "<style scoped>\n",
       "    .dataframe tbody tr th:only-of-type {\n",
       "        vertical-align: middle;\n",
       "    }\n",
       "\n",
       "    .dataframe tbody tr th {\n",
       "        vertical-align: top;\n",
       "    }\n",
       "\n",
       "    .dataframe thead th {\n",
       "        text-align: right;\n",
       "    }\n",
       "</style>\n",
       "<table border=\"1\" class=\"dataframe\">\n",
       "  <thead>\n",
       "    <tr style=\"text-align: right;\">\n",
       "      <th></th>\n",
       "      <th>customer_id</th>\n",
       "      <th>monthly_charges</th>\n",
       "      <th>tenure</th>\n",
       "      <th>total_charges</th>\n",
       "      <th>monthly_charges_scaled</th>\n",
       "      <th>tenure_scaled</th>\n",
       "      <th>total_charges_scaled</th>\n",
       "      <th>monthly_charges_scaled_inverse</th>\n",
       "      <th>total_charges_scaled_inverse</th>\n",
       "      <th>tenure_scaled_inverse</th>\n",
       "    </tr>\n",
       "  </thead>\n",
       "  <tbody>\n",
       "    <tr>\n",
       "      <th>1256</th>\n",
       "      <td>7501-IWUNG</td>\n",
       "      <td>73.8</td>\n",
       "      <td>61</td>\n",
       "      <td>4616.05</td>\n",
       "      <td>0.565401</td>\n",
       "      <td>0.440401</td>\n",
       "      <td>0.584388</td>\n",
       "      <td>73.8</td>\n",
       "      <td>4616.05</td>\n",
       "      <td>61.0</td>\n",
       "    </tr>\n",
       "  </tbody>\n",
       "</table>\n",
       "</div>"
      ],
      "text/plain": [
       "     customer_id  monthly_charges  tenure  total_charges  \\\n",
       "1256  7501-IWUNG             73.8      61        4616.05   \n",
       "\n",
       "      monthly_charges_scaled  tenure_scaled  total_charges_scaled  \\\n",
       "1256                0.565401       0.440401              0.584388   \n",
       "\n",
       "      monthly_charges_scaled_inverse  total_charges_scaled_inverse  \\\n",
       "1256                            73.8                       4616.05   \n",
       "\n",
       "      tenure_scaled_inverse  \n",
       "1256                   61.0  "
      ]
     },
     "execution_count": 22,
     "metadata": {},
     "output_type": "execute_result"
    }
   ],
   "source": [
    "itrain.head(1)"
   ]
  },
  {
   "cell_type": "markdown",
   "metadata": {},
   "source": [
    "## Findings:\n",
    "- Results are similar, some int values have been changed to floats"
   ]
  },
  {
   "cell_type": "markdown",
   "metadata": {},
   "source": [
    "# 3. Read the documentation for sklearn's QuantileTransformer. Use normal for the output_distribution and apply this scaler to your data. Visualize the result of your data scaling."
   ]
  },
  {
   "cell_type": "markdown",
   "metadata": {},
   "source": [
    "*****\n",
    "\n",
    "# Uniform Scaler: (Non Linear Scaler)\n",
    "\n",
    "- A uniform scaler smooths out unusual distributions and it spreads out the most frequent values and reduces the impact of (marginal) outliers \n",
    "\n",
    "*****"
   ]
  },
  {
   "cell_type": "code",
   "execution_count": 23,
   "metadata": {},
   "outputs": [],
   "source": [
    "#UniformScaler\n",
    "df = wrangle_telco(get_telco_data(cached = True))\n",
    "train, validate, test = train_valid_test(df)\n",
    "scaler4, train4, validate4, test4 = add_scaled_columns(\n",
    "    train,\n",
    "    validate,\n",
    "    test,\n",
    "    scaler = QuantileTransformer(output_distribution ='uniform'),\n",
    "    columns_to_scale=['monthly_charges', 'tenure', 'total_charges'],\n",
    ")"
   ]
  },
  {
   "cell_type": "markdown",
   "metadata": {},
   "source": [
    "### Visualization"
   ]
  },
  {
   "cell_type": "code",
   "execution_count": 24,
   "metadata": {},
   "outputs": [
    {
     "data": {
      "text/plain": [
       "(949, 7)"
      ]
     },
     "execution_count": 24,
     "metadata": {},
     "output_type": "execute_result"
    }
   ],
   "source": [
    "train4.shape"
   ]
  },
  {
   "cell_type": "code",
   "execution_count": 25,
   "metadata": {},
   "outputs": [
    {
     "data": {
      "text/html": [
       "<div>\n",
       "<style scoped>\n",
       "    .dataframe tbody tr th:only-of-type {\n",
       "        vertical-align: middle;\n",
       "    }\n",
       "\n",
       "    .dataframe tbody tr th {\n",
       "        vertical-align: top;\n",
       "    }\n",
       "\n",
       "    .dataframe thead th {\n",
       "        text-align: right;\n",
       "    }\n",
       "</style>\n",
       "<table border=\"1\" class=\"dataframe\">\n",
       "  <thead>\n",
       "    <tr style=\"text-align: right;\">\n",
       "      <th></th>\n",
       "      <th>customer_id</th>\n",
       "      <th>monthly_charges</th>\n",
       "      <th>tenure</th>\n",
       "      <th>total_charges</th>\n",
       "      <th>monthly_charges_scaled</th>\n",
       "      <th>tenure_scaled</th>\n",
       "      <th>total_charges_scaled</th>\n",
       "    </tr>\n",
       "  </thead>\n",
       "  <tbody>\n",
       "    <tr>\n",
       "      <th>1256</th>\n",
       "      <td>7501-IWUNG</td>\n",
       "      <td>73.8</td>\n",
       "      <td>61</td>\n",
       "      <td>4616.05</td>\n",
       "      <td>0.565401</td>\n",
       "      <td>0.440401</td>\n",
       "      <td>0.584388</td>\n",
       "    </tr>\n",
       "  </tbody>\n",
       "</table>\n",
       "</div>"
      ],
      "text/plain": [
       "     customer_id  monthly_charges  tenure  total_charges  \\\n",
       "1256  7501-IWUNG             73.8      61        4616.05   \n",
       "\n",
       "      monthly_charges_scaled  tenure_scaled  total_charges_scaled  \n",
       "1256                0.565401       0.440401              0.584388  "
      ]
     },
     "execution_count": 25,
     "metadata": {},
     "output_type": "execute_result"
    }
   ],
   "source": [
    "train4.head(1)"
   ]
  },
  {
   "cell_type": "code",
   "execution_count": 26,
   "metadata": {},
   "outputs": [
    {
     "data": {
      "image/png": "[encoded data removed]",
      "text/plain": [
       "<Figure size 936x432 with 2 Axes>"
      ]
     },
     "metadata": {
      "needs_background": "light"
     },
     "output_type": "display_data"
    }
   ],
   "source": [
    "plt.figure(figsize=(13, 6))\n",
    "plt.subplot(121)\n",
    "train4.total_charges.plot.hist(title='Original')\n",
    "plt.subplot(122)\n",
    "train4.total_charges_scaled.plot.hist(title='Uniform Scaler')\n",
    "plt.show()"
   ]
  },
  {
   "cell_type": "markdown",
   "metadata": {},
   "source": [
    "# 4. Use the QuantileTransformer, but omit the output_distribution argument. Visualize your results. What do you notice?"
   ]
  },
  {
   "cell_type": "markdown",
   "metadata": {},
   "source": [
    "## Uniform Scaler w/o uniform distribution"
   ]
  },
  {
   "cell_type": "code",
   "execution_count": 27,
   "metadata": {},
   "outputs": [],
   "source": [
    "#UniformScaler\n",
    "df = wrangle_telco(get_telco_data(cached = True))\n",
    "train, validate, test = train_valid_test(df)\n",
    "scaler5, train5, validate5, test5 = add_scaled_columns(\n",
    "    train,\n",
    "    validate,\n",
    "    test,\n",
    "    scaler = QuantileTransformer(),\n",
    "    columns_to_scale=['monthly_charges', 'tenure', 'total_charges'],\n",
    ")"
   ]
  },
  {
   "cell_type": "markdown",
   "metadata": {},
   "source": [
    "## Visualization"
   ]
  },
  {
   "cell_type": "code",
   "execution_count": 28,
   "metadata": {},
   "outputs": [
    {
     "data": {
      "image/png": "[encoded data removed]",
      "text/plain": [
       "<Figure size 936x432 with 2 Axes>"
      ]
     },
     "metadata": {
      "needs_background": "light"
     },
     "output_type": "display_data"
    }
   ],
   "source": [
    "plt.figure(figsize=(13, 6))\n",
    "plt.subplot(121)\n",
    "train5.total_charges.plot.hist(title='Original')\n",
    "plt.subplot(122)\n",
    "train5.total_charges_scaled.plot.hist(title='Uniform Scaler')\n",
    "plt.show()"
   ]
  },
  {
   "cell_type": "markdown",
   "metadata": {},
   "source": [
    "### Takeaway:\n",
    "- No observable change with or without output_distribution argument"
   ]
  },
  {
   "cell_type": "markdown",
   "metadata": {},
   "source": [
    "# 5. Based on the work you've done, choose a scaling method for your dataset. Write a function within your prepare.py that accepts as input the train, validate, and test data splits, and returns the scaled versions of each. Be sure to only learn the parameters for scaling from your training data!"
   ]
  },
  {
   "cell_type": "code",
   "execution_count": null,
   "metadata": {},
   "outputs": [],
   "source": []
  }
 ],
 "metadata": {
  "kernelspec": {
   "display_name": "Python 3",
   "language": "python",
   "name": "python3"
  },
  "language_info": {
   "codemirror_mode": {
    "name": "ipython",
    "version": 3
   },
   "file_extension": ".py",
   "mimetype": "text/x-python",
   "name": "python",
   "nbconvert_exporter": "python",
   "pygments_lexer": "ipython3",
   "version": "3.8.3"
  }
 },
 "nbformat": 4,
 "nbformat_minor": 4
}
