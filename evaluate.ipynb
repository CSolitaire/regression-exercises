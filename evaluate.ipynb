{
 "cells": [
  {
   "cell_type": "markdown",
   "metadata": {},
   "source": [
    "## Evaluate Exercise (Regression Unit)\n",
    "### Corey Solitaire\n",
    "#### 9/31/2020"
   ]
  },
  {
   "cell_type": "code",
   "execution_count": 5,
   "metadata": {},
   "outputs": [],
   "source": [
    "import pandas as pd\n",
    "import numpy as np\n",
    "import seaborn as sns\n",
    "import matplotlib.pyplot as plt\n",
    "\n",
    "# This is the code for the Linear Model\n",
    "from statsmodels.formula.api import ols\n",
    "\n",
    "from scipy import stats\n",
    "from sklearn.metrics import mean_squared_error, r2_score, explained_variance_score\n",
    "from sklearn.linear_model import LinearRegression\n",
    "from sklearn.feature_selection import f_regression \n",
    "from math import sqrt\n",
    "from sklearn.model_selection import train_test_split\n",
    "\n",
    "\n",
    "import warnings\n",
    "warnings.filterwarnings('ignore')\n",
    "\n",
    "from evaluate import linear_model"
   ]
  },
  {
   "cell_type": "markdown",
   "metadata": {},
   "source": [
    "*****"
   ]
  },
  {
   "cell_type": "markdown",
   "metadata": {},
   "source": [
    "# Evaluating simple linear regressions on lemonade data with other features: "
   ]
  },
  {
   "cell_type": "markdown",
   "metadata": {},
   "source": [
    "### 1. Create a dataframe from the csv at https://gist.githubusercontent.com/ryanorsinger/c303a90050d3192773288f7eea97b708/raw/536533b90bb2bf41cea27a2c96a63347cde082a6/lemonade.csv"
   ]
  },
  {
   "cell_type": "code",
   "execution_count": 6,
   "metadata": {},
   "outputs": [
    {
     "data": {
      "text/plain": [
       "((204, 5), (88, 5), (73, 5))"
      ]
     },
     "execution_count": 6,
     "metadata": {},
     "output_type": "execute_result"
    }
   ],
   "source": [
    "# 1. Create a dataframe from the csv at https://gist.githubusercontent.com/ryanorsinger/c303a90050d3192773288f7eea97b708/raw/536533b90bb2bf41cea27a2c96a63347cde082a6/lemonade.csv\n",
    "df = pd.read_csv(\"https://gist.githubusercontent.com/ryanorsinger/9867c96ddb56626e9aac94d8e92dabdf/raw/45f9a36a8871ac0e24317704ed0072c9dded1327/lemonade_regression.csv\")\n",
    "df[\"log_rainfall\"] = np.log(df.rainfall)\n",
    "\n",
    "# Split data before Explore (only train)\n",
    "train_validate, test = train_test_split(df, test_size = .2, random_state = 123)\n",
    "train, validate = train_test_split(train_validate, test_size = .3, random_state = 123)\n",
    "\n",
    "# Verify split\n",
    "train.shape, validate.shape, test.shape"
   ]
  },
  {
   "cell_type": "code",
   "execution_count": 7,
   "metadata": {},
   "outputs": [
    {
     "data": {
      "text/html": [
       "<div>\n",
       "<style scoped>\n",
       "    .dataframe tbody tr th:only-of-type {\n",
       "        vertical-align: middle;\n",
       "    }\n",
       "\n",
       "    .dataframe tbody tr th {\n",
       "        vertical-align: top;\n",
       "    }\n",
       "\n",
       "    .dataframe thead th {\n",
       "        text-align: right;\n",
       "    }\n",
       "</style>\n",
       "<table border=\"1\" class=\"dataframe\">\n",
       "  <thead>\n",
       "    <tr style=\"text-align: right;\">\n",
       "      <th></th>\n",
       "      <th>temperature</th>\n",
       "      <th>rainfall</th>\n",
       "      <th>flyers</th>\n",
       "      <th>sales</th>\n",
       "      <th>log_rainfall</th>\n",
       "    </tr>\n",
       "  </thead>\n",
       "  <tbody>\n",
       "    <tr>\n",
       "      <th>224</th>\n",
       "      <td>67.7</td>\n",
       "      <td>0.65</td>\n",
       "      <td>54</td>\n",
       "      <td>29</td>\n",
       "      <td>-0.430783</td>\n",
       "    </tr>\n",
       "    <tr>\n",
       "      <th>344</th>\n",
       "      <td>45.1</td>\n",
       "      <td>1.11</td>\n",
       "      <td>33</td>\n",
       "      <td>17</td>\n",
       "      <td>0.104360</td>\n",
       "    </tr>\n",
       "    <tr>\n",
       "      <th>339</th>\n",
       "      <td>44.7</td>\n",
       "      <td>0.95</td>\n",
       "      <td>28</td>\n",
       "      <td>19</td>\n",
       "      <td>-0.051293</td>\n",
       "    </tr>\n",
       "    <tr>\n",
       "      <th>93</th>\n",
       "      <td>62.1</td>\n",
       "      <td>0.71</td>\n",
       "      <td>31</td>\n",
       "      <td>27</td>\n",
       "      <td>-0.342490</td>\n",
       "    </tr>\n",
       "    <tr>\n",
       "      <th>81</th>\n",
       "      <td>55.9</td>\n",
       "      <td>0.87</td>\n",
       "      <td>35</td>\n",
       "      <td>23</td>\n",
       "      <td>-0.139262</td>\n",
       "    </tr>\n",
       "  </tbody>\n",
       "</table>\n",
       "</div>"
      ],
      "text/plain": [
       "     temperature  rainfall  flyers  sales  log_rainfall\n",
       "224         67.7      0.65      54     29     -0.430783\n",
       "344         45.1      1.11      33     17      0.104360\n",
       "339         44.7      0.95      28     19     -0.051293\n",
       "93          62.1      0.71      31     27     -0.342490\n",
       "81          55.9      0.87      35     23     -0.139262"
      ]
     },
     "execution_count": 7,
     "metadata": {},
     "output_type": "execute_result"
    }
   ],
   "source": [
    "# Look at split data\n",
    "train.head()"
   ]
  },
  {
   "cell_type": "code",
   "execution_count": 8,
   "metadata": {},
   "outputs": [
    {
     "data": {
      "text/html": [
       "<div>\n",
       "<style scoped>\n",
       "    .dataframe tbody tr th:only-of-type {\n",
       "        vertical-align: middle;\n",
       "    }\n",
       "\n",
       "    .dataframe tbody tr th {\n",
       "        vertical-align: top;\n",
       "    }\n",
       "\n",
       "    .dataframe thead th {\n",
       "        text-align: right;\n",
       "    }\n",
       "</style>\n",
       "<table border=\"1\" class=\"dataframe\">\n",
       "  <thead>\n",
       "    <tr style=\"text-align: right;\">\n",
       "      <th></th>\n",
       "      <th>temperature</th>\n",
       "      <th>rainfall</th>\n",
       "      <th>flyers</th>\n",
       "      <th>sales</th>\n",
       "      <th>log_rainfall</th>\n",
       "    </tr>\n",
       "  </thead>\n",
       "  <tbody>\n",
       "    <tr>\n",
       "      <th>count</th>\n",
       "      <td>204.000000</td>\n",
       "      <td>204.000000</td>\n",
       "      <td>204.000000</td>\n",
       "      <td>204.000000</td>\n",
       "      <td>204.000000</td>\n",
       "    </tr>\n",
       "    <tr>\n",
       "      <th>mean</th>\n",
       "      <td>59.471078</td>\n",
       "      <td>0.844265</td>\n",
       "      <td>39.857843</td>\n",
       "      <td>24.789216</td>\n",
       "      <td>-0.214078</td>\n",
       "    </tr>\n",
       "    <tr>\n",
       "      <th>std</th>\n",
       "      <td>15.509431</td>\n",
       "      <td>0.285393</td>\n",
       "      <td>12.904896</td>\n",
       "      <td>6.566048</td>\n",
       "      <td>0.286189</td>\n",
       "    </tr>\n",
       "    <tr>\n",
       "      <th>min</th>\n",
       "      <td>15.100000</td>\n",
       "      <td>0.470000</td>\n",
       "      <td>9.000000</td>\n",
       "      <td>7.000000</td>\n",
       "      <td>-0.755023</td>\n",
       "    </tr>\n",
       "    <tr>\n",
       "      <th>25%</th>\n",
       "      <td>50.225000</td>\n",
       "      <td>0.670000</td>\n",
       "      <td>31.000000</td>\n",
       "      <td>21.000000</td>\n",
       "      <td>-0.400478</td>\n",
       "    </tr>\n",
       "    <tr>\n",
       "      <th>50%</th>\n",
       "      <td>60.350000</td>\n",
       "      <td>0.770000</td>\n",
       "      <td>39.000000</td>\n",
       "      <td>25.000000</td>\n",
       "      <td>-0.261365</td>\n",
       "    </tr>\n",
       "    <tr>\n",
       "      <th>75%</th>\n",
       "      <td>70.175000</td>\n",
       "      <td>0.910000</td>\n",
       "      <td>49.000000</td>\n",
       "      <td>29.000000</td>\n",
       "      <td>-0.094311</td>\n",
       "    </tr>\n",
       "    <tr>\n",
       "      <th>max</th>\n",
       "      <td>102.600000</td>\n",
       "      <td>2.500000</td>\n",
       "      <td>80.000000</td>\n",
       "      <td>42.000000</td>\n",
       "      <td>0.916291</td>\n",
       "    </tr>\n",
       "  </tbody>\n",
       "</table>\n",
       "</div>"
      ],
      "text/plain": [
       "       temperature    rainfall      flyers       sales  log_rainfall\n",
       "count   204.000000  204.000000  204.000000  204.000000    204.000000\n",
       "mean     59.471078    0.844265   39.857843   24.789216     -0.214078\n",
       "std      15.509431    0.285393   12.904896    6.566048      0.286189\n",
       "min      15.100000    0.470000    9.000000    7.000000     -0.755023\n",
       "25%      50.225000    0.670000   31.000000   21.000000     -0.400478\n",
       "50%      60.350000    0.770000   39.000000   25.000000     -0.261365\n",
       "75%      70.175000    0.910000   49.000000   29.000000     -0.094311\n",
       "max     102.600000    2.500000   80.000000   42.000000      0.916291"
      ]
     },
     "execution_count": 8,
     "metadata": {},
     "output_type": "execute_result"
    }
   ],
   "source": [
    "# Examine Distribution\n",
    "\n",
    "train.describe()"
   ]
  },
  {
   "cell_type": "markdown",
   "metadata": {},
   "source": [
    "***\n",
    "\n",
    "**Takeaway:**\n",
    "1. Mean and Median are relatively close, so data is most likely evenly distributed\n",
    "\n",
    "***"
   ]
  },
  {
   "cell_type": "code",
   "execution_count": 9,
   "metadata": {},
   "outputs": [
    {
     "data": {
      "image/png": "[encoded data removed]",
      "text/plain": [
       "<Figure size 432x288 with 1 Axes>"
      ]
     },
     "metadata": {
      "needs_background": "light"
     },
     "output_type": "display_data"
    }
   ],
   "source": [
    "# Simple visualization (scatter plot)\n",
    "plt.suptitle(\"Adding a Line of Best Fit\")\n",
    "plt.title(\"Plotting Flyers vs. Sales\")\n",
    "\n",
    "sns.regplot(x=\"flyers\", y=\"sales\", data=train)\n",
    "plt.show()"
   ]
  },
  {
   "cell_type": "code",
   "execution_count": 10,
   "metadata": {},
   "outputs": [
    {
     "data": {
      "image/png": "[encoded data removed]",
      "text/plain": [
       "<Figure size 432x288 with 1 Axes>"
      ]
     },
     "metadata": {
      "needs_background": "light"
     },
     "output_type": "display_data"
    },
    {
     "data": {
      "image/png": "[encoded data removed]",
      "text/plain": [
       "<Figure size 432x288 with 1 Axes>"
      ]
     },
     "metadata": {
      "needs_background": "light"
     },
     "output_type": "display_data"
    },
    {
     "data": {
      "image/png": "[encoded data removed]",
      "text/plain": [
       "<Figure size 432x288 with 1 Axes>"
      ]
     },
     "metadata": {
      "needs_background": "light"
     },
     "output_type": "display_data"
    },
    {
     "data": {
      "text/plain": [
       "Text(0.5, 1.0, 'Log rainfall distribution')"
      ]
     },
     "execution_count": 10,
     "metadata": {},
     "output_type": "execute_result"
    },
    {
     "data": {
      "image/png": "[encoded data removed]",
      "text/plain": [
       "<Figure size 432x288 with 1 Axes>"
      ]
     },
     "metadata": {
      "needs_background": "light"
     },
     "output_type": "display_data"
    }
   ],
   "source": [
    "# Examine Distributions (hist)\n",
    "train.temperature.hist()\n",
    "plt.title('temperature distribution')\n",
    "plt.show()\n",
    "train.rainfall.hist()\n",
    "plt.title('rainfall distribution')\n",
    "plt.show()\n",
    "train.flyers.hist()\n",
    "plt.title('flyers distribution')\n",
    "plt.show()\n",
    "train.log_rainfall.hist()\n",
    "plt.title('Log rainfall distribution')"
   ]
  },
  {
   "cell_type": "markdown",
   "metadata": {},
   "source": [
    "***\n",
    "\n",
    "**Takeaway:**\n",
    "1. Temperature and Flyers are evently distributed\n",
    "2. Rainfall is not evenly distributed\n",
    "3. Log_Rainfall has a better distribution\n",
    "\n",
    "***"
   ]
  },
  {
   "cell_type": "markdown",
   "metadata": {},
   "source": [
    "# Flyers Model"
   ]
  },
  {
   "cell_type": "markdown",
   "metadata": {},
   "source": [
    "### 2. Make a baseline for predicting sales. (The mean is a good baseline)"
   ]
  },
  {
   "cell_type": "code",
   "execution_count": 11,
   "metadata": {},
   "outputs": [],
   "source": [
    "# Setting train to variable df\n",
    "df = train"
   ]
  },
  {
   "cell_type": "code",
   "execution_count": 12,
   "metadata": {},
   "outputs": [],
   "source": [
    "# Pre-requisite Part 1 - establish a baseline. \n",
    "# Since sales are reasonably normally distributed, the mean will do!\n",
    "baseline = df.sales.mean()"
   ]
  },
  {
   "cell_type": "code",
   "execution_count": 13,
   "metadata": {},
   "outputs": [],
   "source": [
    "# Pre-requisite Part 2 - build/identify a super simple linear model\n",
    "# The arguments to the ols function are the column names as strings, separated by ~\n",
    "# ols(\"y ~ x\") \n",
    "model = ols('sales ~ flyers', df).fit()"
   ]
  },
  {
   "cell_type": "markdown",
   "metadata": {},
   "source": [
    "### 3. Create a new dataframe to hold residuals."
   ]
  },
  {
   "cell_type": "code",
   "execution_count": 14,
   "metadata": {},
   "outputs": [],
   "source": [
    "# Pre-requisite Part 3 - Calculate residuals\n",
    "evaluate = pd.DataFrame()"
   ]
  },
  {
   "cell_type": "markdown",
   "metadata": {},
   "source": [
    "### 4. Calculate the baseline residuals. "
   ]
  },
  {
   "cell_type": "code",
   "execution_count": 15,
   "metadata": {},
   "outputs": [
    {
     "data": {
      "text/html": [
       "<div>\n",
       "<style scoped>\n",
       "    .dataframe tbody tr th:only-of-type {\n",
       "        vertical-align: middle;\n",
       "    }\n",
       "\n",
       "    .dataframe tbody tr th {\n",
       "        vertical-align: top;\n",
       "    }\n",
       "\n",
       "    .dataframe thead th {\n",
       "        text-align: right;\n",
       "    }\n",
       "</style>\n",
       "<table border=\"1\" class=\"dataframe\">\n",
       "  <thead>\n",
       "    <tr style=\"text-align: right;\">\n",
       "      <th></th>\n",
       "      <th>x</th>\n",
       "      <th>y</th>\n",
       "      <th>baseline</th>\n",
       "      <th>yhat</th>\n",
       "      <th>baseline_residual</th>\n",
       "      <th>model_residual</th>\n",
       "    </tr>\n",
       "  </thead>\n",
       "  <tbody>\n",
       "    <tr>\n",
       "      <th>224</th>\n",
       "      <td>54</td>\n",
       "      <td>29</td>\n",
       "      <td>24.789216</td>\n",
       "      <td>30.577489</td>\n",
       "      <td>-4.210784</td>\n",
       "      <td>1.577489</td>\n",
       "    </tr>\n",
       "    <tr>\n",
       "      <th>344</th>\n",
       "      <td>33</td>\n",
       "      <td>17</td>\n",
       "      <td>24.789216</td>\n",
       "      <td>21.982355</td>\n",
       "      <td>7.789216</td>\n",
       "      <td>4.982355</td>\n",
       "    </tr>\n",
       "    <tr>\n",
       "      <th>339</th>\n",
       "      <td>28</td>\n",
       "      <td>19</td>\n",
       "      <td>24.789216</td>\n",
       "      <td>19.935894</td>\n",
       "      <td>5.789216</td>\n",
       "      <td>0.935894</td>\n",
       "    </tr>\n",
       "    <tr>\n",
       "      <th>93</th>\n",
       "      <td>31</td>\n",
       "      <td>27</td>\n",
       "      <td>24.789216</td>\n",
       "      <td>21.163771</td>\n",
       "      <td>-2.210784</td>\n",
       "      <td>-5.836229</td>\n",
       "    </tr>\n",
       "    <tr>\n",
       "      <th>81</th>\n",
       "      <td>35</td>\n",
       "      <td>23</td>\n",
       "      <td>24.789216</td>\n",
       "      <td>22.800939</td>\n",
       "      <td>1.789216</td>\n",
       "      <td>-0.199061</td>\n",
       "    </tr>\n",
       "  </tbody>\n",
       "</table>\n",
       "</div>"
      ],
      "text/plain": [
       "      x   y   baseline       yhat  baseline_residual  model_residual\n",
       "224  54  29  24.789216  30.577489          -4.210784        1.577489\n",
       "344  33  17  24.789216  21.982355           7.789216        4.982355\n",
       "339  28  19  24.789216  19.935894           5.789216        0.935894\n",
       "93   31  27  24.789216  21.163771          -2.210784       -5.836229\n",
       "81   35  23  24.789216  22.800939           1.789216       -0.199061"
      ]
     },
     "execution_count": 15,
     "metadata": {},
     "output_type": "execute_result"
    }
   ],
   "source": [
    "evaluate[\"x\"] = df.flyers\n",
    "\n",
    "# Our y is our dependent variable\n",
    "evaluate[\"y\"] = df.sales\n",
    "evaluate[\"baseline\"] = df.sales.mean()\n",
    "\n",
    "# y-hat is shorthand for \"predicted y\" values\n",
    "evaluate[\"yhat\"] = model.predict()\n",
    "\n",
    "# Calculate the baseline residuals \n",
    "evaluate[\"baseline_residual\"] = evaluate.baseline - evaluate.y\n",
    "\n",
    "# Calculate the model residuals\n",
    "evaluate[\"model_residual\"] = evaluate.yhat - evaluate.y\n",
    "\n",
    "evaluate.head()"
   ]
  },
  {
   "cell_type": "markdown",
   "metadata": {},
   "source": [
    "***\n",
    "\n",
    "**Takeaway:**\n",
    "1. Based on the datafram it appears that our model_residual (distance between prediction and y)                      is less than baseline_residual (distance between baseline and y)\n",
    "\n",
    "***"
   ]
  },
  {
   "cell_type": "markdown",
   "metadata": {},
   "source": [
    "### 5. Evaulate Models Preformance\n",
    "Does it Beat Baseline?"
   ]
  },
  {
   "cell_type": "code",
   "execution_count": 16,
   "metadata": {},
   "outputs": [
    {
     "name": "stdout",
     "output_type": "stream",
     "text": [
      "Our model beats the baseline\n",
      "It makes sense to evaluate this model more deeply.\n"
     ]
    }
   ],
   "source": [
    "# Calculate if the model beats the baseline\n",
    "baseline_sse = ((evaluate.baseline_residual**2).sum())\n",
    "model_sse = ((evaluate.model_residual**2).sum())\n",
    "\n",
    "if model_sse < baseline_sse:\n",
    "    print(\"Our model beats the baseline\")\n",
    "    print(\"It makes sense to evaluate this model more deeply.\")\n",
    "else:\n",
    "    print(\"Our baseline is better than the model.\")"
   ]
  },
  {
   "cell_type": "markdown",
   "metadata": {},
   "source": [
    "### 6. Create and fill and evaluation matrix\n",
    "Evaluate distribution"
   ]
  },
  {
   "cell_type": "code",
   "execution_count": 17,
   "metadata": {},
   "outputs": [
    {
     "name": "stdout",
     "output_type": "stream",
     "text": [
      "SSE is 3088.6078827503925  which is the sum sf squared errors\n",
      "MSE is 15.140234719364669  which is the average squared error\n",
      "RMSE is 3.8910454532637715  which is the square root of the MSE\n"
     ]
    }
   ],
   "source": [
    "metrics = pd.DataFrame()\n",
    "\n",
    "# Sum the squares of the baseline errors\n",
    "model_sse = ((evaluate.model_residual**2).sum())\n",
    "\n",
    "# Take the average of the Sum of squared errors\n",
    "# mse = model_sse / len(evaluate)\n",
    "\n",
    "# Or we could calculate this using sklearn's mean_squared_error function\n",
    "mse = mean_squared_error(evaluate.y, evaluate.yhat)\n",
    "\n",
    "# Now we'll take the Square Root of the Sum of Errors\n",
    "# Taking the square root is nice because the units of the error \n",
    "# will be in the same units as the target variable.\n",
    "rmse = sqrt(mse)\n",
    "\n",
    "print(\"SSE is\", model_sse, \" which is the sum sf squared errors\")\n",
    "print(\"MSE is\", mse, \" which is the average squared error\")\n",
    "print(\"RMSE is\", rmse, \" which is the square root of the MSE\")"
   ]
  },
  {
   "cell_type": "markdown",
   "metadata": {},
   "source": [
    "### 7. Evaulating Models Significance\n",
    "Calculating $R^2$ and $p$- value"
   ]
  },
  {
   "cell_type": "code",
   "execution_count": 18,
   "metadata": {},
   "outputs": [
    {
     "name": "stdout",
     "output_type": "stream",
     "text": [
      "R-squared =  0.647\n"
     ]
    }
   ],
   "source": [
    "# The model commented below is our model\n",
    "# model = ols('sales ~ flyers', df).fit()\n",
    "\n",
    "r2 = model.rsquared\n",
    "print('R-squared = ', round(r2,3))"
   ]
  },
  {
   "cell_type": "code",
   "execution_count": 19,
   "metadata": {},
   "outputs": [
    {
     "name": "stdout",
     "output_type": "stream",
     "text": [
      "p-value for model significance =  1.4309060748311366e-47\n"
     ]
    },
    {
     "data": {
      "text/plain": [
       "True"
      ]
     },
     "execution_count": 19,
     "metadata": {},
     "output_type": "execute_result"
    }
   ],
   "source": [
    "# F-Test for p value\n",
    "f_pval = model.f_pvalue\n",
    "print(\"p-value for model significance = \", f_pval)\n",
    "\n",
    "f_pval < .05"
   ]
  },
  {
   "cell_type": "markdown",
   "metadata": {},
   "source": [
    "\n",
    "\n",
    "- Null hypothesis is that a model not built w/ the independent variables explains the relationship\n",
    "- Alternative hypothesis is that our model built on independent varibles explains the relationship, validates that $R^2$\n",
    "\n",
    "    - If p is less than 0.05, you're OK to conclude that your regression model fits the data better than the model with no independent variables, meaning the independent variables in your model improve the fit.\n",
    "    - If greater than 0.05, it's probably better to stop using this set of features.\n",
    "    - Basically, if the p is low, we can reject the null hypothesis.\n",
    "    - And that means **we can accept the model as statistically significant**\n",
    "\n"
   ]
  },
  {
   "cell_type": "markdown",
   "metadata": {},
   "source": [
    "### 8. Visualizing Residuals"
   ]
  },
  {
   "cell_type": "code",
   "execution_count": 20,
   "metadata": {},
   "outputs": [],
   "source": [
    "# Visualizing Residuals\n",
    "def plot_residuals(actual, predicted):\n",
    "    residuals = actual - predicted\n",
    "    plt.hlines(0, actual.min(), actual.max(), ls=':')\n",
    "    plt.scatter(actual, residuals)\n",
    "    plt.ylabel('residual ($y - \\hat{y}$)')\n",
    "    plt.xlabel('actual value ($y$)')\n",
    "    plt.title('Actual vs Residual')\n",
    "    return plt.gca()"
   ]
  },
  {
   "cell_type": "code",
   "execution_count": 21,
   "metadata": {},
   "outputs": [
    {
     "data": {
      "text/plain": [
       "<matplotlib.axes._subplots.AxesSubplot at 0x7fc77c1415e0>"
      ]
     },
     "execution_count": 21,
     "metadata": {},
     "output_type": "execute_result"
    },
    {
     "data": {
      "image/png": "[encoded data removed]",
      "text/plain": [
       "<Figure size 432x288 with 1 Axes>"
      ]
     },
     "metadata": {
      "needs_background": "light"
     },
     "output_type": "display_data"
    }
   ],
   "source": [
    "plot_residuals(evaluate.y, evaluate.yhat)"
   ]
  },
  {
   "cell_type": "markdown",
   "metadata": {},
   "source": [
    "***\n",
    "\n",
    "**Takeaway:**\n",
    "1. Model is low residuals for low # of sales, as # of sales increases model is less effective\n",
    "\n",
    "***"
   ]
  },
  {
   "cell_type": "code",
   "execution_count": 22,
   "metadata": {},
   "outputs": [
    {
     "name": "stdout",
     "output_type": "stream",
     "text": [
      "Our model beats the baseline\n",
      "It makes sense to evaluate this model more deeply.\n",
      "Baseline SSE 8751.936274509804\n",
      "Model SSE 3088.6078827503925\n",
      "SSE is 3088.6078827503925  which is the sum sf squared errors\n",
      "MSE is 15.140234719364669  which is the average squared error\n",
      "RMSE is 3.8910454532637715  which is the square root of the MSE\n",
      "R-squared =  0.647\n",
      "p-value for model significance =  1.4309060748311366e-47\n",
      "Reject Null: The model bulit on indipendent variables explains the relationship, validates $r^2$\n"
     ]
    },
    {
     "data": {
      "image/png": "[encoded data removed]",
      "text/plain": [
       "<Figure size 432x288 with 1 Axes>"
      ]
     },
     "metadata": {
      "needs_background": "light"
     },
     "output_type": "display_data"
    }
   ],
   "source": [
    "# Verification using function:\n",
    "\n",
    "linear_model(ols('sales ~ flyers', train).fit(), train.sales, train.flyers)"
   ]
  },
  {
   "cell_type": "markdown",
   "metadata": {},
   "source": [
    "# The Effects of Rainfall on Sales (Model 2)"
   ]
  },
  {
   "cell_type": "code",
   "execution_count": 23,
   "metadata": {},
   "outputs": [
    {
     "name": "stdout",
     "output_type": "stream",
     "text": [
      "Our model beats the baseline\n",
      "It makes sense to evaluate this model more deeply.\n",
      "Baseline SSE 8751.936274509804\n",
      "Model SSE 1574.6247854749695\n",
      "SSE is 1574.6247854749695  which is the sum sf squared errors\n",
      "MSE is 7.718748948406713  which is the average squared error\n",
      "RMSE is 2.778263657107927  which is the square root of the MSE\n",
      "R-squared =  0.82\n",
      "p-value for model significance =  3.57848185220323e-77\n",
      "Reject Null: The model bulit on indipendent variables explains the relationship, validates $r^2$\n"
     ]
    },
    {
     "data": {
      "image/png": "[encoded data removed]",
      "text/plain": [
       "<Figure size 432x288 with 1 Axes>"
      ]
     },
     "metadata": {
      "needs_background": "light"
     },
     "output_type": "display_data"
    }
   ],
   "source": [
    "linear_model(ols('sales ~ rainfall', train).fit(), train.sales, train.rainfall)"
   ]
  },
  {
   "cell_type": "markdown",
   "metadata": {},
   "source": [
    "***\n",
    "\n",
    "**Takeaway:**\n",
    "1. Model has a higher R-squared and lower p -value then Flyers\n",
    "2. The Rainall model has a RMSE of 2.7, while Flyer Model is 3.9\n",
    "3. **Rainfall Model is slightly better**\n",
    "\n",
    "***"
   ]
  },
  {
   "cell_type": "markdown",
   "metadata": {},
   "source": [
    "# The Effects of Log_Rainfall on Sales (Model 3)"
   ]
  },
  {
   "cell_type": "code",
   "execution_count": 24,
   "metadata": {},
   "outputs": [
    {
     "name": "stdout",
     "output_type": "stream",
     "text": [
      "Our model beats the baseline\n",
      "It makes sense to evaluate this model more deeply.\n",
      "Baseline SSE 8751.936274509804\n",
      "Model SSE 490.6647722626596\n",
      "SSE is 490.6647722626596  which is the sum sf squared errors\n",
      "MSE is 2.4052194718757822  which is the average squared error\n",
      "RMSE is 1.5508770008855577  which is the square root of the MSE\n",
      "R-squared =  0.944\n",
      "p-value for model significance =  2.387168454557454e-128\n",
      "Reject Null: The model bulit on indipendent variables explains the relationship, validates $r^2$\n"
     ]
    },
    {
     "data": {
      "image/png": "[encoded data removed]",
      "text/plain": [
       "<Figure size 432x288 with 1 Axes>"
      ]
     },
     "metadata": {
      "needs_background": "light"
     },
     "output_type": "display_data"
    }
   ],
   "source": [
    "linear_model(ols('sales ~ log_rainfall', train).fit(), train.sales, train.log_rainfall)"
   ]
  },
  {
   "cell_type": "markdown",
   "metadata": {},
   "source": [
    "***\n",
    "\n",
    "**Takeaway:**\n",
    "1. Model has a higher R-squared and lower p -value then Flyers and Rainfall\n",
    "2. The Log_Rainall model has a RMSE of 1.6, while the rainfall model was 2.7, and the Flyer Model is 3.9\n",
    "3. **Log_rainfall Model is better then both previous models**\n",
    "\n",
    "***"
   ]
  },
  {
   "cell_type": "markdown",
   "metadata": {},
   "source": [
    "# The Effects of Temperature on Sales (Model 4)"
   ]
  },
  {
   "cell_type": "code",
   "execution_count": 26,
   "metadata": {},
   "outputs": [
    {
     "name": "stdout",
     "output_type": "stream",
     "text": [
      "Our model beats the baseline\n",
      "It makes sense to evaluate this model more deeply.\n",
      "Baseline SSE 8751.936274509804\n",
      "Model SSE 183.26315503790406\n",
      "SSE is 183.26315503790406  which is the sum sf squared errors\n",
      "MSE is 0.898348799205412  which is the average squared error\n",
      "RMSE is 0.9478126392939756  which is the square root of the MSE\n",
      "R-squared =  0.979\n",
      "p-value for model significance =  1.483709550672194e-171\n",
      "Reject Null: The model bulit on indipendent variables explains the relationship, validates $r^2$\n"
     ]
    },
    {
     "data": {
      "image/png": "[encoded data removed]",
      "text/plain": [
       "<Figure size 432x288 with 1 Axes>"
      ]
     },
     "metadata": {
      "needs_background": "light"
     },
     "output_type": "display_data"
    }
   ],
   "source": [
    "linear_model(ols('sales ~ temperature', train).fit(), train.sales, train.temperature)"
   ]
  },
  {
   "cell_type": "markdown",
   "metadata": {},
   "source": [
    "***\n",
    "\n",
    "**Takeaway:**\n",
    "1. Model has a higher R-squared and lower p -value then Flyers, Rainfall, or Log_rainfall\n",
    "2. The temp model has a RMSE of 0.95, while log_rainfall model was 1.6, rainfall model was 2.7, and the flyer model is 3.9\n",
    "3. **Temp Model is the best Model**\n",
    "\n",
    "***"
   ]
  },
  {
   "cell_type": "markdown",
   "metadata": {},
   "source": [
    "<div class=\"alert alert-block alert-success\"></div>"
   ]
  },
  {
   "cell_type": "markdown",
   "metadata": {},
   "source": [
    "# Tips Dataset Exercises\n",
    "\n",
    "Do you work for this exercise in either a jupyter notebook named evaluate within your regression-exercises repository. By the end of this exercise you will also create a python script named evaluate, so the overall deliverables for this exercise are the **python script** and **jupyter notebook** both with the name **evaluate** within your regression-exercises repo."
   ]
  },
  {
   "cell_type": "markdown",
   "metadata": {},
   "source": [
    "*****"
   ]
  },
  {
   "cell_type": "markdown",
   "metadata": {},
   "source": [
    "### 1. Load the tips dataset from either pydataset or seaborn.\n",
    "\n",
    "*****"
   ]
  },
  {
   "cell_type": "code",
   "execution_count": 28,
   "metadata": {},
   "outputs": [
    {
     "data": {
      "text/plain": [
       "((136, 7), (59, 7), (49, 7))"
      ]
     },
     "execution_count": 28,
     "metadata": {},
     "output_type": "execute_result"
    }
   ],
   "source": [
    "df = sns.load_dataset(\"tips\")\n",
    "train_validate, test = train_test_split(df, test_size = .2, random_state = 123)\n",
    "train, validate = train_test_split(train_validate, test_size = .3, random_state = 123)\n",
    "train.shape, validate.shape, test.shape"
   ]
  },
  {
   "cell_type": "code",
   "execution_count": 29,
   "metadata": {},
   "outputs": [
    {
     "name": "stdout",
     "output_type": "stream",
     "text": [
      "<class 'pandas.core.frame.DataFrame'>\n",
      "Int64Index: 136 entries, 18 to 166\n",
      "Data columns (total 7 columns):\n",
      " #   Column      Non-Null Count  Dtype   \n",
      "---  ------      --------------  -----   \n",
      " 0   total_bill  136 non-null    float64 \n",
      " 1   tip         136 non-null    float64 \n",
      " 2   sex         136 non-null    category\n",
      " 3   smoker      136 non-null    category\n",
      " 4   day         136 non-null    category\n",
      " 5   time        136 non-null    category\n",
      " 6   size        136 non-null    int64   \n",
      "dtypes: category(4), float64(2), int64(1)\n",
      "memory usage: 5.2 KB\n"
     ]
    }
   ],
   "source": [
    "train.info()"
   ]
  },
  {
   "cell_type": "code",
   "execution_count": 30,
   "metadata": {},
   "outputs": [
    {
     "data": {
      "text/html": [
       "<div>\n",
       "<style scoped>\n",
       "    .dataframe tbody tr th:only-of-type {\n",
       "        vertical-align: middle;\n",
       "    }\n",
       "\n",
       "    .dataframe tbody tr th {\n",
       "        vertical-align: top;\n",
       "    }\n",
       "\n",
       "    .dataframe thead th {\n",
       "        text-align: right;\n",
       "    }\n",
       "</style>\n",
       "<table border=\"1\" class=\"dataframe\">\n",
       "  <thead>\n",
       "    <tr style=\"text-align: right;\">\n",
       "      <th></th>\n",
       "      <th>total_bill</th>\n",
       "      <th>tip</th>\n",
       "      <th>size</th>\n",
       "    </tr>\n",
       "  </thead>\n",
       "  <tbody>\n",
       "    <tr>\n",
       "      <th>count</th>\n",
       "      <td>136.000000</td>\n",
       "      <td>136.000000</td>\n",
       "      <td>136.000000</td>\n",
       "    </tr>\n",
       "    <tr>\n",
       "      <th>mean</th>\n",
       "      <td>18.790515</td>\n",
       "      <td>2.946985</td>\n",
       "      <td>2.544118</td>\n",
       "    </tr>\n",
       "    <tr>\n",
       "      <th>std</th>\n",
       "      <td>8.779733</td>\n",
       "      <td>1.456611</td>\n",
       "      <td>0.987834</td>\n",
       "    </tr>\n",
       "    <tr>\n",
       "      <th>min</th>\n",
       "      <td>3.070000</td>\n",
       "      <td>1.000000</td>\n",
       "      <td>1.000000</td>\n",
       "    </tr>\n",
       "    <tr>\n",
       "      <th>25%</th>\n",
       "      <td>12.645000</td>\n",
       "      <td>2.000000</td>\n",
       "      <td>2.000000</td>\n",
       "    </tr>\n",
       "    <tr>\n",
       "      <th>50%</th>\n",
       "      <td>16.710000</td>\n",
       "      <td>2.680000</td>\n",
       "      <td>2.000000</td>\n",
       "    </tr>\n",
       "    <tr>\n",
       "      <th>75%</th>\n",
       "      <td>22.752500</td>\n",
       "      <td>3.500000</td>\n",
       "      <td>3.000000</td>\n",
       "    </tr>\n",
       "    <tr>\n",
       "      <th>max</th>\n",
       "      <td>48.330000</td>\n",
       "      <td>9.000000</td>\n",
       "      <td>6.000000</td>\n",
       "    </tr>\n",
       "  </tbody>\n",
       "</table>\n",
       "</div>"
      ],
      "text/plain": [
       "       total_bill         tip        size\n",
       "count  136.000000  136.000000  136.000000\n",
       "mean    18.790515    2.946985    2.544118\n",
       "std      8.779733    1.456611    0.987834\n",
       "min      3.070000    1.000000    1.000000\n",
       "25%     12.645000    2.000000    2.000000\n",
       "50%     16.710000    2.680000    2.000000\n",
       "75%     22.752500    3.500000    3.000000\n",
       "max     48.330000    9.000000    6.000000"
      ]
     },
     "execution_count": 30,
     "metadata": {},
     "output_type": "execute_result"
    }
   ],
   "source": [
    "train.describe()"
   ]
  },
  {
   "cell_type": "markdown",
   "metadata": {},
   "source": [
    "***\n",
    "\n",
    "**Takeaway:**\n",
    "1. Mean and Median are relatively close, so data is most likely evenly distributed\n",
    "\n",
    "***"
   ]
  },
  {
   "cell_type": "code",
   "execution_count": 31,
   "metadata": {},
   "outputs": [
    {
     "data": {
      "image/png": "[encoded data removed]",
      "text/plain": [
       "<Figure size 432x288 with 1 Axes>"
      ]
     },
     "metadata": {
      "needs_background": "light"
     },
     "output_type": "display_data"
    }
   ],
   "source": [
    "# simple visualization\n",
    "plt.suptitle(\"Adding a Line of Best Fit\")\n",
    "plt.title('tip vs. total_bill')\n",
    "sns.regplot(x=\"total_bill\", y=\"tip\", data=train)\n",
    "plt.show()"
   ]
  },
  {
   "cell_type": "code",
   "execution_count": 32,
   "metadata": {},
   "outputs": [
    {
     "data": {
      "image/png": "[encoded data removed]",
      "text/plain": [
       "<Figure size 432x288 with 1 Axes>"
      ]
     },
     "metadata": {
      "needs_background": "light"
     },
     "output_type": "display_data"
    },
    {
     "data": {
      "image/png": "[encoded data removed]",
      "text/plain": [
       "<Figure size 432x288 with 1 Axes>"
      ]
     },
     "metadata": {
      "needs_background": "light"
     },
     "output_type": "display_data"
    }
   ],
   "source": [
    "# Examine Distributions (hist) we want an approximately normal distribution\n",
    "train.total_bill.hist()\n",
    "plt.title('total_bill')\n",
    "plt.show()\n",
    "train.tip.hist()\n",
    "plt.title('tip')\n",
    "plt.show()"
   ]
  },
  {
   "cell_type": "markdown",
   "metadata": {},
   "source": [
    "***\n",
    "\n",
    "**Takeaway:**\n",
    "1. total_bill appears to be evently distributed\n",
    "2. tip does not appear to be evenly distributed\n",
    "\n",
    "***"
   ]
  },
  {
   "cell_type": "markdown",
   "metadata": {},
   "source": [
    "# The Effect of total_bill on tip (Model 1)"
   ]
  },
  {
   "cell_type": "code",
   "execution_count": 33,
   "metadata": {},
   "outputs": [
    {
     "name": "stdout",
     "output_type": "stream",
     "text": [
      "Our model beats the baseline\n",
      "It makes sense to evaluate this model more deeply.\n",
      "Baseline SSE 286.43166397058826\n",
      "Model SSE 153.53663973018627\n",
      "SSE is 153.53663973018627  which is the sum sf squared errors\n",
      "MSE is 1.1289458803690167  which is the average squared error\n",
      "RMSE is 1.0625186494217487  which is the square root of the MSE\n",
      "R-squared =  0.464\n",
      "p-value for model significance =  7.18647033208955e-20\n",
      "Reject Null: The model bulit on indipendent variables explains the relationship, validates $r^2$\n"
     ]
    },
    {
     "data": {
      "image/png": "[encoded data removed]",
      "text/plain": [
       "<Figure size 432x288 with 1 Axes>"
      ]
     },
     "metadata": {
      "needs_background": "light"
     },
     "output_type": "display_data"
    }
   ],
   "source": [
    "linear_model(ols('tip ~ total_bill', train).fit(), train.tip, train.total_bill)"
   ]
  },
  {
   "cell_type": "markdown",
   "metadata": {},
   "source": [
    "***\n",
    "\n",
    "**Takeaway:**\n",
    "1. Model has a low R-squared value, but a low p -value\n",
    "2. The total_bill model has a RMSE of 1\n",
    "3. Model does a good job approximating tip up to $4\n",
    "\n",
    "***"
   ]
  },
  {
   "cell_type": "code",
   "execution_count": 34,
   "metadata": {},
   "outputs": [
    {
     "name": "stdout",
     "output_type": "stream",
     "text": [
      "Our baseline is better than the model.\n"
     ]
    }
   ],
   "source": [
    "linear_model(ols('size ~ total_bill', train).fit(), train.size, train.total_bill)"
   ]
  },
  {
   "cell_type": "code",
   "execution_count": 35,
   "metadata": {},
   "outputs": [
    {
     "name": "stdout",
     "output_type": "stream",
     "text": [
      "Our baseline is better than the model.\n"
     ]
    }
   ],
   "source": [
    "linear_model(ols('size ~ tip', train).fit(), train.size, train.tip)"
   ]
  },
  {
   "cell_type": "code",
   "execution_count": 36,
   "metadata": {},
   "outputs": [
    {
     "name": "stdout",
     "output_type": "stream",
     "text": [
      "Our model beats the baseline\n",
      "It makes sense to evaluate this model more deeply.\n",
      "Baseline SSE 10406.301463970589\n",
      "Model SSE 5578.114293123068\n",
      "SSE is 5578.114293123068  which is the sum sf squared errors\n",
      "MSE is 41.01554627296373  which is the average squared error\n",
      "RMSE is 6.4043380823441645  which is the square root of the MSE\n",
      "R-squared =  0.464\n",
      "p-value for model significance =  7.186470332089448e-20\n",
      "Reject Null: The model bulit on indipendent variables explains the relationship, validates $r^2$\n"
     ]
    },
    {
     "data": {
      "image/png": "[encoded data removed]",
      "text/plain": [
       "<Figure size 432x288 with 1 Axes>"
      ]
     },
     "metadata": {
      "needs_background": "light"
     },
     "output_type": "display_data"
    }
   ],
   "source": [
    "linear_model(ols('total_bill ~ tip', train).fit(), train.total_bill, train.tip)"
   ]
  },
  {
   "cell_type": "code",
   "execution_count": null,
   "metadata": {},
   "outputs": [],
   "source": []
  }
 ],
 "metadata": {
  "kernelspec": {
   "display_name": "Python 3",
   "language": "python",
   "name": "python3"
  },
  "language_info": {
   "codemirror_mode": {
    "name": "ipython",
    "version": 3
   },
   "file_extension": ".py",
   "mimetype": "text/x-python",
   "name": "python",
   "nbconvert_exporter": "python",
   "pygments_lexer": "ipython3",
   "version": "3.8.3"
  }
 },
 "nbformat": 4,
 "nbformat_minor": 4
}
