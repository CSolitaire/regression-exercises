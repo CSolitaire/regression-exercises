{
 "cells": [
  {
   "cell_type": "markdown",
   "metadata": {},
   "source": [
    "### Regression Modeling Exercise\n",
    "**Corey Solitaire**\n",
    "\n",
    "**10/01/2020**"
   ]
  },
  {
   "cell_type": "markdown",
   "metadata": {},
   "source": [
    "<div class=\"alert alert-block alert-success\"></div>"
   ]
  },
  {
   "cell_type": "markdown",
   "metadata": {},
   "source": [
    "# Imports:"
   ]
  },
  {
   "cell_type": "code",
   "execution_count": 1,
   "metadata": {},
   "outputs": [],
   "source": [
    "import pandas as pd\n",
    "import numpy as np\n",
    "import matplotlib.pyplot as plt\n",
    "import seaborn as sns\n",
    "from sklearn.model_selection import train_test_split\n",
    "from sklearn.metrics import mean_squared_error, explained_variance_score\n",
    "from sklearn.linear_model import LinearRegression\n",
    "from sklearn.feature_selection import RFE\n",
    "from sklearn.preprocessing import StandardScaler, MinMaxScaler\n",
    "\n",
    "# Models\n",
    "from sklearn.linear_model import LinearRegression, LassoLars, TweedieRegressor\n",
    "from sklearn.preprocessing import PolynomialFeatures\n",
    "\n",
    "import warnings\n",
    "warnings.filterwarnings(\"ignore\")\n",
    "\n",
    "import wrangle\n",
    "import features"
   ]
  },
  {
   "cell_type": "markdown",
   "metadata": {},
   "source": [
    "<div class=\"alert alert-block alert-success\"></div>"
   ]
  },
  {
   "cell_type": "markdown",
   "metadata": {},
   "source": [
    "# Exercises:\n",
    "\n",
    "Using the data on **swiss data** complete the following:"
   ]
  },
  {
   "cell_type": "code",
   "execution_count": 2,
   "metadata": {},
   "outputs": [],
   "source": [
    "url = \"https://raw.githubusercontent.com/vincentarelbundock/Rdatasets/master/csv/datasets/swiss.csv\"\n",
    "df = pd.read_csv(url, index_col=0)\n",
    "df.rename(columns={'Fertility':'fertility', 'Agriculture':'agriculture', 'Examination':'examination', 'Education':'education','Catholic':'catholic','Infant.Mortality':'infant_mortality'}, inplace =True)"
   ]
  },
  {
   "cell_type": "code",
   "execution_count": 3,
   "metadata": {},
   "outputs": [
    {
     "data": {
      "text/plain": [
       "(array([ 1.,  2.,  0.,  4.,  3., 13.,  7.,  8.,  5.,  4.]),\n",
       " array([35.  , 40.75, 46.5 , 52.25, 58.  , 63.75, 69.5 , 75.25, 81.  ,\n",
       "        86.75, 92.5 ]),\n",
       " <a list of 10 Patch objects>)"
      ]
     },
     "execution_count": 3,
     "metadata": {},
     "output_type": "execute_result"
    },
    {
     "data": {
      "image/png": "[encoded data removed]",
      "text/plain": [
       "<Figure size 432x288 with 1 Axes>"
      ]
     },
     "metadata": {
      "needs_background": "light"
     },
     "output_type": "display_data"
    }
   ],
   "source": [
    "#Visualize Target\n",
    "plt.hist(df.fertility)"
   ]
  },
  {
   "cell_type": "code",
   "execution_count": 4,
   "metadata": {},
   "outputs": [
    {
     "data": {
      "text/plain": [
       "(47, 6)"
      ]
     },
     "execution_count": 4,
     "metadata": {},
     "output_type": "execute_result"
    }
   ],
   "source": [
    "df.shape"
   ]
  },
  {
   "cell_type": "code",
   "execution_count": 5,
   "metadata": {},
   "outputs": [
    {
     "data": {
      "text/html": [
       "<div>\n",
       "<style scoped>\n",
       "    .dataframe tbody tr th:only-of-type {\n",
       "        vertical-align: middle;\n",
       "    }\n",
       "\n",
       "    .dataframe tbody tr th {\n",
       "        vertical-align: top;\n",
       "    }\n",
       "\n",
       "    .dataframe thead th {\n",
       "        text-align: right;\n",
       "    }\n",
       "</style>\n",
       "<table border=\"1\" class=\"dataframe\">\n",
       "  <thead>\n",
       "    <tr style=\"text-align: right;\">\n",
       "      <th></th>\n",
       "      <th>fertility</th>\n",
       "      <th>agriculture</th>\n",
       "      <th>examination</th>\n",
       "      <th>education</th>\n",
       "      <th>catholic</th>\n",
       "      <th>infant_mortality</th>\n",
       "    </tr>\n",
       "  </thead>\n",
       "  <tbody>\n",
       "    <tr>\n",
       "      <th>Courtelary</th>\n",
       "      <td>80.2</td>\n",
       "      <td>17.0</td>\n",
       "      <td>15</td>\n",
       "      <td>12</td>\n",
       "      <td>9.96</td>\n",
       "      <td>22.2</td>\n",
       "    </tr>\n",
       "  </tbody>\n",
       "</table>\n",
       "</div>"
      ],
      "text/plain": [
       "            fertility  agriculture  examination  education  catholic  \\\n",
       "Courtelary       80.2         17.0           15         12      9.96   \n",
       "\n",
       "            infant_mortality  \n",
       "Courtelary              22.2  "
      ]
     },
     "execution_count": 5,
     "metadata": {},
     "output_type": "execute_result"
    }
   ],
   "source": [
    "df.head(1)"
   ]
  },
  {
   "cell_type": "markdown",
   "metadata": {},
   "source": [
    "## 1. Split the data into train, validate, and test datasets."
   ]
  },
  {
   "cell_type": "code",
   "execution_count": 6,
   "metadata": {},
   "outputs": [],
   "source": [
    "# split dataset\n",
    "train_validate, test = train_test_split(df, test_size = .2, random_state = 123)\n",
    "train, validate = train_test_split(train_validate, test_size = .3, random_state = 123)\n",
    "train.shape, validate.shape, test.shape\n",
    "\n",
    "# Assign variables\n",
    "# x df's are all numeric cols except tip\n",
    "X_train = train.drop(columns=['fertility'])\n",
    "X_validate = validate.drop(columns=['fertility'])\n",
    "X_test = test.drop(columns=['fertility'])\n",
    "\n",
    "# y df's are just fertility\n",
    "y_train = train[['fertility']]\n",
    "y_validate = validate[['fertility']]\n",
    "y_test = test[['fertility']]\n",
    "\n",
    "scaler = MinMaxScaler(copy=True).fit(X_train)\n",
    "\n",
    "X_train_scaled = scaler.transform(X_train)\n",
    "X_validate_scaled = scaler.transform(X_validate)\n",
    "X_test_scaled = scaler.transform(X_test)\n",
    "\n",
    "X_train_scaled = pd.DataFrame(X_train_scaled, \n",
    "                              columns=X_train.columns.values).\\\n",
    "                            set_index([X_train.index.values])\n",
    "\n",
    "X_validate_scaled = pd.DataFrame(X_validate_scaled, \n",
    "                                columns=X_validate.columns.values).\\\n",
    "                            set_index([X_validate.index.values])\n",
    "\n",
    "X_test_scaled = pd.DataFrame(X_test_scaled, \n",
    "                                columns=X_test.columns.values).\\\n",
    "                            set_index([X_test.index.values])"
   ]
  },
  {
   "cell_type": "markdown",
   "metadata": {},
   "source": [
    "# Create a Baseline:"
   ]
  },
  {
   "cell_type": "code",
   "execution_count": 7,
   "metadata": {},
   "outputs": [
    {
     "data": {
      "text/plain": [
       "fertility    71.536\n",
       "dtype: float64"
      ]
     },
     "execution_count": 7,
     "metadata": {},
     "output_type": "execute_result"
    }
   ],
   "source": [
    "np.mean(y_train)"
   ]
  },
  {
   "cell_type": "code",
   "execution_count": 8,
   "metadata": {},
   "outputs": [
    {
     "data": {
      "text/plain": [
       "(25, 1)"
      ]
     },
     "execution_count": 8,
     "metadata": {},
     "output_type": "execute_result"
    }
   ],
   "source": [
    "y_train.shape"
   ]
  },
  {
   "cell_type": "code",
   "execution_count": 9,
   "metadata": {},
   "outputs": [
    {
     "data": {
      "text/plain": [
       "47.762752000000006"
      ]
     },
     "execution_count": 9,
     "metadata": {},
     "output_type": "execute_result"
    }
   ],
   "source": [
    "# encode as variable\n",
    "# np.full modiefies shape turns value in to a full series object\n",
    "\n",
    "baseline_rmse = mean_squared_error(y_train, np.full(25, np.mean(y_train)))**1/2\n",
    "baseline_rmse  # Model to beat 48% Fertility Rate "
   ]
  },
  {
   "cell_type": "markdown",
   "metadata": {},
   "source": [
    "## 2. Create a model (LinearRegression)"
   ]
  },
  {
   "cell_type": "markdown",
   "metadata": {},
   "source": [
    "#### Train"
   ]
  },
  {
   "cell_type": "code",
   "execution_count": 10,
   "metadata": {},
   "outputs": [
    {
     "data": {
      "text/plain": [
       "4.571043042889271"
      ]
     },
     "execution_count": 10,
     "metadata": {},
     "output_type": "execute_result"
    }
   ],
   "source": [
    "# Make Model\n",
    "lm = LinearRegression(normalize=True)\n",
    "# Fit Model\n",
    "lm.fit(X_train_scaled, y_train)\n",
    "# Make Predictions\n",
    "lm_pred = lm.predict(X_train_scaled)\n",
    "# Compute root mean squared error\n",
    "lm_rmse = mean_squared_error(y_train, lm_pred)**(1/2)\n",
    "lm_rmse"
   ]
  },
  {
   "cell_type": "markdown",
   "metadata": {},
   "source": [
    "#### Validate"
   ]
  },
  {
   "cell_type": "code",
   "execution_count": 11,
   "metadata": {},
   "outputs": [
    {
     "data": {
      "text/plain": [
       "12.132738217927692"
      ]
     },
     "execution_count": 11,
     "metadata": {},
     "output_type": "execute_result"
    }
   ],
   "source": [
    "# Make Predictions\n",
    "lm_pred_v = lm.predict(X_validate_scaled)\n",
    "# Compute root mean squared error\n",
    "lm_rmse_v = mean_squared_error(y_validate, lm_pred_v)**(1/2)\n",
    "lm_rmse_v"
   ]
  },
  {
   "cell_type": "markdown",
   "metadata": {},
   "source": [
    "***\n",
    "\n",
    "**Takeaway**\n",
    "- Validate is much worse then Train, Model most likely over fit\n",
    "\n",
    "***"
   ]
  },
  {
   "cell_type": "markdown",
   "metadata": {},
   "source": [
    "## 3. Create a model (LassoLars)"
   ]
  },
  {
   "cell_type": "markdown",
   "metadata": {},
   "source": [
    "#### Train"
   ]
  },
  {
   "cell_type": "code",
   "execution_count": 19,
   "metadata": {},
   "outputs": [
    {
     "data": {
      "text/plain": [
       "8.900787755452747"
      ]
     },
     "execution_count": 19,
     "metadata": {},
     "output_type": "execute_result"
    }
   ],
   "source": [
    "# Make a model\n",
    "lars = LassoLars(alpha=1)\n",
    "# Fit a model\n",
    "lars.fit(X_train_scaled, y_train)\n",
    "# Make Predictions\n",
    "lars_pred = lars.predict(X_train_scaled)\n",
    "# Computer root mean squared error\n",
    "lars_rmse = mean_squared_error(y_train, lars_pred)**(1/2)\n",
    "lars_rmse"
   ]
  },
  {
   "cell_type": "markdown",
   "metadata": {},
   "source": [
    "#### Validate"
   ]
  },
  {
   "cell_type": "code",
   "execution_count": 20,
   "metadata": {},
   "outputs": [
    {
     "data": {
      "text/plain": [
       "14.583862842774934"
      ]
     },
     "execution_count": 20,
     "metadata": {},
     "output_type": "execute_result"
    }
   ],
   "source": [
    "# Make predictions\n",
    "lars_pred_v = lars.predict(X_validate_scaled)\n",
    "# Compute root mean squared error\n",
    "lars_rmse_v = mean_squared_error(y_validate, lars_pred_v)**(1/2)\n",
    "lars_rmse_v"
   ]
  },
  {
   "cell_type": "markdown",
   "metadata": {},
   "source": [
    "***\n",
    "\n",
    "**Takeaway**\n",
    "- Validate is much worse then Train, Model most likely over fit\n",
    "\n",
    "***"
   ]
  },
  {
   "cell_type": "markdown",
   "metadata": {},
   "source": [
    "## 4. Create a model (Polynomial Features)"
   ]
  },
  {
   "cell_type": "markdown",
   "metadata": {},
   "source": [
    "#### Train"
   ]
  },
  {
   "cell_type": "code",
   "execution_count": 14,
   "metadata": {},
   "outputs": [
    {
     "data": {
      "text/plain": [
       "2.58939426066832"
      ]
     },
     "execution_count": 14,
     "metadata": {},
     "output_type": "execute_result"
    }
   ],
   "source": [
    "# Make a model\n",
    "pf = PolynomialFeatures(degree=2)\n",
    "\n",
    "# Fit and Transform model\n",
    "# to get a new set of features..which are the original features sqauared\n",
    "X_train_squared = pf.fit_transform(X_train_scaled)\n",
    "X_validate_squared = pf.transform(X_validate_scaled)\n",
    "\n",
    "# Feed new features in to linear model. \n",
    "lm_squared = LinearRegression()\n",
    "lm_squared.fit(X_train_squared, y_train)\n",
    "# Make predictions\n",
    "lm_squared_pred = lm_squared.predict(X_train_squared)\n",
    "# Compute root mean squared error\n",
    "lm_squared_rmse = mean_squared_error(y_train, lm_squared_pred)**(1/2)\n",
    "lm_squared_rmse"
   ]
  },
  {
   "cell_type": "markdown",
   "metadata": {},
   "source": [
    "#### Validate"
   ]
  },
  {
   "cell_type": "code",
   "execution_count": 15,
   "metadata": {},
   "outputs": [
    {
     "data": {
      "text/plain": [
       "26.657466827351612"
      ]
     },
     "execution_count": 15,
     "metadata": {},
     "output_type": "execute_result"
    }
   ],
   "source": [
    "# Make predictions\n",
    "lm_squared_pred_v = lm_squared.predict(X_validate_squared)\n",
    "# Compute root mean squared error\n",
    "lm_squared_rmse_v = mean_squared_error(y_validate, lm_squared_pred_v)**(1/2)\n",
    "lm_squared_rmse_v"
   ]
  },
  {
   "cell_type": "markdown",
   "metadata": {},
   "source": [
    "***\n",
    "\n",
    "**Takeaway**\n",
    "- Validate is much worse then Train, Model most likely over fit\n",
    "\n",
    "***"
   ]
  },
  {
   "cell_type": "markdown",
   "metadata": {},
   "source": [
    "## 5. Create model(TweedieRegressor)"
   ]
  },
  {
   "cell_type": "markdown",
   "metadata": {},
   "source": [
    "#### Train"
   ]
  },
  {
   "cell_type": "code",
   "execution_count": 16,
   "metadata": {},
   "outputs": [
    {
     "data": {
      "text/plain": [
       "6.454876751209331"
      ]
     },
     "execution_count": 16,
     "metadata": {},
     "output_type": "execute_result"
    }
   ],
   "source": [
    "# Make Model\n",
    "tw = TweedieRegressor(power=0, alpha=0.1) # 0 = normal distribution\n",
    "# Fit Model\n",
    "tw.fit(X_train_scaled, y_train)\n",
    "# Make Predictions\n",
    "tw_pred = tw.predict(X_train_scaled)\n",
    "# Compute root mean squared error\n",
    "tw_rmse = mean_squared_error(y_train, tw_pred)**(1/2)\n",
    "tw_rmse"
   ]
  },
  {
   "cell_type": "markdown",
   "metadata": {},
   "source": [
    "#### Validate"
   ]
  },
  {
   "cell_type": "code",
   "execution_count": 17,
   "metadata": {},
   "outputs": [
    {
     "data": {
      "text/plain": [
       "13.234925723967551"
      ]
     },
     "execution_count": 17,
     "metadata": {},
     "output_type": "execute_result"
    }
   ],
   "source": [
    "# Make predictions\n",
    "tw_pred_v = tw.predict(X_validate_scaled)\n",
    "# Compute root mean squared error\n",
    "tw_rmse_v = mean_squared_error(y_validate, tw_pred_v)**(1/2)\n",
    "tw_rmse_v"
   ]
  },
  {
   "cell_type": "markdown",
   "metadata": {},
   "source": [
    "***\n",
    "\n",
    "**Takeaway**\n",
    "- Validate is much worse then Train, Model most likely over fit\n",
    "\n",
    "***"
   ]
  },
  {
   "cell_type": "markdown",
   "metadata": {},
   "source": [
    "#### Test"
   ]
  },
  {
   "cell_type": "code",
   "execution_count": 22,
   "metadata": {},
   "outputs": [
    {
     "data": {
      "text/plain": [
       "10.67992101123686"
      ]
     },
     "execution_count": 22,
     "metadata": {},
     "output_type": "execute_result"
    }
   ],
   "source": [
    "# Make Predictions (On best Model)\n",
    "lm_pred_test = lm.predict(X_test_scaled)\n",
    "# Compute root mean squared error\n",
    "lm_rmse_test = mean_squared_error(y_test, lm_pred_test)**(1/2)\n",
    "lm_rmse_test"
   ]
  },
  {
   "cell_type": "markdown",
   "metadata": {},
   "source": [
    "\n",
    "\n",
    "***\n",
    "\n",
    "**Takeaway**\n",
    "- Model does not beat baseline, back to the drawing board....\n",
    "\n",
    "***\n"
   ]
  },
  {
   "cell_type": "code",
   "execution_count": null,
   "metadata": {},
   "outputs": [],
   "source": []
  }
 ],
 "metadata": {
  "kernelspec": {
   "display_name": "Python 3",
   "language": "python",
   "name": "python3"
  },
  "language_info": {
   "codemirror_mode": {
    "name": "ipython",
    "version": 3
   },
   "file_extension": ".py",
   "mimetype": "text/x-python",
   "name": "python",
   "nbconvert_exporter": "python",
   "pygments_lexer": "ipython3",
   "version": "3.8.3"
  }
 },
 "nbformat": 4,
 "nbformat_minor": 4
}
